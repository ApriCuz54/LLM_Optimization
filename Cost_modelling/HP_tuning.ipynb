{
  "nbformat": 4,
  "nbformat_minor": 0,
  "metadata": {
    "colab": {
      "provenance": [],
      "gpuType": "T4"
    },
    "kernelspec": {
      "name": "python3",
      "display_name": "Python 3"
    },
    "language_info": {
      "name": "python"
    },
    "accelerator": "GPU",
    "widgets": {
      "application/vnd.jupyter.widget-state+json": {
        "0d06cf8319ae4c3899cb8d6a6847866e": {
          "model_module": "@jupyter-widgets/controls",
          "model_name": "HBoxModel",
          "model_module_version": "1.5.0",
          "state": {
            "_dom_classes": [],
            "_model_module": "@jupyter-widgets/controls",
            "_model_module_version": "1.5.0",
            "_model_name": "HBoxModel",
            "_view_count": null,
            "_view_module": "@jupyter-widgets/controls",
            "_view_module_version": "1.5.0",
            "_view_name": "HBoxView",
            "box_style": "",
            "children": [
              "IPY_MODEL_119b6d87db184264b6d6089c6088561c",
              "IPY_MODEL_56d5c386b4a34b01ac2313766944cb45",
              "IPY_MODEL_9d790ffc452e4aa09b416fc90364916b"
            ],
            "layout": "IPY_MODEL_99a63b00785b40c98d3cb8929578f66a"
          }
        },
        "119b6d87db184264b6d6089c6088561c": {
          "model_module": "@jupyter-widgets/controls",
          "model_name": "HTMLModel",
          "model_module_version": "1.5.0",
          "state": {
            "_dom_classes": [],
            "_model_module": "@jupyter-widgets/controls",
            "_model_module_version": "1.5.0",
            "_model_name": "HTMLModel",
            "_view_count": null,
            "_view_module": "@jupyter-widgets/controls",
            "_view_module_version": "1.5.0",
            "_view_name": "HTMLView",
            "description": "",
            "description_tooltip": null,
            "layout": "IPY_MODEL_dc59388ed45842c5a9634b7662c0cd05",
            "placeholder": "​",
            "style": "IPY_MODEL_319e60862e6c4685a398b596c436fe05",
            "value": "tokenizer_config.json: 100%"
          }
        },
        "56d5c386b4a34b01ac2313766944cb45": {
          "model_module": "@jupyter-widgets/controls",
          "model_name": "FloatProgressModel",
          "model_module_version": "1.5.0",
          "state": {
            "_dom_classes": [],
            "_model_module": "@jupyter-widgets/controls",
            "_model_module_version": "1.5.0",
            "_model_name": "FloatProgressModel",
            "_view_count": null,
            "_view_module": "@jupyter-widgets/controls",
            "_view_module_version": "1.5.0",
            "_view_name": "ProgressView",
            "bar_style": "success",
            "description": "",
            "description_tooltip": null,
            "layout": "IPY_MODEL_a5681c933b4542f8b0527b8994aa96d4",
            "max": 48,
            "min": 0,
            "orientation": "horizontal",
            "style": "IPY_MODEL_056bfc3f09464c7196f5b1bb12e4a55e",
            "value": 48
          }
        },
        "9d790ffc452e4aa09b416fc90364916b": {
          "model_module": "@jupyter-widgets/controls",
          "model_name": "HTMLModel",
          "model_module_version": "1.5.0",
          "state": {
            "_dom_classes": [],
            "_model_module": "@jupyter-widgets/controls",
            "_model_module_version": "1.5.0",
            "_model_name": "HTMLModel",
            "_view_count": null,
            "_view_module": "@jupyter-widgets/controls",
            "_view_module_version": "1.5.0",
            "_view_name": "HTMLView",
            "description": "",
            "description_tooltip": null,
            "layout": "IPY_MODEL_d79fec496dd3488dbdf52293355e525b",
            "placeholder": "​",
            "style": "IPY_MODEL_be37aa50aaef492c83856d70866df1cb",
            "value": " 48.0/48.0 [00:00&lt;00:00, 3.12kB/s]"
          }
        },
        "99a63b00785b40c98d3cb8929578f66a": {
          "model_module": "@jupyter-widgets/base",
          "model_name": "LayoutModel",
          "model_module_version": "1.2.0",
          "state": {
            "_model_module": "@jupyter-widgets/base",
            "_model_module_version": "1.2.0",
            "_model_name": "LayoutModel",
            "_view_count": null,
            "_view_module": "@jupyter-widgets/base",
            "_view_module_version": "1.2.0",
            "_view_name": "LayoutView",
            "align_content": null,
            "align_items": null,
            "align_self": null,
            "border": null,
            "bottom": null,
            "display": null,
            "flex": null,
            "flex_flow": null,
            "grid_area": null,
            "grid_auto_columns": null,
            "grid_auto_flow": null,
            "grid_auto_rows": null,
            "grid_column": null,
            "grid_gap": null,
            "grid_row": null,
            "grid_template_areas": null,
            "grid_template_columns": null,
            "grid_template_rows": null,
            "height": null,
            "justify_content": null,
            "justify_items": null,
            "left": null,
            "margin": null,
            "max_height": null,
            "max_width": null,
            "min_height": null,
            "min_width": null,
            "object_fit": null,
            "object_position": null,
            "order": null,
            "overflow": null,
            "overflow_x": null,
            "overflow_y": null,
            "padding": null,
            "right": null,
            "top": null,
            "visibility": null,
            "width": null
          }
        },
        "dc59388ed45842c5a9634b7662c0cd05": {
          "model_module": "@jupyter-widgets/base",
          "model_name": "LayoutModel",
          "model_module_version": "1.2.0",
          "state": {
            "_model_module": "@jupyter-widgets/base",
            "_model_module_version": "1.2.0",
            "_model_name": "LayoutModel",
            "_view_count": null,
            "_view_module": "@jupyter-widgets/base",
            "_view_module_version": "1.2.0",
            "_view_name": "LayoutView",
            "align_content": null,
            "align_items": null,
            "align_self": null,
            "border": null,
            "bottom": null,
            "display": null,
            "flex": null,
            "flex_flow": null,
            "grid_area": null,
            "grid_auto_columns": null,
            "grid_auto_flow": null,
            "grid_auto_rows": null,
            "grid_column": null,
            "grid_gap": null,
            "grid_row": null,
            "grid_template_areas": null,
            "grid_template_columns": null,
            "grid_template_rows": null,
            "height": null,
            "justify_content": null,
            "justify_items": null,
            "left": null,
            "margin": null,
            "max_height": null,
            "max_width": null,
            "min_height": null,
            "min_width": null,
            "object_fit": null,
            "object_position": null,
            "order": null,
            "overflow": null,
            "overflow_x": null,
            "overflow_y": null,
            "padding": null,
            "right": null,
            "top": null,
            "visibility": null,
            "width": null
          }
        },
        "319e60862e6c4685a398b596c436fe05": {
          "model_module": "@jupyter-widgets/controls",
          "model_name": "DescriptionStyleModel",
          "model_module_version": "1.5.0",
          "state": {
            "_model_module": "@jupyter-widgets/controls",
            "_model_module_version": "1.5.0",
            "_model_name": "DescriptionStyleModel",
            "_view_count": null,
            "_view_module": "@jupyter-widgets/base",
            "_view_module_version": "1.2.0",
            "_view_name": "StyleView",
            "description_width": ""
          }
        },
        "a5681c933b4542f8b0527b8994aa96d4": {
          "model_module": "@jupyter-widgets/base",
          "model_name": "LayoutModel",
          "model_module_version": "1.2.0",
          "state": {
            "_model_module": "@jupyter-widgets/base",
            "_model_module_version": "1.2.0",
            "_model_name": "LayoutModel",
            "_view_count": null,
            "_view_module": "@jupyter-widgets/base",
            "_view_module_version": "1.2.0",
            "_view_name": "LayoutView",
            "align_content": null,
            "align_items": null,
            "align_self": null,
            "border": null,
            "bottom": null,
            "display": null,
            "flex": null,
            "flex_flow": null,
            "grid_area": null,
            "grid_auto_columns": null,
            "grid_auto_flow": null,
            "grid_auto_rows": null,
            "grid_column": null,
            "grid_gap": null,
            "grid_row": null,
            "grid_template_areas": null,
            "grid_template_columns": null,
            "grid_template_rows": null,
            "height": null,
            "justify_content": null,
            "justify_items": null,
            "left": null,
            "margin": null,
            "max_height": null,
            "max_width": null,
            "min_height": null,
            "min_width": null,
            "object_fit": null,
            "object_position": null,
            "order": null,
            "overflow": null,
            "overflow_x": null,
            "overflow_y": null,
            "padding": null,
            "right": null,
            "top": null,
            "visibility": null,
            "width": null
          }
        },
        "056bfc3f09464c7196f5b1bb12e4a55e": {
          "model_module": "@jupyter-widgets/controls",
          "model_name": "ProgressStyleModel",
          "model_module_version": "1.5.0",
          "state": {
            "_model_module": "@jupyter-widgets/controls",
            "_model_module_version": "1.5.0",
            "_model_name": "ProgressStyleModel",
            "_view_count": null,
            "_view_module": "@jupyter-widgets/base",
            "_view_module_version": "1.2.0",
            "_view_name": "StyleView",
            "bar_color": null,
            "description_width": ""
          }
        },
        "d79fec496dd3488dbdf52293355e525b": {
          "model_module": "@jupyter-widgets/base",
          "model_name": "LayoutModel",
          "model_module_version": "1.2.0",
          "state": {
            "_model_module": "@jupyter-widgets/base",
            "_model_module_version": "1.2.0",
            "_model_name": "LayoutModel",
            "_view_count": null,
            "_view_module": "@jupyter-widgets/base",
            "_view_module_version": "1.2.0",
            "_view_name": "LayoutView",
            "align_content": null,
            "align_items": null,
            "align_self": null,
            "border": null,
            "bottom": null,
            "display": null,
            "flex": null,
            "flex_flow": null,
            "grid_area": null,
            "grid_auto_columns": null,
            "grid_auto_flow": null,
            "grid_auto_rows": null,
            "grid_column": null,
            "grid_gap": null,
            "grid_row": null,
            "grid_template_areas": null,
            "grid_template_columns": null,
            "grid_template_rows": null,
            "height": null,
            "justify_content": null,
            "justify_items": null,
            "left": null,
            "margin": null,
            "max_height": null,
            "max_width": null,
            "min_height": null,
            "min_width": null,
            "object_fit": null,
            "object_position": null,
            "order": null,
            "overflow": null,
            "overflow_x": null,
            "overflow_y": null,
            "padding": null,
            "right": null,
            "top": null,
            "visibility": null,
            "width": null
          }
        },
        "be37aa50aaef492c83856d70866df1cb": {
          "model_module": "@jupyter-widgets/controls",
          "model_name": "DescriptionStyleModel",
          "model_module_version": "1.5.0",
          "state": {
            "_model_module": "@jupyter-widgets/controls",
            "_model_module_version": "1.5.0",
            "_model_name": "DescriptionStyleModel",
            "_view_count": null,
            "_view_module": "@jupyter-widgets/base",
            "_view_module_version": "1.2.0",
            "_view_name": "StyleView",
            "description_width": ""
          }
        },
        "06e982f8de3a45e4ba2c199592712b4b": {
          "model_module": "@jupyter-widgets/controls",
          "model_name": "HBoxModel",
          "model_module_version": "1.5.0",
          "state": {
            "_dom_classes": [],
            "_model_module": "@jupyter-widgets/controls",
            "_model_module_version": "1.5.0",
            "_model_name": "HBoxModel",
            "_view_count": null,
            "_view_module": "@jupyter-widgets/controls",
            "_view_module_version": "1.5.0",
            "_view_name": "HBoxView",
            "box_style": "",
            "children": [
              "IPY_MODEL_0cd77ad3449a484297ba2c5a6834334a",
              "IPY_MODEL_658297f4a11a43bdb2471b4fc4a79dec",
              "IPY_MODEL_2255a62def67438daf3ba91d7a63060b"
            ],
            "layout": "IPY_MODEL_05e4fd52100e4445b12d98f908dd4a7d"
          }
        },
        "0cd77ad3449a484297ba2c5a6834334a": {
          "model_module": "@jupyter-widgets/controls",
          "model_name": "HTMLModel",
          "model_module_version": "1.5.0",
          "state": {
            "_dom_classes": [],
            "_model_module": "@jupyter-widgets/controls",
            "_model_module_version": "1.5.0",
            "_model_name": "HTMLModel",
            "_view_count": null,
            "_view_module": "@jupyter-widgets/controls",
            "_view_module_version": "1.5.0",
            "_view_name": "HTMLView",
            "description": "",
            "description_tooltip": null,
            "layout": "IPY_MODEL_a2a6829889e449cfa24f9e2cc32658f3",
            "placeholder": "​",
            "style": "IPY_MODEL_2b90709de21543f6b25666b178b9ebcb",
            "value": "config.json: 100%"
          }
        },
        "658297f4a11a43bdb2471b4fc4a79dec": {
          "model_module": "@jupyter-widgets/controls",
          "model_name": "FloatProgressModel",
          "model_module_version": "1.5.0",
          "state": {
            "_dom_classes": [],
            "_model_module": "@jupyter-widgets/controls",
            "_model_module_version": "1.5.0",
            "_model_name": "FloatProgressModel",
            "_view_count": null,
            "_view_module": "@jupyter-widgets/controls",
            "_view_module_version": "1.5.0",
            "_view_name": "ProgressView",
            "bar_style": "success",
            "description": "",
            "description_tooltip": null,
            "layout": "IPY_MODEL_d909b01f7c014e6b863b0ffc48f5a523",
            "max": 483,
            "min": 0,
            "orientation": "horizontal",
            "style": "IPY_MODEL_7a785c0baa74492e83abac3d391cbe71",
            "value": 483
          }
        },
        "2255a62def67438daf3ba91d7a63060b": {
          "model_module": "@jupyter-widgets/controls",
          "model_name": "HTMLModel",
          "model_module_version": "1.5.0",
          "state": {
            "_dom_classes": [],
            "_model_module": "@jupyter-widgets/controls",
            "_model_module_version": "1.5.0",
            "_model_name": "HTMLModel",
            "_view_count": null,
            "_view_module": "@jupyter-widgets/controls",
            "_view_module_version": "1.5.0",
            "_view_name": "HTMLView",
            "description": "",
            "description_tooltip": null,
            "layout": "IPY_MODEL_53afa715a7454f4c85216cc60f75efb0",
            "placeholder": "​",
            "style": "IPY_MODEL_4c0fc9244fd345f1a2c580580538f641",
            "value": " 483/483 [00:00&lt;00:00, 47.0kB/s]"
          }
        },
        "05e4fd52100e4445b12d98f908dd4a7d": {
          "model_module": "@jupyter-widgets/base",
          "model_name": "LayoutModel",
          "model_module_version": "1.2.0",
          "state": {
            "_model_module": "@jupyter-widgets/base",
            "_model_module_version": "1.2.0",
            "_model_name": "LayoutModel",
            "_view_count": null,
            "_view_module": "@jupyter-widgets/base",
            "_view_module_version": "1.2.0",
            "_view_name": "LayoutView",
            "align_content": null,
            "align_items": null,
            "align_self": null,
            "border": null,
            "bottom": null,
            "display": null,
            "flex": null,
            "flex_flow": null,
            "grid_area": null,
            "grid_auto_columns": null,
            "grid_auto_flow": null,
            "grid_auto_rows": null,
            "grid_column": null,
            "grid_gap": null,
            "grid_row": null,
            "grid_template_areas": null,
            "grid_template_columns": null,
            "grid_template_rows": null,
            "height": null,
            "justify_content": null,
            "justify_items": null,
            "left": null,
            "margin": null,
            "max_height": null,
            "max_width": null,
            "min_height": null,
            "min_width": null,
            "object_fit": null,
            "object_position": null,
            "order": null,
            "overflow": null,
            "overflow_x": null,
            "overflow_y": null,
            "padding": null,
            "right": null,
            "top": null,
            "visibility": null,
            "width": null
          }
        },
        "a2a6829889e449cfa24f9e2cc32658f3": {
          "model_module": "@jupyter-widgets/base",
          "model_name": "LayoutModel",
          "model_module_version": "1.2.0",
          "state": {
            "_model_module": "@jupyter-widgets/base",
            "_model_module_version": "1.2.0",
            "_model_name": "LayoutModel",
            "_view_count": null,
            "_view_module": "@jupyter-widgets/base",
            "_view_module_version": "1.2.0",
            "_view_name": "LayoutView",
            "align_content": null,
            "align_items": null,
            "align_self": null,
            "border": null,
            "bottom": null,
            "display": null,
            "flex": null,
            "flex_flow": null,
            "grid_area": null,
            "grid_auto_columns": null,
            "grid_auto_flow": null,
            "grid_auto_rows": null,
            "grid_column": null,
            "grid_gap": null,
            "grid_row": null,
            "grid_template_areas": null,
            "grid_template_columns": null,
            "grid_template_rows": null,
            "height": null,
            "justify_content": null,
            "justify_items": null,
            "left": null,
            "margin": null,
            "max_height": null,
            "max_width": null,
            "min_height": null,
            "min_width": null,
            "object_fit": null,
            "object_position": null,
            "order": null,
            "overflow": null,
            "overflow_x": null,
            "overflow_y": null,
            "padding": null,
            "right": null,
            "top": null,
            "visibility": null,
            "width": null
          }
        },
        "2b90709de21543f6b25666b178b9ebcb": {
          "model_module": "@jupyter-widgets/controls",
          "model_name": "DescriptionStyleModel",
          "model_module_version": "1.5.0",
          "state": {
            "_model_module": "@jupyter-widgets/controls",
            "_model_module_version": "1.5.0",
            "_model_name": "DescriptionStyleModel",
            "_view_count": null,
            "_view_module": "@jupyter-widgets/base",
            "_view_module_version": "1.2.0",
            "_view_name": "StyleView",
            "description_width": ""
          }
        },
        "d909b01f7c014e6b863b0ffc48f5a523": {
          "model_module": "@jupyter-widgets/base",
          "model_name": "LayoutModel",
          "model_module_version": "1.2.0",
          "state": {
            "_model_module": "@jupyter-widgets/base",
            "_model_module_version": "1.2.0",
            "_model_name": "LayoutModel",
            "_view_count": null,
            "_view_module": "@jupyter-widgets/base",
            "_view_module_version": "1.2.0",
            "_view_name": "LayoutView",
            "align_content": null,
            "align_items": null,
            "align_self": null,
            "border": null,
            "bottom": null,
            "display": null,
            "flex": null,
            "flex_flow": null,
            "grid_area": null,
            "grid_auto_columns": null,
            "grid_auto_flow": null,
            "grid_auto_rows": null,
            "grid_column": null,
            "grid_gap": null,
            "grid_row": null,
            "grid_template_areas": null,
            "grid_template_columns": null,
            "grid_template_rows": null,
            "height": null,
            "justify_content": null,
            "justify_items": null,
            "left": null,
            "margin": null,
            "max_height": null,
            "max_width": null,
            "min_height": null,
            "min_width": null,
            "object_fit": null,
            "object_position": null,
            "order": null,
            "overflow": null,
            "overflow_x": null,
            "overflow_y": null,
            "padding": null,
            "right": null,
            "top": null,
            "visibility": null,
            "width": null
          }
        },
        "7a785c0baa74492e83abac3d391cbe71": {
          "model_module": "@jupyter-widgets/controls",
          "model_name": "ProgressStyleModel",
          "model_module_version": "1.5.0",
          "state": {
            "_model_module": "@jupyter-widgets/controls",
            "_model_module_version": "1.5.0",
            "_model_name": "ProgressStyleModel",
            "_view_count": null,
            "_view_module": "@jupyter-widgets/base",
            "_view_module_version": "1.2.0",
            "_view_name": "StyleView",
            "bar_color": null,
            "description_width": ""
          }
        },
        "53afa715a7454f4c85216cc60f75efb0": {
          "model_module": "@jupyter-widgets/base",
          "model_name": "LayoutModel",
          "model_module_version": "1.2.0",
          "state": {
            "_model_module": "@jupyter-widgets/base",
            "_model_module_version": "1.2.0",
            "_model_name": "LayoutModel",
            "_view_count": null,
            "_view_module": "@jupyter-widgets/base",
            "_view_module_version": "1.2.0",
            "_view_name": "LayoutView",
            "align_content": null,
            "align_items": null,
            "align_self": null,
            "border": null,
            "bottom": null,
            "display": null,
            "flex": null,
            "flex_flow": null,
            "grid_area": null,
            "grid_auto_columns": null,
            "grid_auto_flow": null,
            "grid_auto_rows": null,
            "grid_column": null,
            "grid_gap": null,
            "grid_row": null,
            "grid_template_areas": null,
            "grid_template_columns": null,
            "grid_template_rows": null,
            "height": null,
            "justify_content": null,
            "justify_items": null,
            "left": null,
            "margin": null,
            "max_height": null,
            "max_width": null,
            "min_height": null,
            "min_width": null,
            "object_fit": null,
            "object_position": null,
            "order": null,
            "overflow": null,
            "overflow_x": null,
            "overflow_y": null,
            "padding": null,
            "right": null,
            "top": null,
            "visibility": null,
            "width": null
          }
        },
        "4c0fc9244fd345f1a2c580580538f641": {
          "model_module": "@jupyter-widgets/controls",
          "model_name": "DescriptionStyleModel",
          "model_module_version": "1.5.0",
          "state": {
            "_model_module": "@jupyter-widgets/controls",
            "_model_module_version": "1.5.0",
            "_model_name": "DescriptionStyleModel",
            "_view_count": null,
            "_view_module": "@jupyter-widgets/base",
            "_view_module_version": "1.2.0",
            "_view_name": "StyleView",
            "description_width": ""
          }
        },
        "9e9a47093d87478699822f0267c4f929": {
          "model_module": "@jupyter-widgets/controls",
          "model_name": "HBoxModel",
          "model_module_version": "1.5.0",
          "state": {
            "_dom_classes": [],
            "_model_module": "@jupyter-widgets/controls",
            "_model_module_version": "1.5.0",
            "_model_name": "HBoxModel",
            "_view_count": null,
            "_view_module": "@jupyter-widgets/controls",
            "_view_module_version": "1.5.0",
            "_view_name": "HBoxView",
            "box_style": "",
            "children": [
              "IPY_MODEL_c38e50d991344e5fb6fd6615cbc59c88",
              "IPY_MODEL_393850a8790343fdb3ac19e00f68f1c5",
              "IPY_MODEL_d2bf02a4367e45a6987921eaffaff865"
            ],
            "layout": "IPY_MODEL_3a472a7b34ae491ea0af0cb8ff70b52a"
          }
        },
        "c38e50d991344e5fb6fd6615cbc59c88": {
          "model_module": "@jupyter-widgets/controls",
          "model_name": "HTMLModel",
          "model_module_version": "1.5.0",
          "state": {
            "_dom_classes": [],
            "_model_module": "@jupyter-widgets/controls",
            "_model_module_version": "1.5.0",
            "_model_name": "HTMLModel",
            "_view_count": null,
            "_view_module": "@jupyter-widgets/controls",
            "_view_module_version": "1.5.0",
            "_view_name": "HTMLView",
            "description": "",
            "description_tooltip": null,
            "layout": "IPY_MODEL_6913d0c3d50d44848222f93ffeed3ee0",
            "placeholder": "​",
            "style": "IPY_MODEL_dcf4921110684c3cbcb7500970c1323b",
            "value": "vocab.txt: 100%"
          }
        },
        "393850a8790343fdb3ac19e00f68f1c5": {
          "model_module": "@jupyter-widgets/controls",
          "model_name": "FloatProgressModel",
          "model_module_version": "1.5.0",
          "state": {
            "_dom_classes": [],
            "_model_module": "@jupyter-widgets/controls",
            "_model_module_version": "1.5.0",
            "_model_name": "FloatProgressModel",
            "_view_count": null,
            "_view_module": "@jupyter-widgets/controls",
            "_view_module_version": "1.5.0",
            "_view_name": "ProgressView",
            "bar_style": "success",
            "description": "",
            "description_tooltip": null,
            "layout": "IPY_MODEL_344e913e113a4820ba2ce72a96176532",
            "max": 231508,
            "min": 0,
            "orientation": "horizontal",
            "style": "IPY_MODEL_ff8b88653d0a4746b82234717af13548",
            "value": 231508
          }
        },
        "d2bf02a4367e45a6987921eaffaff865": {
          "model_module": "@jupyter-widgets/controls",
          "model_name": "HTMLModel",
          "model_module_version": "1.5.0",
          "state": {
            "_dom_classes": [],
            "_model_module": "@jupyter-widgets/controls",
            "_model_module_version": "1.5.0",
            "_model_name": "HTMLModel",
            "_view_count": null,
            "_view_module": "@jupyter-widgets/controls",
            "_view_module_version": "1.5.0",
            "_view_name": "HTMLView",
            "description": "",
            "description_tooltip": null,
            "layout": "IPY_MODEL_70eb513aeb3b4e57bd6c097bafece4a6",
            "placeholder": "​",
            "style": "IPY_MODEL_443f413c6dfb4dbda76cf84fdb223051",
            "value": " 232k/232k [00:00&lt;00:00, 2.73MB/s]"
          }
        },
        "3a472a7b34ae491ea0af0cb8ff70b52a": {
          "model_module": "@jupyter-widgets/base",
          "model_name": "LayoutModel",
          "model_module_version": "1.2.0",
          "state": {
            "_model_module": "@jupyter-widgets/base",
            "_model_module_version": "1.2.0",
            "_model_name": "LayoutModel",
            "_view_count": null,
            "_view_module": "@jupyter-widgets/base",
            "_view_module_version": "1.2.0",
            "_view_name": "LayoutView",
            "align_content": null,
            "align_items": null,
            "align_self": null,
            "border": null,
            "bottom": null,
            "display": null,
            "flex": null,
            "flex_flow": null,
            "grid_area": null,
            "grid_auto_columns": null,
            "grid_auto_flow": null,
            "grid_auto_rows": null,
            "grid_column": null,
            "grid_gap": null,
            "grid_row": null,
            "grid_template_areas": null,
            "grid_template_columns": null,
            "grid_template_rows": null,
            "height": null,
            "justify_content": null,
            "justify_items": null,
            "left": null,
            "margin": null,
            "max_height": null,
            "max_width": null,
            "min_height": null,
            "min_width": null,
            "object_fit": null,
            "object_position": null,
            "order": null,
            "overflow": null,
            "overflow_x": null,
            "overflow_y": null,
            "padding": null,
            "right": null,
            "top": null,
            "visibility": null,
            "width": null
          }
        },
        "6913d0c3d50d44848222f93ffeed3ee0": {
          "model_module": "@jupyter-widgets/base",
          "model_name": "LayoutModel",
          "model_module_version": "1.2.0",
          "state": {
            "_model_module": "@jupyter-widgets/base",
            "_model_module_version": "1.2.0",
            "_model_name": "LayoutModel",
            "_view_count": null,
            "_view_module": "@jupyter-widgets/base",
            "_view_module_version": "1.2.0",
            "_view_name": "LayoutView",
            "align_content": null,
            "align_items": null,
            "align_self": null,
            "border": null,
            "bottom": null,
            "display": null,
            "flex": null,
            "flex_flow": null,
            "grid_area": null,
            "grid_auto_columns": null,
            "grid_auto_flow": null,
            "grid_auto_rows": null,
            "grid_column": null,
            "grid_gap": null,
            "grid_row": null,
            "grid_template_areas": null,
            "grid_template_columns": null,
            "grid_template_rows": null,
            "height": null,
            "justify_content": null,
            "justify_items": null,
            "left": null,
            "margin": null,
            "max_height": null,
            "max_width": null,
            "min_height": null,
            "min_width": null,
            "object_fit": null,
            "object_position": null,
            "order": null,
            "overflow": null,
            "overflow_x": null,
            "overflow_y": null,
            "padding": null,
            "right": null,
            "top": null,
            "visibility": null,
            "width": null
          }
        },
        "dcf4921110684c3cbcb7500970c1323b": {
          "model_module": "@jupyter-widgets/controls",
          "model_name": "DescriptionStyleModel",
          "model_module_version": "1.5.0",
          "state": {
            "_model_module": "@jupyter-widgets/controls",
            "_model_module_version": "1.5.0",
            "_model_name": "DescriptionStyleModel",
            "_view_count": null,
            "_view_module": "@jupyter-widgets/base",
            "_view_module_version": "1.2.0",
            "_view_name": "StyleView",
            "description_width": ""
          }
        },
        "344e913e113a4820ba2ce72a96176532": {
          "model_module": "@jupyter-widgets/base",
          "model_name": "LayoutModel",
          "model_module_version": "1.2.0",
          "state": {
            "_model_module": "@jupyter-widgets/base",
            "_model_module_version": "1.2.0",
            "_model_name": "LayoutModel",
            "_view_count": null,
            "_view_module": "@jupyter-widgets/base",
            "_view_module_version": "1.2.0",
            "_view_name": "LayoutView",
            "align_content": null,
            "align_items": null,
            "align_self": null,
            "border": null,
            "bottom": null,
            "display": null,
            "flex": null,
            "flex_flow": null,
            "grid_area": null,
            "grid_auto_columns": null,
            "grid_auto_flow": null,
            "grid_auto_rows": null,
            "grid_column": null,
            "grid_gap": null,
            "grid_row": null,
            "grid_template_areas": null,
            "grid_template_columns": null,
            "grid_template_rows": null,
            "height": null,
            "justify_content": null,
            "justify_items": null,
            "left": null,
            "margin": null,
            "max_height": null,
            "max_width": null,
            "min_height": null,
            "min_width": null,
            "object_fit": null,
            "object_position": null,
            "order": null,
            "overflow": null,
            "overflow_x": null,
            "overflow_y": null,
            "padding": null,
            "right": null,
            "top": null,
            "visibility": null,
            "width": null
          }
        },
        "ff8b88653d0a4746b82234717af13548": {
          "model_module": "@jupyter-widgets/controls",
          "model_name": "ProgressStyleModel",
          "model_module_version": "1.5.0",
          "state": {
            "_model_module": "@jupyter-widgets/controls",
            "_model_module_version": "1.5.0",
            "_model_name": "ProgressStyleModel",
            "_view_count": null,
            "_view_module": "@jupyter-widgets/base",
            "_view_module_version": "1.2.0",
            "_view_name": "StyleView",
            "bar_color": null,
            "description_width": ""
          }
        },
        "70eb513aeb3b4e57bd6c097bafece4a6": {
          "model_module": "@jupyter-widgets/base",
          "model_name": "LayoutModel",
          "model_module_version": "1.2.0",
          "state": {
            "_model_module": "@jupyter-widgets/base",
            "_model_module_version": "1.2.0",
            "_model_name": "LayoutModel",
            "_view_count": null,
            "_view_module": "@jupyter-widgets/base",
            "_view_module_version": "1.2.0",
            "_view_name": "LayoutView",
            "align_content": null,
            "align_items": null,
            "align_self": null,
            "border": null,
            "bottom": null,
            "display": null,
            "flex": null,
            "flex_flow": null,
            "grid_area": null,
            "grid_auto_columns": null,
            "grid_auto_flow": null,
            "grid_auto_rows": null,
            "grid_column": null,
            "grid_gap": null,
            "grid_row": null,
            "grid_template_areas": null,
            "grid_template_columns": null,
            "grid_template_rows": null,
            "height": null,
            "justify_content": null,
            "justify_items": null,
            "left": null,
            "margin": null,
            "max_height": null,
            "max_width": null,
            "min_height": null,
            "min_width": null,
            "object_fit": null,
            "object_position": null,
            "order": null,
            "overflow": null,
            "overflow_x": null,
            "overflow_y": null,
            "padding": null,
            "right": null,
            "top": null,
            "visibility": null,
            "width": null
          }
        },
        "443f413c6dfb4dbda76cf84fdb223051": {
          "model_module": "@jupyter-widgets/controls",
          "model_name": "DescriptionStyleModel",
          "model_module_version": "1.5.0",
          "state": {
            "_model_module": "@jupyter-widgets/controls",
            "_model_module_version": "1.5.0",
            "_model_name": "DescriptionStyleModel",
            "_view_count": null,
            "_view_module": "@jupyter-widgets/base",
            "_view_module_version": "1.2.0",
            "_view_name": "StyleView",
            "description_width": ""
          }
        },
        "898908475dff4b60afe07c2fa53d0b43": {
          "model_module": "@jupyter-widgets/controls",
          "model_name": "HBoxModel",
          "model_module_version": "1.5.0",
          "state": {
            "_dom_classes": [],
            "_model_module": "@jupyter-widgets/controls",
            "_model_module_version": "1.5.0",
            "_model_name": "HBoxModel",
            "_view_count": null,
            "_view_module": "@jupyter-widgets/controls",
            "_view_module_version": "1.5.0",
            "_view_name": "HBoxView",
            "box_style": "",
            "children": [
              "IPY_MODEL_f93ba10d2a7a4f1189f1c6ed5d5f06a4",
              "IPY_MODEL_7284a92d4a0f4c4b8a987b71d63dbc7d",
              "IPY_MODEL_ceedb25091f543fba73b7d86f84422f3"
            ],
            "layout": "IPY_MODEL_0e8f059768d2489fb50e4666d4854c8a"
          }
        },
        "f93ba10d2a7a4f1189f1c6ed5d5f06a4": {
          "model_module": "@jupyter-widgets/controls",
          "model_name": "HTMLModel",
          "model_module_version": "1.5.0",
          "state": {
            "_dom_classes": [],
            "_model_module": "@jupyter-widgets/controls",
            "_model_module_version": "1.5.0",
            "_model_name": "HTMLModel",
            "_view_count": null,
            "_view_module": "@jupyter-widgets/controls",
            "_view_module_version": "1.5.0",
            "_view_name": "HTMLView",
            "description": "",
            "description_tooltip": null,
            "layout": "IPY_MODEL_6d7c0a0215434d89aa839c2c5785e5f6",
            "placeholder": "​",
            "style": "IPY_MODEL_8d532cfb7c414511b92d2cf15565cd9d",
            "value": "tokenizer.json: 100%"
          }
        },
        "7284a92d4a0f4c4b8a987b71d63dbc7d": {
          "model_module": "@jupyter-widgets/controls",
          "model_name": "FloatProgressModel",
          "model_module_version": "1.5.0",
          "state": {
            "_dom_classes": [],
            "_model_module": "@jupyter-widgets/controls",
            "_model_module_version": "1.5.0",
            "_model_name": "FloatProgressModel",
            "_view_count": null,
            "_view_module": "@jupyter-widgets/controls",
            "_view_module_version": "1.5.0",
            "_view_name": "ProgressView",
            "bar_style": "success",
            "description": "",
            "description_tooltip": null,
            "layout": "IPY_MODEL_3c5e74ad56d64c558012622d8bb7e33e",
            "max": 466062,
            "min": 0,
            "orientation": "horizontal",
            "style": "IPY_MODEL_ac3ff2f47cc343d6baae339fe2e10b32",
            "value": 466062
          }
        },
        "ceedb25091f543fba73b7d86f84422f3": {
          "model_module": "@jupyter-widgets/controls",
          "model_name": "HTMLModel",
          "model_module_version": "1.5.0",
          "state": {
            "_dom_classes": [],
            "_model_module": "@jupyter-widgets/controls",
            "_model_module_version": "1.5.0",
            "_model_name": "HTMLModel",
            "_view_count": null,
            "_view_module": "@jupyter-widgets/controls",
            "_view_module_version": "1.5.0",
            "_view_name": "HTMLView",
            "description": "",
            "description_tooltip": null,
            "layout": "IPY_MODEL_7761f268017d4d15ac50a55baad13b84",
            "placeholder": "​",
            "style": "IPY_MODEL_d9073407d95241a5bff51f1117caed7e",
            "value": " 466k/466k [00:00&lt;00:00, 2.80MB/s]"
          }
        },
        "0e8f059768d2489fb50e4666d4854c8a": {
          "model_module": "@jupyter-widgets/base",
          "model_name": "LayoutModel",
          "model_module_version": "1.2.0",
          "state": {
            "_model_module": "@jupyter-widgets/base",
            "_model_module_version": "1.2.0",
            "_model_name": "LayoutModel",
            "_view_count": null,
            "_view_module": "@jupyter-widgets/base",
            "_view_module_version": "1.2.0",
            "_view_name": "LayoutView",
            "align_content": null,
            "align_items": null,
            "align_self": null,
            "border": null,
            "bottom": null,
            "display": null,
            "flex": null,
            "flex_flow": null,
            "grid_area": null,
            "grid_auto_columns": null,
            "grid_auto_flow": null,
            "grid_auto_rows": null,
            "grid_column": null,
            "grid_gap": null,
            "grid_row": null,
            "grid_template_areas": null,
            "grid_template_columns": null,
            "grid_template_rows": null,
            "height": null,
            "justify_content": null,
            "justify_items": null,
            "left": null,
            "margin": null,
            "max_height": null,
            "max_width": null,
            "min_height": null,
            "min_width": null,
            "object_fit": null,
            "object_position": null,
            "order": null,
            "overflow": null,
            "overflow_x": null,
            "overflow_y": null,
            "padding": null,
            "right": null,
            "top": null,
            "visibility": null,
            "width": null
          }
        },
        "6d7c0a0215434d89aa839c2c5785e5f6": {
          "model_module": "@jupyter-widgets/base",
          "model_name": "LayoutModel",
          "model_module_version": "1.2.0",
          "state": {
            "_model_module": "@jupyter-widgets/base",
            "_model_module_version": "1.2.0",
            "_model_name": "LayoutModel",
            "_view_count": null,
            "_view_module": "@jupyter-widgets/base",
            "_view_module_version": "1.2.0",
            "_view_name": "LayoutView",
            "align_content": null,
            "align_items": null,
            "align_self": null,
            "border": null,
            "bottom": null,
            "display": null,
            "flex": null,
            "flex_flow": null,
            "grid_area": null,
            "grid_auto_columns": null,
            "grid_auto_flow": null,
            "grid_auto_rows": null,
            "grid_column": null,
            "grid_gap": null,
            "grid_row": null,
            "grid_template_areas": null,
            "grid_template_columns": null,
            "grid_template_rows": null,
            "height": null,
            "justify_content": null,
            "justify_items": null,
            "left": null,
            "margin": null,
            "max_height": null,
            "max_width": null,
            "min_height": null,
            "min_width": null,
            "object_fit": null,
            "object_position": null,
            "order": null,
            "overflow": null,
            "overflow_x": null,
            "overflow_y": null,
            "padding": null,
            "right": null,
            "top": null,
            "visibility": null,
            "width": null
          }
        },
        "8d532cfb7c414511b92d2cf15565cd9d": {
          "model_module": "@jupyter-widgets/controls",
          "model_name": "DescriptionStyleModel",
          "model_module_version": "1.5.0",
          "state": {
            "_model_module": "@jupyter-widgets/controls",
            "_model_module_version": "1.5.0",
            "_model_name": "DescriptionStyleModel",
            "_view_count": null,
            "_view_module": "@jupyter-widgets/base",
            "_view_module_version": "1.2.0",
            "_view_name": "StyleView",
            "description_width": ""
          }
        },
        "3c5e74ad56d64c558012622d8bb7e33e": {
          "model_module": "@jupyter-widgets/base",
          "model_name": "LayoutModel",
          "model_module_version": "1.2.0",
          "state": {
            "_model_module": "@jupyter-widgets/base",
            "_model_module_version": "1.2.0",
            "_model_name": "LayoutModel",
            "_view_count": null,
            "_view_module": "@jupyter-widgets/base",
            "_view_module_version": "1.2.0",
            "_view_name": "LayoutView",
            "align_content": null,
            "align_items": null,
            "align_self": null,
            "border": null,
            "bottom": null,
            "display": null,
            "flex": null,
            "flex_flow": null,
            "grid_area": null,
            "grid_auto_columns": null,
            "grid_auto_flow": null,
            "grid_auto_rows": null,
            "grid_column": null,
            "grid_gap": null,
            "grid_row": null,
            "grid_template_areas": null,
            "grid_template_columns": null,
            "grid_template_rows": null,
            "height": null,
            "justify_content": null,
            "justify_items": null,
            "left": null,
            "margin": null,
            "max_height": null,
            "max_width": null,
            "min_height": null,
            "min_width": null,
            "object_fit": null,
            "object_position": null,
            "order": null,
            "overflow": null,
            "overflow_x": null,
            "overflow_y": null,
            "padding": null,
            "right": null,
            "top": null,
            "visibility": null,
            "width": null
          }
        },
        "ac3ff2f47cc343d6baae339fe2e10b32": {
          "model_module": "@jupyter-widgets/controls",
          "model_name": "ProgressStyleModel",
          "model_module_version": "1.5.0",
          "state": {
            "_model_module": "@jupyter-widgets/controls",
            "_model_module_version": "1.5.0",
            "_model_name": "ProgressStyleModel",
            "_view_count": null,
            "_view_module": "@jupyter-widgets/base",
            "_view_module_version": "1.2.0",
            "_view_name": "StyleView",
            "bar_color": null,
            "description_width": ""
          }
        },
        "7761f268017d4d15ac50a55baad13b84": {
          "model_module": "@jupyter-widgets/base",
          "model_name": "LayoutModel",
          "model_module_version": "1.2.0",
          "state": {
            "_model_module": "@jupyter-widgets/base",
            "_model_module_version": "1.2.0",
            "_model_name": "LayoutModel",
            "_view_count": null,
            "_view_module": "@jupyter-widgets/base",
            "_view_module_version": "1.2.0",
            "_view_name": "LayoutView",
            "align_content": null,
            "align_items": null,
            "align_self": null,
            "border": null,
            "bottom": null,
            "display": null,
            "flex": null,
            "flex_flow": null,
            "grid_area": null,
            "grid_auto_columns": null,
            "grid_auto_flow": null,
            "grid_auto_rows": null,
            "grid_column": null,
            "grid_gap": null,
            "grid_row": null,
            "grid_template_areas": null,
            "grid_template_columns": null,
            "grid_template_rows": null,
            "height": null,
            "justify_content": null,
            "justify_items": null,
            "left": null,
            "margin": null,
            "max_height": null,
            "max_width": null,
            "min_height": null,
            "min_width": null,
            "object_fit": null,
            "object_position": null,
            "order": null,
            "overflow": null,
            "overflow_x": null,
            "overflow_y": null,
            "padding": null,
            "right": null,
            "top": null,
            "visibility": null,
            "width": null
          }
        },
        "d9073407d95241a5bff51f1117caed7e": {
          "model_module": "@jupyter-widgets/controls",
          "model_name": "DescriptionStyleModel",
          "model_module_version": "1.5.0",
          "state": {
            "_model_module": "@jupyter-widgets/controls",
            "_model_module_version": "1.5.0",
            "_model_name": "DescriptionStyleModel",
            "_view_count": null,
            "_view_module": "@jupyter-widgets/base",
            "_view_module_version": "1.2.0",
            "_view_name": "StyleView",
            "description_width": ""
          }
        },
        "3b2a17671c414bd2ab7dcb0c477514d9": {
          "model_module": "@jupyter-widgets/controls",
          "model_name": "HBoxModel",
          "model_module_version": "1.5.0",
          "state": {
            "_dom_classes": [],
            "_model_module": "@jupyter-widgets/controls",
            "_model_module_version": "1.5.0",
            "_model_name": "HBoxModel",
            "_view_count": null,
            "_view_module": "@jupyter-widgets/controls",
            "_view_module_version": "1.5.0",
            "_view_name": "HBoxView",
            "box_style": "",
            "children": [
              "IPY_MODEL_f7756aa455ad4202a80c386ad413e8dc",
              "IPY_MODEL_8e690c6c91ff4c2e815a78bde22263d5",
              "IPY_MODEL_07a229294a3f4f19802ad9fda7b43237"
            ],
            "layout": "IPY_MODEL_1da3f61947b943a5a05bf9a735b12849"
          }
        },
        "f7756aa455ad4202a80c386ad413e8dc": {
          "model_module": "@jupyter-widgets/controls",
          "model_name": "HTMLModel",
          "model_module_version": "1.5.0",
          "state": {
            "_dom_classes": [],
            "_model_module": "@jupyter-widgets/controls",
            "_model_module_version": "1.5.0",
            "_model_name": "HTMLModel",
            "_view_count": null,
            "_view_module": "@jupyter-widgets/controls",
            "_view_module_version": "1.5.0",
            "_view_name": "HTMLView",
            "description": "",
            "description_tooltip": null,
            "layout": "IPY_MODEL_22a784a9f5c149acaf685d90965d59d6",
            "placeholder": "​",
            "style": "IPY_MODEL_3e6eaf187eac4aa29c36b43129b316ee",
            "value": "Map: 100%"
          }
        },
        "8e690c6c91ff4c2e815a78bde22263d5": {
          "model_module": "@jupyter-widgets/controls",
          "model_name": "FloatProgressModel",
          "model_module_version": "1.5.0",
          "state": {
            "_dom_classes": [],
            "_model_module": "@jupyter-widgets/controls",
            "_model_module_version": "1.5.0",
            "_model_name": "FloatProgressModel",
            "_view_count": null,
            "_view_module": "@jupyter-widgets/controls",
            "_view_module_version": "1.5.0",
            "_view_name": "ProgressView",
            "bar_style": "success",
            "description": "",
            "description_tooltip": null,
            "layout": "IPY_MODEL_ed7b0b94c7be4152b3d7bd20c771a9bd",
            "max": 4000,
            "min": 0,
            "orientation": "horizontal",
            "style": "IPY_MODEL_33bd355e6f7c44f29464e85a5b152ef7",
            "value": 4000
          }
        },
        "07a229294a3f4f19802ad9fda7b43237": {
          "model_module": "@jupyter-widgets/controls",
          "model_name": "HTMLModel",
          "model_module_version": "1.5.0",
          "state": {
            "_dom_classes": [],
            "_model_module": "@jupyter-widgets/controls",
            "_model_module_version": "1.5.0",
            "_model_name": "HTMLModel",
            "_view_count": null,
            "_view_module": "@jupyter-widgets/controls",
            "_view_module_version": "1.5.0",
            "_view_name": "HTMLView",
            "description": "",
            "description_tooltip": null,
            "layout": "IPY_MODEL_6e75f027f478483aafb984495aff1675",
            "placeholder": "​",
            "style": "IPY_MODEL_238c5e79eee14f54a5e46c36bf0ed7dd",
            "value": " 4000/4000 [00:03&lt;00:00, 1149.16 examples/s]"
          }
        },
        "1da3f61947b943a5a05bf9a735b12849": {
          "model_module": "@jupyter-widgets/base",
          "model_name": "LayoutModel",
          "model_module_version": "1.2.0",
          "state": {
            "_model_module": "@jupyter-widgets/base",
            "_model_module_version": "1.2.0",
            "_model_name": "LayoutModel",
            "_view_count": null,
            "_view_module": "@jupyter-widgets/base",
            "_view_module_version": "1.2.0",
            "_view_name": "LayoutView",
            "align_content": null,
            "align_items": null,
            "align_self": null,
            "border": null,
            "bottom": null,
            "display": null,
            "flex": null,
            "flex_flow": null,
            "grid_area": null,
            "grid_auto_columns": null,
            "grid_auto_flow": null,
            "grid_auto_rows": null,
            "grid_column": null,
            "grid_gap": null,
            "grid_row": null,
            "grid_template_areas": null,
            "grid_template_columns": null,
            "grid_template_rows": null,
            "height": null,
            "justify_content": null,
            "justify_items": null,
            "left": null,
            "margin": null,
            "max_height": null,
            "max_width": null,
            "min_height": null,
            "min_width": null,
            "object_fit": null,
            "object_position": null,
            "order": null,
            "overflow": null,
            "overflow_x": null,
            "overflow_y": null,
            "padding": null,
            "right": null,
            "top": null,
            "visibility": null,
            "width": null
          }
        },
        "22a784a9f5c149acaf685d90965d59d6": {
          "model_module": "@jupyter-widgets/base",
          "model_name": "LayoutModel",
          "model_module_version": "1.2.0",
          "state": {
            "_model_module": "@jupyter-widgets/base",
            "_model_module_version": "1.2.0",
            "_model_name": "LayoutModel",
            "_view_count": null,
            "_view_module": "@jupyter-widgets/base",
            "_view_module_version": "1.2.0",
            "_view_name": "LayoutView",
            "align_content": null,
            "align_items": null,
            "align_self": null,
            "border": null,
            "bottom": null,
            "display": null,
            "flex": null,
            "flex_flow": null,
            "grid_area": null,
            "grid_auto_columns": null,
            "grid_auto_flow": null,
            "grid_auto_rows": null,
            "grid_column": null,
            "grid_gap": null,
            "grid_row": null,
            "grid_template_areas": null,
            "grid_template_columns": null,
            "grid_template_rows": null,
            "height": null,
            "justify_content": null,
            "justify_items": null,
            "left": null,
            "margin": null,
            "max_height": null,
            "max_width": null,
            "min_height": null,
            "min_width": null,
            "object_fit": null,
            "object_position": null,
            "order": null,
            "overflow": null,
            "overflow_x": null,
            "overflow_y": null,
            "padding": null,
            "right": null,
            "top": null,
            "visibility": null,
            "width": null
          }
        },
        "3e6eaf187eac4aa29c36b43129b316ee": {
          "model_module": "@jupyter-widgets/controls",
          "model_name": "DescriptionStyleModel",
          "model_module_version": "1.5.0",
          "state": {
            "_model_module": "@jupyter-widgets/controls",
            "_model_module_version": "1.5.0",
            "_model_name": "DescriptionStyleModel",
            "_view_count": null,
            "_view_module": "@jupyter-widgets/base",
            "_view_module_version": "1.2.0",
            "_view_name": "StyleView",
            "description_width": ""
          }
        },
        "ed7b0b94c7be4152b3d7bd20c771a9bd": {
          "model_module": "@jupyter-widgets/base",
          "model_name": "LayoutModel",
          "model_module_version": "1.2.0",
          "state": {
            "_model_module": "@jupyter-widgets/base",
            "_model_module_version": "1.2.0",
            "_model_name": "LayoutModel",
            "_view_count": null,
            "_view_module": "@jupyter-widgets/base",
            "_view_module_version": "1.2.0",
            "_view_name": "LayoutView",
            "align_content": null,
            "align_items": null,
            "align_self": null,
            "border": null,
            "bottom": null,
            "display": null,
            "flex": null,
            "flex_flow": null,
            "grid_area": null,
            "grid_auto_columns": null,
            "grid_auto_flow": null,
            "grid_auto_rows": null,
            "grid_column": null,
            "grid_gap": null,
            "grid_row": null,
            "grid_template_areas": null,
            "grid_template_columns": null,
            "grid_template_rows": null,
            "height": null,
            "justify_content": null,
            "justify_items": null,
            "left": null,
            "margin": null,
            "max_height": null,
            "max_width": null,
            "min_height": null,
            "min_width": null,
            "object_fit": null,
            "object_position": null,
            "order": null,
            "overflow": null,
            "overflow_x": null,
            "overflow_y": null,
            "padding": null,
            "right": null,
            "top": null,
            "visibility": null,
            "width": null
          }
        },
        "33bd355e6f7c44f29464e85a5b152ef7": {
          "model_module": "@jupyter-widgets/controls",
          "model_name": "ProgressStyleModel",
          "model_module_version": "1.5.0",
          "state": {
            "_model_module": "@jupyter-widgets/controls",
            "_model_module_version": "1.5.0",
            "_model_name": "ProgressStyleModel",
            "_view_count": null,
            "_view_module": "@jupyter-widgets/base",
            "_view_module_version": "1.2.0",
            "_view_name": "StyleView",
            "bar_color": null,
            "description_width": ""
          }
        },
        "6e75f027f478483aafb984495aff1675": {
          "model_module": "@jupyter-widgets/base",
          "model_name": "LayoutModel",
          "model_module_version": "1.2.0",
          "state": {
            "_model_module": "@jupyter-widgets/base",
            "_model_module_version": "1.2.0",
            "_model_name": "LayoutModel",
            "_view_count": null,
            "_view_module": "@jupyter-widgets/base",
            "_view_module_version": "1.2.0",
            "_view_name": "LayoutView",
            "align_content": null,
            "align_items": null,
            "align_self": null,
            "border": null,
            "bottom": null,
            "display": null,
            "flex": null,
            "flex_flow": null,
            "grid_area": null,
            "grid_auto_columns": null,
            "grid_auto_flow": null,
            "grid_auto_rows": null,
            "grid_column": null,
            "grid_gap": null,
            "grid_row": null,
            "grid_template_areas": null,
            "grid_template_columns": null,
            "grid_template_rows": null,
            "height": null,
            "justify_content": null,
            "justify_items": null,
            "left": null,
            "margin": null,
            "max_height": null,
            "max_width": null,
            "min_height": null,
            "min_width": null,
            "object_fit": null,
            "object_position": null,
            "order": null,
            "overflow": null,
            "overflow_x": null,
            "overflow_y": null,
            "padding": null,
            "right": null,
            "top": null,
            "visibility": null,
            "width": null
          }
        },
        "238c5e79eee14f54a5e46c36bf0ed7dd": {
          "model_module": "@jupyter-widgets/controls",
          "model_name": "DescriptionStyleModel",
          "model_module_version": "1.5.0",
          "state": {
            "_model_module": "@jupyter-widgets/controls",
            "_model_module_version": "1.5.0",
            "_model_name": "DescriptionStyleModel",
            "_view_count": null,
            "_view_module": "@jupyter-widgets/base",
            "_view_module_version": "1.2.0",
            "_view_name": "StyleView",
            "description_width": ""
          }
        },
        "ff65652483644f659df742a874941381": {
          "model_module": "@jupyter-widgets/controls",
          "model_name": "HBoxModel",
          "model_module_version": "1.5.0",
          "state": {
            "_dom_classes": [],
            "_model_module": "@jupyter-widgets/controls",
            "_model_module_version": "1.5.0",
            "_model_name": "HBoxModel",
            "_view_count": null,
            "_view_module": "@jupyter-widgets/controls",
            "_view_module_version": "1.5.0",
            "_view_name": "HBoxView",
            "box_style": "",
            "children": [
              "IPY_MODEL_3ff4c7d210b44322bf41ea391019c60d",
              "IPY_MODEL_2d00b652d2f943f4bdb561864e5d0aad",
              "IPY_MODEL_b7422468825844a7862a9579351375d6"
            ],
            "layout": "IPY_MODEL_dcc9396074a14d81bd654d8a3f31a7d8"
          }
        },
        "3ff4c7d210b44322bf41ea391019c60d": {
          "model_module": "@jupyter-widgets/controls",
          "model_name": "HTMLModel",
          "model_module_version": "1.5.0",
          "state": {
            "_dom_classes": [],
            "_model_module": "@jupyter-widgets/controls",
            "_model_module_version": "1.5.0",
            "_model_name": "HTMLModel",
            "_view_count": null,
            "_view_module": "@jupyter-widgets/controls",
            "_view_module_version": "1.5.0",
            "_view_name": "HTMLView",
            "description": "",
            "description_tooltip": null,
            "layout": "IPY_MODEL_26872177ca464a83909f6ca1ea860d01",
            "placeholder": "​",
            "style": "IPY_MODEL_372ec57482db405395619bee22655c4d",
            "value": "Map: 100%"
          }
        },
        "2d00b652d2f943f4bdb561864e5d0aad": {
          "model_module": "@jupyter-widgets/controls",
          "model_name": "FloatProgressModel",
          "model_module_version": "1.5.0",
          "state": {
            "_dom_classes": [],
            "_model_module": "@jupyter-widgets/controls",
            "_model_module_version": "1.5.0",
            "_model_name": "FloatProgressModel",
            "_view_count": null,
            "_view_module": "@jupyter-widgets/controls",
            "_view_module_version": "1.5.0",
            "_view_name": "ProgressView",
            "bar_style": "success",
            "description": "",
            "description_tooltip": null,
            "layout": "IPY_MODEL_530861c61f81456d984ef2a40966c8c7",
            "max": 1000,
            "min": 0,
            "orientation": "horizontal",
            "style": "IPY_MODEL_ae4a8182dc0f4bfeab5cccc68aef2199",
            "value": 1000
          }
        },
        "b7422468825844a7862a9579351375d6": {
          "model_module": "@jupyter-widgets/controls",
          "model_name": "HTMLModel",
          "model_module_version": "1.5.0",
          "state": {
            "_dom_classes": [],
            "_model_module": "@jupyter-widgets/controls",
            "_model_module_version": "1.5.0",
            "_model_name": "HTMLModel",
            "_view_count": null,
            "_view_module": "@jupyter-widgets/controls",
            "_view_module_version": "1.5.0",
            "_view_name": "HTMLView",
            "description": "",
            "description_tooltip": null,
            "layout": "IPY_MODEL_6419140bbfa242d984919114e147bdfa",
            "placeholder": "​",
            "style": "IPY_MODEL_896b204424144c84afc9cc99f0c9928b",
            "value": " 1000/1000 [00:00&lt;00:00, 1165.93 examples/s]"
          }
        },
        "dcc9396074a14d81bd654d8a3f31a7d8": {
          "model_module": "@jupyter-widgets/base",
          "model_name": "LayoutModel",
          "model_module_version": "1.2.0",
          "state": {
            "_model_module": "@jupyter-widgets/base",
            "_model_module_version": "1.2.0",
            "_model_name": "LayoutModel",
            "_view_count": null,
            "_view_module": "@jupyter-widgets/base",
            "_view_module_version": "1.2.0",
            "_view_name": "LayoutView",
            "align_content": null,
            "align_items": null,
            "align_self": null,
            "border": null,
            "bottom": null,
            "display": null,
            "flex": null,
            "flex_flow": null,
            "grid_area": null,
            "grid_auto_columns": null,
            "grid_auto_flow": null,
            "grid_auto_rows": null,
            "grid_column": null,
            "grid_gap": null,
            "grid_row": null,
            "grid_template_areas": null,
            "grid_template_columns": null,
            "grid_template_rows": null,
            "height": null,
            "justify_content": null,
            "justify_items": null,
            "left": null,
            "margin": null,
            "max_height": null,
            "max_width": null,
            "min_height": null,
            "min_width": null,
            "object_fit": null,
            "object_position": null,
            "order": null,
            "overflow": null,
            "overflow_x": null,
            "overflow_y": null,
            "padding": null,
            "right": null,
            "top": null,
            "visibility": null,
            "width": null
          }
        },
        "26872177ca464a83909f6ca1ea860d01": {
          "model_module": "@jupyter-widgets/base",
          "model_name": "LayoutModel",
          "model_module_version": "1.2.0",
          "state": {
            "_model_module": "@jupyter-widgets/base",
            "_model_module_version": "1.2.0",
            "_model_name": "LayoutModel",
            "_view_count": null,
            "_view_module": "@jupyter-widgets/base",
            "_view_module_version": "1.2.0",
            "_view_name": "LayoutView",
            "align_content": null,
            "align_items": null,
            "align_self": null,
            "border": null,
            "bottom": null,
            "display": null,
            "flex": null,
            "flex_flow": null,
            "grid_area": null,
            "grid_auto_columns": null,
            "grid_auto_flow": null,
            "grid_auto_rows": null,
            "grid_column": null,
            "grid_gap": null,
            "grid_row": null,
            "grid_template_areas": null,
            "grid_template_columns": null,
            "grid_template_rows": null,
            "height": null,
            "justify_content": null,
            "justify_items": null,
            "left": null,
            "margin": null,
            "max_height": null,
            "max_width": null,
            "min_height": null,
            "min_width": null,
            "object_fit": null,
            "object_position": null,
            "order": null,
            "overflow": null,
            "overflow_x": null,
            "overflow_y": null,
            "padding": null,
            "right": null,
            "top": null,
            "visibility": null,
            "width": null
          }
        },
        "372ec57482db405395619bee22655c4d": {
          "model_module": "@jupyter-widgets/controls",
          "model_name": "DescriptionStyleModel",
          "model_module_version": "1.5.0",
          "state": {
            "_model_module": "@jupyter-widgets/controls",
            "_model_module_version": "1.5.0",
            "_model_name": "DescriptionStyleModel",
            "_view_count": null,
            "_view_module": "@jupyter-widgets/base",
            "_view_module_version": "1.2.0",
            "_view_name": "StyleView",
            "description_width": ""
          }
        },
        "530861c61f81456d984ef2a40966c8c7": {
          "model_module": "@jupyter-widgets/base",
          "model_name": "LayoutModel",
          "model_module_version": "1.2.0",
          "state": {
            "_model_module": "@jupyter-widgets/base",
            "_model_module_version": "1.2.0",
            "_model_name": "LayoutModel",
            "_view_count": null,
            "_view_module": "@jupyter-widgets/base",
            "_view_module_version": "1.2.0",
            "_view_name": "LayoutView",
            "align_content": null,
            "align_items": null,
            "align_self": null,
            "border": null,
            "bottom": null,
            "display": null,
            "flex": null,
            "flex_flow": null,
            "grid_area": null,
            "grid_auto_columns": null,
            "grid_auto_flow": null,
            "grid_auto_rows": null,
            "grid_column": null,
            "grid_gap": null,
            "grid_row": null,
            "grid_template_areas": null,
            "grid_template_columns": null,
            "grid_template_rows": null,
            "height": null,
            "justify_content": null,
            "justify_items": null,
            "left": null,
            "margin": null,
            "max_height": null,
            "max_width": null,
            "min_height": null,
            "min_width": null,
            "object_fit": null,
            "object_position": null,
            "order": null,
            "overflow": null,
            "overflow_x": null,
            "overflow_y": null,
            "padding": null,
            "right": null,
            "top": null,
            "visibility": null,
            "width": null
          }
        },
        "ae4a8182dc0f4bfeab5cccc68aef2199": {
          "model_module": "@jupyter-widgets/controls",
          "model_name": "ProgressStyleModel",
          "model_module_version": "1.5.0",
          "state": {
            "_model_module": "@jupyter-widgets/controls",
            "_model_module_version": "1.5.0",
            "_model_name": "ProgressStyleModel",
            "_view_count": null,
            "_view_module": "@jupyter-widgets/base",
            "_view_module_version": "1.2.0",
            "_view_name": "StyleView",
            "bar_color": null,
            "description_width": ""
          }
        },
        "6419140bbfa242d984919114e147bdfa": {
          "model_module": "@jupyter-widgets/base",
          "model_name": "LayoutModel",
          "model_module_version": "1.2.0",
          "state": {
            "_model_module": "@jupyter-widgets/base",
            "_model_module_version": "1.2.0",
            "_model_name": "LayoutModel",
            "_view_count": null,
            "_view_module": "@jupyter-widgets/base",
            "_view_module_version": "1.2.0",
            "_view_name": "LayoutView",
            "align_content": null,
            "align_items": null,
            "align_self": null,
            "border": null,
            "bottom": null,
            "display": null,
            "flex": null,
            "flex_flow": null,
            "grid_area": null,
            "grid_auto_columns": null,
            "grid_auto_flow": null,
            "grid_auto_rows": null,
            "grid_column": null,
            "grid_gap": null,
            "grid_row": null,
            "grid_template_areas": null,
            "grid_template_columns": null,
            "grid_template_rows": null,
            "height": null,
            "justify_content": null,
            "justify_items": null,
            "left": null,
            "margin": null,
            "max_height": null,
            "max_width": null,
            "min_height": null,
            "min_width": null,
            "object_fit": null,
            "object_position": null,
            "order": null,
            "overflow": null,
            "overflow_x": null,
            "overflow_y": null,
            "padding": null,
            "right": null,
            "top": null,
            "visibility": null,
            "width": null
          }
        },
        "896b204424144c84afc9cc99f0c9928b": {
          "model_module": "@jupyter-widgets/controls",
          "model_name": "DescriptionStyleModel",
          "model_module_version": "1.5.0",
          "state": {
            "_model_module": "@jupyter-widgets/controls",
            "_model_module_version": "1.5.0",
            "_model_name": "DescriptionStyleModel",
            "_view_count": null,
            "_view_module": "@jupyter-widgets/base",
            "_view_module_version": "1.2.0",
            "_view_name": "StyleView",
            "description_width": ""
          }
        }
      }
    }
  },
  "cells": [
    {
      "cell_type": "code",
      "execution_count": null,
      "metadata": {
        "colab": {
          "base_uri": "https://localhost:8080/"
        },
        "collapsed": true,
        "id": "R9IlNlwMq8jJ",
        "outputId": "9b22aeff-b37f-4e0f-d302-b3f469bba439"
      },
      "outputs": [
        {
          "output_type": "stream",
          "name": "stdout",
          "text": [
            "Requirement already satisfied: transformers in /usr/local/lib/python3.11/dist-packages (4.51.3)\n",
            "Collecting datasets\n",
            "  Downloading datasets-3.5.0-py3-none-any.whl.metadata (19 kB)\n",
            "Collecting optuna\n",
            "  Downloading optuna-4.3.0-py3-none-any.whl.metadata (17 kB)\n",
            "Requirement already satisfied: accelerate in /usr/local/lib/python3.11/dist-packages (1.5.2)\n",
            "Collecting accelerate\n",
            "  Downloading accelerate-1.6.0-py3-none-any.whl.metadata (19 kB)\n",
            "Requirement already satisfied: matplotlib in /usr/local/lib/python3.11/dist-packages (3.10.0)\n",
            "Collecting matplotlib\n",
            "  Downloading matplotlib-3.10.1-cp311-cp311-manylinux_2_17_x86_64.manylinux2014_x86_64.whl.metadata (11 kB)\n",
            "Requirement already satisfied: filelock in /usr/local/lib/python3.11/dist-packages (from transformers) (3.18.0)\n",
            "Requirement already satisfied: huggingface-hub<1.0,>=0.30.0 in /usr/local/lib/python3.11/dist-packages (from transformers) (0.30.2)\n",
            "Requirement already satisfied: numpy>=1.17 in /usr/local/lib/python3.11/dist-packages (from transformers) (2.0.2)\n",
            "Requirement already satisfied: packaging>=20.0 in /usr/local/lib/python3.11/dist-packages (from transformers) (24.2)\n",
            "Requirement already satisfied: pyyaml>=5.1 in /usr/local/lib/python3.11/dist-packages (from transformers) (6.0.2)\n",
            "Requirement already satisfied: regex!=2019.12.17 in /usr/local/lib/python3.11/dist-packages (from transformers) (2024.11.6)\n",
            "Requirement already satisfied: requests in /usr/local/lib/python3.11/dist-packages (from transformers) (2.32.3)\n",
            "Requirement already satisfied: tokenizers<0.22,>=0.21 in /usr/local/lib/python3.11/dist-packages (from transformers) (0.21.1)\n",
            "Requirement already satisfied: safetensors>=0.4.3 in /usr/local/lib/python3.11/dist-packages (from transformers) (0.5.3)\n",
            "Requirement already satisfied: tqdm>=4.27 in /usr/local/lib/python3.11/dist-packages (from transformers) (4.67.1)\n",
            "Requirement already satisfied: pyarrow>=15.0.0 in /usr/local/lib/python3.11/dist-packages (from datasets) (18.1.0)\n",
            "Collecting dill<0.3.9,>=0.3.0 (from datasets)\n",
            "  Downloading dill-0.3.8-py3-none-any.whl.metadata (10 kB)\n",
            "Requirement already satisfied: pandas in /usr/local/lib/python3.11/dist-packages (from datasets) (2.2.2)\n",
            "Collecting xxhash (from datasets)\n",
            "  Downloading xxhash-3.5.0-cp311-cp311-manylinux_2_17_x86_64.manylinux2014_x86_64.whl.metadata (12 kB)\n",
            "Collecting multiprocess<0.70.17 (from datasets)\n",
            "  Downloading multiprocess-0.70.16-py311-none-any.whl.metadata (7.2 kB)\n",
            "Collecting fsspec<=2024.12.0,>=2023.1.0 (from fsspec[http]<=2024.12.0,>=2023.1.0->datasets)\n",
            "  Downloading fsspec-2024.12.0-py3-none-any.whl.metadata (11 kB)\n",
            "Requirement already satisfied: aiohttp in /usr/local/lib/python3.11/dist-packages (from datasets) (3.11.15)\n",
            "Collecting alembic>=1.5.0 (from optuna)\n",
            "  Downloading alembic-1.15.2-py3-none-any.whl.metadata (7.3 kB)\n",
            "Collecting colorlog (from optuna)\n",
            "  Downloading colorlog-6.9.0-py3-none-any.whl.metadata (10 kB)\n",
            "Requirement already satisfied: sqlalchemy>=1.4.2 in /usr/local/lib/python3.11/dist-packages (from optuna) (2.0.40)\n",
            "Requirement already satisfied: psutil in /usr/local/lib/python3.11/dist-packages (from accelerate) (5.9.5)\n",
            "Requirement already satisfied: torch>=2.0.0 in /usr/local/lib/python3.11/dist-packages (from accelerate) (2.6.0+cu124)\n",
            "Requirement already satisfied: contourpy>=1.0.1 in /usr/local/lib/python3.11/dist-packages (from matplotlib) (1.3.2)\n",
            "Requirement already satisfied: cycler>=0.10 in /usr/local/lib/python3.11/dist-packages (from matplotlib) (0.12.1)\n",
            "Requirement already satisfied: fonttools>=4.22.0 in /usr/local/lib/python3.11/dist-packages (from matplotlib) (4.57.0)\n",
            "Requirement already satisfied: kiwisolver>=1.3.1 in /usr/local/lib/python3.11/dist-packages (from matplotlib) (1.4.8)\n",
            "Requirement already satisfied: pillow>=8 in /usr/local/lib/python3.11/dist-packages (from matplotlib) (11.1.0)\n",
            "Requirement already satisfied: pyparsing>=2.3.1 in /usr/local/lib/python3.11/dist-packages (from matplotlib) (3.2.3)\n",
            "Requirement already satisfied: python-dateutil>=2.7 in /usr/local/lib/python3.11/dist-packages (from matplotlib) (2.8.2)\n",
            "Requirement already satisfied: Mako in /usr/lib/python3/dist-packages (from alembic>=1.5.0->optuna) (1.1.3)\n",
            "Requirement already satisfied: typing-extensions>=4.12 in /usr/local/lib/python3.11/dist-packages (from alembic>=1.5.0->optuna) (4.13.2)\n",
            "Requirement already satisfied: aiohappyeyeballs>=2.3.0 in /usr/local/lib/python3.11/dist-packages (from aiohttp->datasets) (2.6.1)\n",
            "Requirement already satisfied: aiosignal>=1.1.2 in /usr/local/lib/python3.11/dist-packages (from aiohttp->datasets) (1.3.2)\n",
            "Requirement already satisfied: attrs>=17.3.0 in /usr/local/lib/python3.11/dist-packages (from aiohttp->datasets) (25.3.0)\n",
            "Requirement already satisfied: frozenlist>=1.1.1 in /usr/local/lib/python3.11/dist-packages (from aiohttp->datasets) (1.5.0)\n",
            "Requirement already satisfied: multidict<7.0,>=4.5 in /usr/local/lib/python3.11/dist-packages (from aiohttp->datasets) (6.4.3)\n",
            "Requirement already satisfied: propcache>=0.2.0 in /usr/local/lib/python3.11/dist-packages (from aiohttp->datasets) (0.3.1)\n",
            "Requirement already satisfied: yarl<2.0,>=1.17.0 in /usr/local/lib/python3.11/dist-packages (from aiohttp->datasets) (1.19.0)\n",
            "Requirement already satisfied: six>=1.5 in /usr/local/lib/python3.11/dist-packages (from python-dateutil>=2.7->matplotlib) (1.17.0)\n",
            "Requirement already satisfied: charset-normalizer<4,>=2 in /usr/local/lib/python3.11/dist-packages (from requests->transformers) (3.4.1)\n",
            "Requirement already satisfied: idna<4,>=2.5 in /usr/local/lib/python3.11/dist-packages (from requests->transformers) (3.10)\n",
            "Requirement already satisfied: urllib3<3,>=1.21.1 in /usr/local/lib/python3.11/dist-packages (from requests->transformers) (2.3.0)\n",
            "Requirement already satisfied: certifi>=2017.4.17 in /usr/local/lib/python3.11/dist-packages (from requests->transformers) (2025.1.31)\n",
            "Requirement already satisfied: greenlet>=1 in /usr/local/lib/python3.11/dist-packages (from sqlalchemy>=1.4.2->optuna) (3.2.0)\n",
            "Requirement already satisfied: networkx in /usr/local/lib/python3.11/dist-packages (from torch>=2.0.0->accelerate) (3.4.2)\n",
            "Requirement already satisfied: jinja2 in /usr/local/lib/python3.11/dist-packages (from torch>=2.0.0->accelerate) (3.1.6)\n",
            "Collecting nvidia-cuda-nvrtc-cu12==12.4.127 (from torch>=2.0.0->accelerate)\n",
            "  Downloading nvidia_cuda_nvrtc_cu12-12.4.127-py3-none-manylinux2014_x86_64.whl.metadata (1.5 kB)\n",
            "Collecting nvidia-cuda-runtime-cu12==12.4.127 (from torch>=2.0.0->accelerate)\n",
            "  Downloading nvidia_cuda_runtime_cu12-12.4.127-py3-none-manylinux2014_x86_64.whl.metadata (1.5 kB)\n",
            "Collecting nvidia-cuda-cupti-cu12==12.4.127 (from torch>=2.0.0->accelerate)\n",
            "  Downloading nvidia_cuda_cupti_cu12-12.4.127-py3-none-manylinux2014_x86_64.whl.metadata (1.6 kB)\n",
            "Collecting nvidia-cudnn-cu12==9.1.0.70 (from torch>=2.0.0->accelerate)\n",
            "  Downloading nvidia_cudnn_cu12-9.1.0.70-py3-none-manylinux2014_x86_64.whl.metadata (1.6 kB)\n",
            "Collecting nvidia-cublas-cu12==12.4.5.8 (from torch>=2.0.0->accelerate)\n",
            "  Downloading nvidia_cublas_cu12-12.4.5.8-py3-none-manylinux2014_x86_64.whl.metadata (1.5 kB)\n",
            "Collecting nvidia-cufft-cu12==11.2.1.3 (from torch>=2.0.0->accelerate)\n",
            "  Downloading nvidia_cufft_cu12-11.2.1.3-py3-none-manylinux2014_x86_64.whl.metadata (1.5 kB)\n",
            "Collecting nvidia-curand-cu12==10.3.5.147 (from torch>=2.0.0->accelerate)\n",
            "  Downloading nvidia_curand_cu12-10.3.5.147-py3-none-manylinux2014_x86_64.whl.metadata (1.5 kB)\n",
            "Collecting nvidia-cusolver-cu12==11.6.1.9 (from torch>=2.0.0->accelerate)\n",
            "  Downloading nvidia_cusolver_cu12-11.6.1.9-py3-none-manylinux2014_x86_64.whl.metadata (1.6 kB)\n",
            "Collecting nvidia-cusparse-cu12==12.3.1.170 (from torch>=2.0.0->accelerate)\n",
            "  Downloading nvidia_cusparse_cu12-12.3.1.170-py3-none-manylinux2014_x86_64.whl.metadata (1.6 kB)\n",
            "Requirement already satisfied: nvidia-cusparselt-cu12==0.6.2 in /usr/local/lib/python3.11/dist-packages (from torch>=2.0.0->accelerate) (0.6.2)\n",
            "Requirement already satisfied: nvidia-nccl-cu12==2.21.5 in /usr/local/lib/python3.11/dist-packages (from torch>=2.0.0->accelerate) (2.21.5)\n",
            "Requirement already satisfied: nvidia-nvtx-cu12==12.4.127 in /usr/local/lib/python3.11/dist-packages (from torch>=2.0.0->accelerate) (12.4.127)\n",
            "Collecting nvidia-nvjitlink-cu12==12.4.127 (from torch>=2.0.0->accelerate)\n",
            "  Downloading nvidia_nvjitlink_cu12-12.4.127-py3-none-manylinux2014_x86_64.whl.metadata (1.5 kB)\n",
            "Requirement already satisfied: triton==3.2.0 in /usr/local/lib/python3.11/dist-packages (from torch>=2.0.0->accelerate) (3.2.0)\n",
            "Requirement already satisfied: sympy==1.13.1 in /usr/local/lib/python3.11/dist-packages (from torch>=2.0.0->accelerate) (1.13.1)\n",
            "Requirement already satisfied: mpmath<1.4,>=1.1.0 in /usr/local/lib/python3.11/dist-packages (from sympy==1.13.1->torch>=2.0.0->accelerate) (1.3.0)\n",
            "Requirement already satisfied: pytz>=2020.1 in /usr/local/lib/python3.11/dist-packages (from pandas->datasets) (2025.2)\n",
            "Requirement already satisfied: tzdata>=2022.7 in /usr/local/lib/python3.11/dist-packages (from pandas->datasets) (2025.2)\n",
            "Requirement already satisfied: MarkupSafe>=2.0 in /usr/local/lib/python3.11/dist-packages (from jinja2->torch>=2.0.0->accelerate) (3.0.2)\n",
            "Downloading datasets-3.5.0-py3-none-any.whl (491 kB)\n",
            "\u001b[2K   \u001b[90m━━━━━━━━━━━━━━━━━━━━━━━━━━━━━━━━━━━━━━━━\u001b[0m \u001b[32m491.2/491.2 kB\u001b[0m \u001b[31m11.4 MB/s\u001b[0m eta \u001b[36m0:00:00\u001b[0m\n",
            "\u001b[?25hDownloading optuna-4.3.0-py3-none-any.whl (386 kB)\n",
            "\u001b[2K   \u001b[90m━━━━━━━━━━━━━━━━━━━━━━━━━━━━━━━━━━━━━━━━\u001b[0m \u001b[32m386.6/386.6 kB\u001b[0m \u001b[31m24.7 MB/s\u001b[0m eta \u001b[36m0:00:00\u001b[0m\n",
            "\u001b[?25hDownloading accelerate-1.6.0-py3-none-any.whl (354 kB)\n",
            "\u001b[2K   \u001b[90m━━━━━━━━━━━━━━━━━━━━━━━━━━━━━━━━━━━━━━━━\u001b[0m \u001b[32m354.7/354.7 kB\u001b[0m \u001b[31m17.8 MB/s\u001b[0m eta \u001b[36m0:00:00\u001b[0m\n",
            "\u001b[?25hDownloading matplotlib-3.10.1-cp311-cp311-manylinux_2_17_x86_64.manylinux2014_x86_64.whl (8.6 MB)\n",
            "\u001b[2K   \u001b[90m━━━━━━━━━━━━━━━━━━━━━━━━━━━━━━━━━━━━━━━━\u001b[0m \u001b[32m8.6/8.6 MB\u001b[0m \u001b[31m44.0 MB/s\u001b[0m eta \u001b[36m0:00:00\u001b[0m\n",
            "\u001b[?25hDownloading alembic-1.15.2-py3-none-any.whl (231 kB)\n",
            "\u001b[2K   \u001b[90m━━━━━━━━━━━━━━━━━━━━━━━━━━━━━━━━━━━━━━━━\u001b[0m \u001b[32m231.9/231.9 kB\u001b[0m \u001b[31m14.0 MB/s\u001b[0m eta \u001b[36m0:00:00\u001b[0m\n",
            "\u001b[?25hDownloading dill-0.3.8-py3-none-any.whl (116 kB)\n",
            "\u001b[2K   \u001b[90m━━━━━━━━━━━━━━━━━━━━━━━━━━━━━━━━━━━━━━━━\u001b[0m \u001b[32m116.3/116.3 kB\u001b[0m \u001b[31m7.7 MB/s\u001b[0m eta \u001b[36m0:00:00\u001b[0m\n",
            "\u001b[?25hDownloading fsspec-2024.12.0-py3-none-any.whl (183 kB)\n",
            "\u001b[2K   \u001b[90m━━━━━━━━━━━━━━━━━━━━━━━━━━━━━━━━━━━━━━━━\u001b[0m \u001b[32m183.9/183.9 kB\u001b[0m \u001b[31m9.4 MB/s\u001b[0m eta \u001b[36m0:00:00\u001b[0m\n",
            "\u001b[?25hDownloading multiprocess-0.70.16-py311-none-any.whl (143 kB)\n",
            "\u001b[2K   \u001b[90m━━━━━━━━━━━━━━━━━━━━━━━━━━━━━━━━━━━━━━━━\u001b[0m \u001b[32m143.5/143.5 kB\u001b[0m \u001b[31m9.0 MB/s\u001b[0m eta \u001b[36m0:00:00\u001b[0m\n",
            "\u001b[?25hDownloading nvidia_cublas_cu12-12.4.5.8-py3-none-manylinux2014_x86_64.whl (363.4 MB)\n",
            "\u001b[2K   \u001b[90m━━━━━━━━━━━━━━━━━━━━━━━━━━━━━━━━━━━━━━━━\u001b[0m \u001b[32m363.4/363.4 MB\u001b[0m \u001b[31m3.8 MB/s\u001b[0m eta \u001b[36m0:00:00\u001b[0m\n",
            "\u001b[?25hDownloading nvidia_cuda_cupti_cu12-12.4.127-py3-none-manylinux2014_x86_64.whl (13.8 MB)\n",
            "\u001b[2K   \u001b[90m━━━━━━━━━━━━━━━━━━━━━━━━━━━━━━━━━━━━━━━━\u001b[0m \u001b[32m13.8/13.8 MB\u001b[0m \u001b[31m51.8 MB/s\u001b[0m eta \u001b[36m0:00:00\u001b[0m\n",
            "\u001b[?25hDownloading nvidia_cuda_nvrtc_cu12-12.4.127-py3-none-manylinux2014_x86_64.whl (24.6 MB)\n",
            "\u001b[2K   \u001b[90m━━━━━━━━━━━━━━━━━━━━━━━━━━━━━━━━━━━━━━━━\u001b[0m \u001b[32m24.6/24.6 MB\u001b[0m \u001b[31m34.8 MB/s\u001b[0m eta \u001b[36m0:00:00\u001b[0m\n",
            "\u001b[?25hDownloading nvidia_cuda_runtime_cu12-12.4.127-py3-none-manylinux2014_x86_64.whl (883 kB)\n",
            "\u001b[2K   \u001b[90m━━━━━━━━━━━━━━━━━━━━━━━━━━━━━━━━━━━━━━━━\u001b[0m \u001b[32m883.7/883.7 kB\u001b[0m \u001b[31m43.6 MB/s\u001b[0m eta \u001b[36m0:00:00\u001b[0m\n",
            "\u001b[?25hDownloading nvidia_cudnn_cu12-9.1.0.70-py3-none-manylinux2014_x86_64.whl (664.8 MB)\n",
            "\u001b[2K   \u001b[90m━━━━━━━━━━━━━━━━━━━━━━━━━━━━━━━━━━━━━━━━\u001b[0m \u001b[32m664.8/664.8 MB\u001b[0m \u001b[31m2.9 MB/s\u001b[0m eta \u001b[36m0:00:00\u001b[0m\n",
            "\u001b[?25hDownloading nvidia_cufft_cu12-11.2.1.3-py3-none-manylinux2014_x86_64.whl (211.5 MB)\n",
            "\u001b[2K   \u001b[90m━━━━━━━━━━━━━━━━━━━━━━━━━━━━━━━━━━━━━━━━\u001b[0m \u001b[32m211.5/211.5 MB\u001b[0m \u001b[31m5.7 MB/s\u001b[0m eta \u001b[36m0:00:00\u001b[0m\n",
            "\u001b[?25hDownloading nvidia_curand_cu12-10.3.5.147-py3-none-manylinux2014_x86_64.whl (56.3 MB)\n",
            "\u001b[2K   \u001b[90m━━━━━━━━━━━━━━━━━━━━━━━━━━━━━━━━━━━━━━━━\u001b[0m \u001b[32m56.3/56.3 MB\u001b[0m \u001b[31m12.8 MB/s\u001b[0m eta \u001b[36m0:00:00\u001b[0m\n",
            "\u001b[?25hDownloading nvidia_cusolver_cu12-11.6.1.9-py3-none-manylinux2014_x86_64.whl (127.9 MB)\n",
            "\u001b[2K   \u001b[90m━━━━━━━━━━━━━━━━━━━━━━━━━━━━━━━━━━━━━━━━\u001b[0m \u001b[32m127.9/127.9 MB\u001b[0m \u001b[31m7.7 MB/s\u001b[0m eta \u001b[36m0:00:00\u001b[0m\n",
            "\u001b[?25hDownloading nvidia_cusparse_cu12-12.3.1.170-py3-none-manylinux2014_x86_64.whl (207.5 MB)\n",
            "\u001b[2K   \u001b[90m━━━━━━━━━━━━━━━━━━━━━━━━━━━━━━━━━━━━━━━━\u001b[0m \u001b[32m207.5/207.5 MB\u001b[0m \u001b[31m5.3 MB/s\u001b[0m eta \u001b[36m0:00:00\u001b[0m\n",
            "\u001b[?25hDownloading nvidia_nvjitlink_cu12-12.4.127-py3-none-manylinux2014_x86_64.whl (21.1 MB)\n",
            "\u001b[2K   \u001b[90m━━━━━━━━━━━━━━━━━━━━━━━━━━━━━━━━━━━━━━━━\u001b[0m \u001b[32m21.1/21.1 MB\u001b[0m \u001b[31m67.9 MB/s\u001b[0m eta \u001b[36m0:00:00\u001b[0m\n",
            "\u001b[?25hDownloading colorlog-6.9.0-py3-none-any.whl (11 kB)\n",
            "Downloading xxhash-3.5.0-cp311-cp311-manylinux_2_17_x86_64.manylinux2014_x86_64.whl (194 kB)\n",
            "\u001b[2K   \u001b[90m━━━━━━━━━━━━━━━━━━━━━━━━━━━━━━━━━━━━━━━━\u001b[0m \u001b[32m194.8/194.8 kB\u001b[0m \u001b[31m16.8 MB/s\u001b[0m eta \u001b[36m0:00:00\u001b[0m\n",
            "\u001b[?25hInstalling collected packages: xxhash, nvidia-nvjitlink-cu12, nvidia-curand-cu12, nvidia-cufft-cu12, nvidia-cuda-runtime-cu12, nvidia-cuda-nvrtc-cu12, nvidia-cuda-cupti-cu12, nvidia-cublas-cu12, fsspec, dill, colorlog, nvidia-cusparse-cu12, nvidia-cudnn-cu12, multiprocess, matplotlib, alembic, optuna, nvidia-cusolver-cu12, datasets, accelerate\n",
            "  Attempting uninstall: nvidia-nvjitlink-cu12\n",
            "    Found existing installation: nvidia-nvjitlink-cu12 12.5.82\n",
            "    Uninstalling nvidia-nvjitlink-cu12-12.5.82:\n",
            "      Successfully uninstalled nvidia-nvjitlink-cu12-12.5.82\n",
            "  Attempting uninstall: nvidia-curand-cu12\n",
            "    Found existing installation: nvidia-curand-cu12 10.3.6.82\n",
            "    Uninstalling nvidia-curand-cu12-10.3.6.82:\n",
            "      Successfully uninstalled nvidia-curand-cu12-10.3.6.82\n",
            "  Attempting uninstall: nvidia-cufft-cu12\n",
            "    Found existing installation: nvidia-cufft-cu12 11.2.3.61\n",
            "    Uninstalling nvidia-cufft-cu12-11.2.3.61:\n",
            "      Successfully uninstalled nvidia-cufft-cu12-11.2.3.61\n",
            "  Attempting uninstall: nvidia-cuda-runtime-cu12\n",
            "    Found existing installation: nvidia-cuda-runtime-cu12 12.5.82\n",
            "    Uninstalling nvidia-cuda-runtime-cu12-12.5.82:\n",
            "      Successfully uninstalled nvidia-cuda-runtime-cu12-12.5.82\n",
            "  Attempting uninstall: nvidia-cuda-nvrtc-cu12\n",
            "    Found existing installation: nvidia-cuda-nvrtc-cu12 12.5.82\n",
            "    Uninstalling nvidia-cuda-nvrtc-cu12-12.5.82:\n",
            "      Successfully uninstalled nvidia-cuda-nvrtc-cu12-12.5.82\n",
            "  Attempting uninstall: nvidia-cuda-cupti-cu12\n",
            "    Found existing installation: nvidia-cuda-cupti-cu12 12.5.82\n",
            "    Uninstalling nvidia-cuda-cupti-cu12-12.5.82:\n",
            "      Successfully uninstalled nvidia-cuda-cupti-cu12-12.5.82\n",
            "  Attempting uninstall: nvidia-cublas-cu12\n",
            "    Found existing installation: nvidia-cublas-cu12 12.5.3.2\n",
            "    Uninstalling nvidia-cublas-cu12-12.5.3.2:\n",
            "      Successfully uninstalled nvidia-cublas-cu12-12.5.3.2\n",
            "  Attempting uninstall: fsspec\n",
            "    Found existing installation: fsspec 2025.3.2\n",
            "    Uninstalling fsspec-2025.3.2:\n",
            "      Successfully uninstalled fsspec-2025.3.2\n",
            "  Attempting uninstall: nvidia-cusparse-cu12\n",
            "    Found existing installation: nvidia-cusparse-cu12 12.5.1.3\n",
            "    Uninstalling nvidia-cusparse-cu12-12.5.1.3:\n",
            "      Successfully uninstalled nvidia-cusparse-cu12-12.5.1.3\n",
            "  Attempting uninstall: nvidia-cudnn-cu12\n",
            "    Found existing installation: nvidia-cudnn-cu12 9.3.0.75\n",
            "    Uninstalling nvidia-cudnn-cu12-9.3.0.75:\n",
            "      Successfully uninstalled nvidia-cudnn-cu12-9.3.0.75\n",
            "  Attempting uninstall: matplotlib\n",
            "    Found existing installation: matplotlib 3.10.0\n",
            "    Uninstalling matplotlib-3.10.0:\n",
            "      Successfully uninstalled matplotlib-3.10.0\n",
            "  Attempting uninstall: nvidia-cusolver-cu12\n",
            "    Found existing installation: nvidia-cusolver-cu12 11.6.3.83\n",
            "    Uninstalling nvidia-cusolver-cu12-11.6.3.83:\n",
            "      Successfully uninstalled nvidia-cusolver-cu12-11.6.3.83\n",
            "  Attempting uninstall: accelerate\n",
            "    Found existing installation: accelerate 1.5.2\n",
            "    Uninstalling accelerate-1.5.2:\n",
            "      Successfully uninstalled accelerate-1.5.2\n",
            "\u001b[31mERROR: pip's dependency resolver does not currently take into account all the packages that are installed. This behaviour is the source of the following dependency conflicts.\n",
            "gcsfs 2025.3.2 requires fsspec==2025.3.2, but you have fsspec 2024.12.0 which is incompatible.\u001b[0m\u001b[31m\n",
            "\u001b[0mSuccessfully installed accelerate-1.6.0 alembic-1.15.2 colorlog-6.9.0 datasets-3.5.0 dill-0.3.8 fsspec-2024.12.0 matplotlib-3.10.1 multiprocess-0.70.16 nvidia-cublas-cu12-12.4.5.8 nvidia-cuda-cupti-cu12-12.4.127 nvidia-cuda-nvrtc-cu12-12.4.127 nvidia-cuda-runtime-cu12-12.4.127 nvidia-cudnn-cu12-9.1.0.70 nvidia-cufft-cu12-11.2.1.3 nvidia-curand-cu12-10.3.5.147 nvidia-cusolver-cu12-11.6.1.9 nvidia-cusparse-cu12-12.3.1.170 nvidia-nvjitlink-cu12-12.4.127 optuna-4.3.0 xxhash-3.5.0\n"
          ]
        }
      ],
      "source": [
        "# Install dependencies\n",
        "!pip install -U transformers datasets optuna accelerate matplotlib\n",
        "\n",
        "# Imports\n",
        "import torch\n",
        "import time\n",
        "import numpy as np\n",
        "import optuna\n",
        "import matplotlib.pyplot as plt\n",
        "\n",
        "from transformers import AutoTokenizer, AutoModelForSequenceClassification, TrainingArguments, Trainer\n",
        "from datasets import load_dataset\n",
        "from sklearn.metrics import accuracy_score\n",
        "from itertools import product\n",
        "import random\n",
        "import gc"
      ]
    },
    {
      "cell_type": "code",
      "source": [
        "# Load dataset\n",
        "dataset = load_dataset(\"imdb\")\n",
        "dataset = dataset[\"train\"].shuffle(seed=42).select(range(5000))  # take a small subset\n",
        "dataset = dataset.train_test_split(test_size=0.2)\n",
        "\n",
        "# Tokenize\n",
        "checkpoint = \"distilbert-base-uncased\"\n",
        "tokenizer = AutoTokenizer.from_pretrained(checkpoint)\n",
        "\n",
        "def tokenize_fn(batch):\n",
        "    return tokenizer(batch['text'], truncation=True, padding=\"max_length\", max_length=256)\n",
        "\n",
        "dataset = dataset.map(tokenize_fn, batched=True)\n",
        "dataset.set_format(type=\"torch\", columns=['input_ids', 'attention_mask', 'label'])\n",
        "\n",
        "# Compute metrics\n",
        "def compute_metrics(eval_pred):\n",
        "    logits, labels = eval_pred\n",
        "    preds = np.argmax(logits, axis=1)\n",
        "    return {\"accuracy\": accuracy_score(labels, preds)}"
      ],
      "metadata": {
        "colab": {
          "base_uri": "https://localhost:8080/",
          "height": 209,
          "referenced_widgets": [
            "0d06cf8319ae4c3899cb8d6a6847866e",
            "119b6d87db184264b6d6089c6088561c",
            "56d5c386b4a34b01ac2313766944cb45",
            "9d790ffc452e4aa09b416fc90364916b",
            "99a63b00785b40c98d3cb8929578f66a",
            "dc59388ed45842c5a9634b7662c0cd05",
            "319e60862e6c4685a398b596c436fe05",
            "a5681c933b4542f8b0527b8994aa96d4",
            "056bfc3f09464c7196f5b1bb12e4a55e",
            "d79fec496dd3488dbdf52293355e525b",
            "be37aa50aaef492c83856d70866df1cb",
            "06e982f8de3a45e4ba2c199592712b4b",
            "0cd77ad3449a484297ba2c5a6834334a",
            "658297f4a11a43bdb2471b4fc4a79dec",
            "2255a62def67438daf3ba91d7a63060b",
            "05e4fd52100e4445b12d98f908dd4a7d",
            "a2a6829889e449cfa24f9e2cc32658f3",
            "2b90709de21543f6b25666b178b9ebcb",
            "d909b01f7c014e6b863b0ffc48f5a523",
            "7a785c0baa74492e83abac3d391cbe71",
            "53afa715a7454f4c85216cc60f75efb0",
            "4c0fc9244fd345f1a2c580580538f641",
            "9e9a47093d87478699822f0267c4f929",
            "c38e50d991344e5fb6fd6615cbc59c88",
            "393850a8790343fdb3ac19e00f68f1c5",
            "d2bf02a4367e45a6987921eaffaff865",
            "3a472a7b34ae491ea0af0cb8ff70b52a",
            "6913d0c3d50d44848222f93ffeed3ee0",
            "dcf4921110684c3cbcb7500970c1323b",
            "344e913e113a4820ba2ce72a96176532",
            "ff8b88653d0a4746b82234717af13548",
            "70eb513aeb3b4e57bd6c097bafece4a6",
            "443f413c6dfb4dbda76cf84fdb223051",
            "898908475dff4b60afe07c2fa53d0b43",
            "f93ba10d2a7a4f1189f1c6ed5d5f06a4",
            "7284a92d4a0f4c4b8a987b71d63dbc7d",
            "ceedb25091f543fba73b7d86f84422f3",
            "0e8f059768d2489fb50e4666d4854c8a",
            "6d7c0a0215434d89aa839c2c5785e5f6",
            "8d532cfb7c414511b92d2cf15565cd9d",
            "3c5e74ad56d64c558012622d8bb7e33e",
            "ac3ff2f47cc343d6baae339fe2e10b32",
            "7761f268017d4d15ac50a55baad13b84",
            "d9073407d95241a5bff51f1117caed7e",
            "3b2a17671c414bd2ab7dcb0c477514d9",
            "f7756aa455ad4202a80c386ad413e8dc",
            "8e690c6c91ff4c2e815a78bde22263d5",
            "07a229294a3f4f19802ad9fda7b43237",
            "1da3f61947b943a5a05bf9a735b12849",
            "22a784a9f5c149acaf685d90965d59d6",
            "3e6eaf187eac4aa29c36b43129b316ee",
            "ed7b0b94c7be4152b3d7bd20c771a9bd",
            "33bd355e6f7c44f29464e85a5b152ef7",
            "6e75f027f478483aafb984495aff1675",
            "238c5e79eee14f54a5e46c36bf0ed7dd",
            "ff65652483644f659df742a874941381",
            "3ff4c7d210b44322bf41ea391019c60d",
            "2d00b652d2f943f4bdb561864e5d0aad",
            "b7422468825844a7862a9579351375d6",
            "dcc9396074a14d81bd654d8a3f31a7d8",
            "26872177ca464a83909f6ca1ea860d01",
            "372ec57482db405395619bee22655c4d",
            "530861c61f81456d984ef2a40966c8c7",
            "ae4a8182dc0f4bfeab5cccc68aef2199",
            "6419140bbfa242d984919114e147bdfa",
            "896b204424144c84afc9cc99f0c9928b"
          ]
        },
        "id": "FQVdcDomrGLC",
        "outputId": "ef334f41-27fc-4cb7-db48-72b62c807b97"
      },
      "execution_count": null,
      "outputs": [
        {
          "output_type": "display_data",
          "data": {
            "text/plain": [
              "tokenizer_config.json:   0%|          | 0.00/48.0 [00:00<?, ?B/s]"
            ],
            "application/vnd.jupyter.widget-view+json": {
              "version_major": 2,
              "version_minor": 0,
              "model_id": "0d06cf8319ae4c3899cb8d6a6847866e"
            }
          },
          "metadata": {}
        },
        {
          "output_type": "display_data",
          "data": {
            "text/plain": [
              "config.json:   0%|          | 0.00/483 [00:00<?, ?B/s]"
            ],
            "application/vnd.jupyter.widget-view+json": {
              "version_major": 2,
              "version_minor": 0,
              "model_id": "06e982f8de3a45e4ba2c199592712b4b"
            }
          },
          "metadata": {}
        },
        {
          "output_type": "display_data",
          "data": {
            "text/plain": [
              "vocab.txt:   0%|          | 0.00/232k [00:00<?, ?B/s]"
            ],
            "application/vnd.jupyter.widget-view+json": {
              "version_major": 2,
              "version_minor": 0,
              "model_id": "9e9a47093d87478699822f0267c4f929"
            }
          },
          "metadata": {}
        },
        {
          "output_type": "display_data",
          "data": {
            "text/plain": [
              "tokenizer.json:   0%|          | 0.00/466k [00:00<?, ?B/s]"
            ],
            "application/vnd.jupyter.widget-view+json": {
              "version_major": 2,
              "version_minor": 0,
              "model_id": "898908475dff4b60afe07c2fa53d0b43"
            }
          },
          "metadata": {}
        },
        {
          "output_type": "display_data",
          "data": {
            "text/plain": [
              "Map:   0%|          | 0/4000 [00:00<?, ? examples/s]"
            ],
            "application/vnd.jupyter.widget-view+json": {
              "version_major": 2,
              "version_minor": 0,
              "model_id": "3b2a17671c414bd2ab7dcb0c477514d9"
            }
          },
          "metadata": {}
        },
        {
          "output_type": "display_data",
          "data": {
            "text/plain": [
              "Map:   0%|          | 0/1000 [00:00<?, ? examples/s]"
            ],
            "application/vnd.jupyter.widget-view+json": {
              "version_major": 2,
              "version_minor": 0,
              "model_id": "ff65652483644f659df742a874941381"
            }
          },
          "metadata": {}
        }
      ]
    },
    {
      "cell_type": "code",
      "source": [
        "# Train function\n",
        "def train_with_params(params, run_id=\"run\"):\n",
        "    epochs, batch_size, lr, fp16 = params\n",
        "    model = AutoModelForSequenceClassification.from_pretrained(checkpoint, num_labels=2)\n",
        "    training_args = TrainingArguments(\n",
        "        output_dir=f\"./results/{run_id}\",\n",
        "        eval_strategy=\"epoch\",\n",
        "        per_device_train_batch_size=batch_size,\n",
        "        per_device_eval_batch_size=batch_size,\n",
        "        num_train_epochs=epochs,\n",
        "        learning_rate=lr,\n",
        "        fp16=fp16,\n",
        "        logging_dir=f\"./logs/{run_id}\",\n",
        "        disable_tqdm=True,\n",
        "        report_to=\"none\",\n",
        "        save_strategy=\"no\"\n",
        "    )\n",
        "\n",
        "    trainer = Trainer(\n",
        "        model=model,\n",
        "        args=training_args,\n",
        "        train_dataset=dataset[\"train\"],\n",
        "        eval_dataset=dataset[\"test\"],\n",
        "        compute_metrics=compute_metrics\n",
        "    )\n",
        "\n",
        "    start_time = time.time()\n",
        "    trainer.train()\n",
        "    eval_results = trainer.evaluate()\n",
        "    time_taken = time.time() - start_time\n",
        "\n",
        "    # GPU memory usage\n",
        "    memory_mb = torch.cuda.max_memory_allocated() / 1024**2 if torch.cuda.is_available() else 0\n",
        "    torch.cuda.reset_peak_memory_stats()\n",
        "    del trainer\n",
        "    del model\n",
        "    gc.collect()\n",
        "    if torch.cuda.is_available():\n",
        "        torch.cuda.empty_cache()\n",
        "\n",
        "    return {\n",
        "        \"params\": params,\n",
        "        \"accuracy\": eval_results[\"eval_accuracy\"],\n",
        "        \"time\": time_taken,\n",
        "        \"memory\": memory_mb\n",
        "    }"
      ],
      "metadata": {
        "id": "kJNDLi8-rL2o"
      },
      "execution_count": null,
      "outputs": []
    },
    {
      "cell_type": "code",
      "source": [
        "# Grid Search\n",
        "epochs = [2, 3]\n",
        "batch_sizes = [8, 16]\n",
        "lrs = [2e-5, 5e-5]\n",
        "precisions = [True, False]\n",
        "grid = list(product(epochs, batch_sizes, lrs, precisions))\n",
        "\n",
        "grid_results = [train_with_params(params, run_id=f\"grid_{i}\") for i, params in enumerate(grid)]"
      ],
      "metadata": {
        "colab": {
          "base_uri": "https://localhost:8080/"
        },
        "id": "vcoJge8froeW",
        "outputId": "19b6a239-1939-4bb1-8a49-cef6e734bf21"
      },
      "execution_count": null,
      "outputs": [
        {
          "output_type": "stream",
          "name": "stderr",
          "text": [
            "Some weights of DistilBertForSequenceClassification were not initialized from the model checkpoint at distilbert-base-uncased and are newly initialized: ['classifier.bias', 'classifier.weight', 'pre_classifier.bias', 'pre_classifier.weight']\n",
            "You should probably TRAIN this model on a down-stream task to be able to use it for predictions and inference.\n"
          ]
        },
        {
          "output_type": "stream",
          "name": "stdout",
          "text": [
            "{'loss': 0.4088, 'grad_norm': 26.635589599609375, 'learning_rate': 1.008e-05, 'epoch': 1.0}\n",
            "{'eval_loss': 0.29635125398635864, 'eval_accuracy': 0.884, 'eval_runtime': 1.9225, 'eval_samples_per_second': 520.167, 'eval_steps_per_second': 65.021, 'epoch': 1.0}\n",
            "{'loss': 0.2303, 'grad_norm': 19.078340530395508, 'learning_rate': 8e-08, 'epoch': 2.0}\n",
            "{'eval_loss': 0.36596381664276123, 'eval_accuracy': 0.885, 'eval_runtime': 1.785, 'eval_samples_per_second': 560.22, 'eval_steps_per_second': 70.028, 'epoch': 2.0}\n",
            "{'train_runtime': 80.9845, 'train_samples_per_second': 98.784, 'train_steps_per_second': 12.348, 'train_loss': 0.3195637741088867, 'epoch': 2.0}\n",
            "{'eval_loss': 0.36596381664276123, 'eval_accuracy': 0.885, 'eval_runtime': 1.8027, 'eval_samples_per_second': 554.733, 'eval_steps_per_second': 69.342, 'epoch': 2.0}\n"
          ]
        },
        {
          "output_type": "stream",
          "name": "stderr",
          "text": [
            "Some weights of DistilBertForSequenceClassification were not initialized from the model checkpoint at distilbert-base-uncased and are newly initialized: ['classifier.bias', 'classifier.weight', 'pre_classifier.bias', 'pre_classifier.weight']\n",
            "You should probably TRAIN this model on a down-stream task to be able to use it for predictions and inference.\n"
          ]
        },
        {
          "output_type": "stream",
          "name": "stdout",
          "text": [
            "{'loss': 0.4025, 'grad_norm': 31.30899429321289, 'learning_rate': 1.008e-05, 'epoch': 1.0}\n",
            "{'eval_loss': 0.2989048957824707, 'eval_accuracy': 0.886, 'eval_runtime': 1.8646, 'eval_samples_per_second': 536.301, 'eval_steps_per_second': 67.038, 'epoch': 1.0}\n",
            "{'loss': 0.2194, 'grad_norm': 23.105113983154297, 'learning_rate': 8e-08, 'epoch': 2.0}\n",
            "{'eval_loss': 0.36511701345443726, 'eval_accuracy': 0.887, 'eval_runtime': 1.8697, 'eval_samples_per_second': 534.851, 'eval_steps_per_second': 66.856, 'epoch': 2.0}\n",
            "{'train_runtime': 72.0573, 'train_samples_per_second': 111.023, 'train_steps_per_second': 13.878, 'train_loss': 0.31095352172851565, 'epoch': 2.0}\n"
          ]
        },
        {
          "output_type": "stream",
          "name": "stderr",
          "text": [
            "Some weights of DistilBertForSequenceClassification were not initialized from the model checkpoint at distilbert-base-uncased and are newly initialized: ['classifier.bias', 'classifier.weight', 'pre_classifier.bias', 'pre_classifier.weight']\n",
            "You should probably TRAIN this model on a down-stream task to be able to use it for predictions and inference.\n"
          ]
        },
        {
          "output_type": "stream",
          "name": "stdout",
          "text": [
            "{'eval_loss': 0.36511701345443726, 'eval_accuracy': 0.887, 'eval_runtime': 1.8653, 'eval_samples_per_second': 536.105, 'eval_steps_per_second': 67.013, 'epoch': 2.0}\n",
            "{'loss': 0.4164, 'grad_norm': 13.756637573242188, 'learning_rate': 2.5200000000000003e-05, 'epoch': 1.0}\n",
            "{'eval_loss': 0.3308548033237457, 'eval_accuracy': 0.863, 'eval_runtime': 1.8414, 'eval_samples_per_second': 543.053, 'eval_steps_per_second': 67.882, 'epoch': 1.0}\n",
            "{'loss': 0.186, 'grad_norm': 24.786760330200195, 'learning_rate': 2.0000000000000002e-07, 'epoch': 2.0}\n",
            "{'eval_loss': 0.49498090147972107, 'eval_accuracy': 0.87, 'eval_runtime': 1.8549, 'eval_samples_per_second': 539.118, 'eval_steps_per_second': 67.39, 'epoch': 2.0}\n",
            "{'train_runtime': 72.796, 'train_samples_per_second': 109.896, 'train_steps_per_second': 13.737, 'train_loss': 0.30118526458740236, 'epoch': 2.0}\n"
          ]
        },
        {
          "output_type": "stream",
          "name": "stderr",
          "text": [
            "Some weights of DistilBertForSequenceClassification were not initialized from the model checkpoint at distilbert-base-uncased and are newly initialized: ['classifier.bias', 'classifier.weight', 'pre_classifier.bias', 'pre_classifier.weight']\n",
            "You should probably TRAIN this model on a down-stream task to be able to use it for predictions and inference.\n"
          ]
        },
        {
          "output_type": "stream",
          "name": "stdout",
          "text": [
            "{'eval_loss': 0.49498090147972107, 'eval_accuracy': 0.87, 'eval_runtime': 1.8553, 'eval_samples_per_second': 539.008, 'eval_steps_per_second': 67.376, 'epoch': 2.0}\n",
            "{'loss': 0.4164, 'grad_norm': 13.756637573242188, 'learning_rate': 2.5200000000000003e-05, 'epoch': 1.0}\n",
            "{'eval_loss': 0.3308548033237457, 'eval_accuracy': 0.863, 'eval_runtime': 1.8605, 'eval_samples_per_second': 537.485, 'eval_steps_per_second': 67.186, 'epoch': 1.0}\n",
            "{'loss': 0.186, 'grad_norm': 24.786760330200195, 'learning_rate': 2.0000000000000002e-07, 'epoch': 2.0}\n",
            "{'eval_loss': 0.49498090147972107, 'eval_accuracy': 0.87, 'eval_runtime': 1.8675, 'eval_samples_per_second': 535.472, 'eval_steps_per_second': 66.934, 'epoch': 2.0}\n",
            "{'train_runtime': 73.2784, 'train_samples_per_second': 109.173, 'train_steps_per_second': 13.647, 'train_loss': 0.30118526458740236, 'epoch': 2.0}\n"
          ]
        },
        {
          "output_type": "stream",
          "name": "stderr",
          "text": [
            "Some weights of DistilBertForSequenceClassification were not initialized from the model checkpoint at distilbert-base-uncased and are newly initialized: ['classifier.bias', 'classifier.weight', 'pre_classifier.bias', 'pre_classifier.weight']\n",
            "You should probably TRAIN this model on a down-stream task to be able to use it for predictions and inference.\n"
          ]
        },
        {
          "output_type": "stream",
          "name": "stdout",
          "text": [
            "{'eval_loss': 0.49498090147972107, 'eval_accuracy': 0.87, 'eval_runtime': 1.8634, 'eval_samples_per_second': 536.642, 'eval_steps_per_second': 67.08, 'epoch': 2.0}\n",
            "{'eval_loss': 0.3048163950443268, 'eval_accuracy': 0.875, 'eval_runtime': 1.6868, 'eval_samples_per_second': 592.85, 'eval_steps_per_second': 37.35, 'epoch': 1.0}\n",
            "{'loss': 0.3106, 'grad_norm': 9.364835739135742, 'learning_rate': 1.2000000000000002e-07, 'epoch': 2.0}\n",
            "{'eval_loss': 0.30111655592918396, 'eval_accuracy': 0.885, 'eval_runtime': 1.6544, 'eval_samples_per_second': 604.433, 'eval_steps_per_second': 38.079, 'epoch': 2.0}\n",
            "{'train_runtime': 55.8791, 'train_samples_per_second': 143.166, 'train_steps_per_second': 8.948, 'train_loss': 0.3106496276855469, 'epoch': 2.0}\n"
          ]
        },
        {
          "output_type": "stream",
          "name": "stderr",
          "text": [
            "Some weights of DistilBertForSequenceClassification were not initialized from the model checkpoint at distilbert-base-uncased and are newly initialized: ['classifier.bias', 'classifier.weight', 'pre_classifier.bias', 'pre_classifier.weight']\n",
            "You should probably TRAIN this model on a down-stream task to be able to use it for predictions and inference.\n"
          ]
        },
        {
          "output_type": "stream",
          "name": "stdout",
          "text": [
            "{'eval_loss': 0.30111655592918396, 'eval_accuracy': 0.885, 'eval_runtime': 1.6603, 'eval_samples_per_second': 602.303, 'eval_steps_per_second': 37.945, 'epoch': 2.0}\n",
            "{'eval_loss': 0.3048163950443268, 'eval_accuracy': 0.875, 'eval_runtime': 1.6868, 'eval_samples_per_second': 592.827, 'eval_steps_per_second': 37.348, 'epoch': 1.0}\n",
            "{'loss': 0.3106, 'grad_norm': 9.364835739135742, 'learning_rate': 1.2000000000000002e-07, 'epoch': 2.0}\n",
            "{'eval_loss': 0.30111655592918396, 'eval_accuracy': 0.885, 'eval_runtime': 1.6835, 'eval_samples_per_second': 594.002, 'eval_steps_per_second': 37.422, 'epoch': 2.0}\n",
            "{'train_runtime': 55.5159, 'train_samples_per_second': 144.103, 'train_steps_per_second': 9.006, 'train_loss': 0.3106496276855469, 'epoch': 2.0}\n",
            "{'eval_loss': 0.30111655592918396, 'eval_accuracy': 0.885, 'eval_runtime': 1.6705, 'eval_samples_per_second': 598.611, 'eval_steps_per_second': 37.712, 'epoch': 2.0}\n"
          ]
        },
        {
          "output_type": "stream",
          "name": "stderr",
          "text": [
            "Some weights of DistilBertForSequenceClassification were not initialized from the model checkpoint at distilbert-base-uncased and are newly initialized: ['classifier.bias', 'classifier.weight', 'pre_classifier.bias', 'pre_classifier.weight']\n",
            "You should probably TRAIN this model on a down-stream task to be able to use it for predictions and inference.\n"
          ]
        },
        {
          "output_type": "stream",
          "name": "stdout",
          "text": [
            "{'eval_loss': 0.29999345541000366, 'eval_accuracy': 0.88, 'eval_runtime': 1.6914, 'eval_samples_per_second': 591.22, 'eval_steps_per_second': 37.247, 'epoch': 1.0}\n",
            "{'loss': 0.2792, 'grad_norm': 4.099737644195557, 'learning_rate': 3.0000000000000004e-07, 'epoch': 2.0}\n",
            "{'eval_loss': 0.3315337002277374, 'eval_accuracy': 0.892, 'eval_runtime': 1.6733, 'eval_samples_per_second': 597.621, 'eval_steps_per_second': 37.65, 'epoch': 2.0}\n",
            "{'train_runtime': 55.5591, 'train_samples_per_second': 143.991, 'train_steps_per_second': 8.999, 'train_loss': 0.27917941284179687, 'epoch': 2.0}\n",
            "{'eval_loss': 0.3315337002277374, 'eval_accuracy': 0.892, 'eval_runtime': 1.6877, 'eval_samples_per_second': 592.521, 'eval_steps_per_second': 37.329, 'epoch': 2.0}\n"
          ]
        },
        {
          "output_type": "stream",
          "name": "stderr",
          "text": [
            "Some weights of DistilBertForSequenceClassification were not initialized from the model checkpoint at distilbert-base-uncased and are newly initialized: ['classifier.bias', 'classifier.weight', 'pre_classifier.bias', 'pre_classifier.weight']\n",
            "You should probably TRAIN this model on a down-stream task to be able to use it for predictions and inference.\n"
          ]
        },
        {
          "output_type": "stream",
          "name": "stdout",
          "text": [
            "{'eval_loss': 0.29999345541000366, 'eval_accuracy': 0.88, 'eval_runtime': 1.6872, 'eval_samples_per_second': 592.698, 'eval_steps_per_second': 37.34, 'epoch': 1.0}\n",
            "{'loss': 0.2792, 'grad_norm': 4.099737644195557, 'learning_rate': 3.0000000000000004e-07, 'epoch': 2.0}\n",
            "{'eval_loss': 0.3315337002277374, 'eval_accuracy': 0.892, 'eval_runtime': 1.671, 'eval_samples_per_second': 598.43, 'eval_steps_per_second': 37.701, 'epoch': 2.0}\n",
            "{'train_runtime': 55.597, 'train_samples_per_second': 143.893, 'train_steps_per_second': 8.993, 'train_loss': 0.27917941284179687, 'epoch': 2.0}\n"
          ]
        },
        {
          "output_type": "stream",
          "name": "stderr",
          "text": [
            "Some weights of DistilBertForSequenceClassification were not initialized from the model checkpoint at distilbert-base-uncased and are newly initialized: ['classifier.bias', 'classifier.weight', 'pre_classifier.bias', 'pre_classifier.weight']\n",
            "You should probably TRAIN this model on a down-stream task to be able to use it for predictions and inference.\n"
          ]
        },
        {
          "output_type": "stream",
          "name": "stdout",
          "text": [
            "{'eval_loss': 0.3315337002277374, 'eval_accuracy': 0.892, 'eval_runtime': 1.6669, 'eval_samples_per_second': 599.921, 'eval_steps_per_second': 37.795, 'epoch': 2.0}\n",
            "{'loss': 0.4059, 'grad_norm': 22.250362396240234, 'learning_rate': 1.3386666666666668e-05, 'epoch': 1.0}\n",
            "{'eval_loss': 0.27730634808540344, 'eval_accuracy': 0.892, 'eval_runtime': 1.8771, 'eval_samples_per_second': 532.742, 'eval_steps_per_second': 66.593, 'epoch': 1.0}\n",
            "{'loss': 0.2257, 'grad_norm': 34.23664093017578, 'learning_rate': 6.720000000000001e-06, 'epoch': 2.0}\n",
            "{'eval_loss': 0.41212350130081177, 'eval_accuracy': 0.881, 'eval_runtime': 1.8873, 'eval_samples_per_second': 529.848, 'eval_steps_per_second': 66.231, 'epoch': 2.0}\n",
            "{'loss': 0.1229, 'grad_norm': 0.049637869000434875, 'learning_rate': 6.666666666666668e-08, 'epoch': 3.0}\n",
            "{'eval_loss': 0.4450581669807434, 'eval_accuracy': 0.888, 'eval_runtime': 1.906, 'eval_samples_per_second': 524.654, 'eval_steps_per_second': 65.582, 'epoch': 3.0}\n",
            "{'train_runtime': 109.6224, 'train_samples_per_second': 109.467, 'train_steps_per_second': 13.683, 'train_loss': 0.2514994277954102, 'epoch': 3.0}\n"
          ]
        },
        {
          "output_type": "stream",
          "name": "stderr",
          "text": [
            "Some weights of DistilBertForSequenceClassification were not initialized from the model checkpoint at distilbert-base-uncased and are newly initialized: ['classifier.bias', 'classifier.weight', 'pre_classifier.bias', 'pre_classifier.weight']\n",
            "You should probably TRAIN this model on a down-stream task to be able to use it for predictions and inference.\n"
          ]
        },
        {
          "output_type": "stream",
          "name": "stdout",
          "text": [
            "{'eval_loss': 0.4450581669807434, 'eval_accuracy': 0.888, 'eval_runtime': 1.934, 'eval_samples_per_second': 517.059, 'eval_steps_per_second': 64.632, 'epoch': 3.0}\n",
            "{'loss': 0.4072, 'grad_norm': 20.56822967529297, 'learning_rate': 1.3386666666666668e-05, 'epoch': 1.0}\n",
            "{'eval_loss': 0.287698894739151, 'eval_accuracy': 0.89, 'eval_runtime': 1.8799, 'eval_samples_per_second': 531.933, 'eval_steps_per_second': 66.492, 'epoch': 1.0}\n",
            "{'loss': 0.2294, 'grad_norm': 7.417285919189453, 'learning_rate': 6.720000000000001e-06, 'epoch': 2.0}\n",
            "{'eval_loss': 0.4430581033229828, 'eval_accuracy': 0.878, 'eval_runtime': 1.8883, 'eval_samples_per_second': 529.576, 'eval_steps_per_second': 66.197, 'epoch': 2.0}\n",
            "{'loss': 0.1218, 'grad_norm': 0.05732160806655884, 'learning_rate': 5.3333333333333334e-08, 'epoch': 3.0}\n",
            "{'eval_loss': 0.49184900522232056, 'eval_accuracy': 0.882, 'eval_runtime': 1.8861, 'eval_samples_per_second': 530.202, 'eval_steps_per_second': 66.275, 'epoch': 3.0}\n",
            "{'train_runtime': 109.5194, 'train_samples_per_second': 109.57, 'train_steps_per_second': 13.696, 'train_loss': 0.25280653381347656, 'epoch': 3.0}\n"
          ]
        },
        {
          "output_type": "stream",
          "name": "stderr",
          "text": [
            "Some weights of DistilBertForSequenceClassification were not initialized from the model checkpoint at distilbert-base-uncased and are newly initialized: ['classifier.bias', 'classifier.weight', 'pre_classifier.bias', 'pre_classifier.weight']\n",
            "You should probably TRAIN this model on a down-stream task to be able to use it for predictions and inference.\n"
          ]
        },
        {
          "output_type": "stream",
          "name": "stdout",
          "text": [
            "{'eval_loss': 0.49184900522232056, 'eval_accuracy': 0.882, 'eval_runtime': 1.8969, 'eval_samples_per_second': 527.166, 'eval_steps_per_second': 65.896, 'epoch': 3.0}\n",
            "{'loss': 0.413, 'grad_norm': 18.909168243408203, 'learning_rate': 3.343333333333333e-05, 'epoch': 1.0}\n",
            "{'eval_loss': 0.3114530146121979, 'eval_accuracy': 0.88, 'eval_runtime': 1.8781, 'eval_samples_per_second': 532.463, 'eval_steps_per_second': 66.558, 'epoch': 1.0}\n",
            "{'loss': 0.205, 'grad_norm': 5.392298698425293, 'learning_rate': 1.6800000000000002e-05, 'epoch': 2.0}\n",
            "{'eval_loss': 0.5253783464431763, 'eval_accuracy': 0.877, 'eval_runtime': 1.8899, 'eval_samples_per_second': 529.122, 'eval_steps_per_second': 66.14, 'epoch': 2.0}\n",
            "{'loss': 0.0666, 'grad_norm': 0.027777547016739845, 'learning_rate': 1.3333333333333334e-07, 'epoch': 3.0}\n",
            "{'eval_loss': 0.5436444878578186, 'eval_accuracy': 0.89, 'eval_runtime': 1.887, 'eval_samples_per_second': 529.943, 'eval_steps_per_second': 66.243, 'epoch': 3.0}\n",
            "{'train_runtime': 109.5351, 'train_samples_per_second': 109.554, 'train_steps_per_second': 13.694, 'train_loss': 0.22821561431884765, 'epoch': 3.0}\n",
            "{'eval_loss': 0.5436444878578186, 'eval_accuracy': 0.89, 'eval_runtime': 1.9037, 'eval_samples_per_second': 525.28, 'eval_steps_per_second': 65.66, 'epoch': 3.0}\n"
          ]
        },
        {
          "output_type": "stream",
          "name": "stderr",
          "text": [
            "Some weights of DistilBertForSequenceClassification were not initialized from the model checkpoint at distilbert-base-uncased and are newly initialized: ['classifier.bias', 'classifier.weight', 'pre_classifier.bias', 'pre_classifier.weight']\n",
            "You should probably TRAIN this model on a down-stream task to be able to use it for predictions and inference.\n"
          ]
        },
        {
          "output_type": "stream",
          "name": "stdout",
          "text": [
            "{'loss': 0.413, 'grad_norm': 18.909168243408203, 'learning_rate': 3.343333333333333e-05, 'epoch': 1.0}\n",
            "{'eval_loss': 0.3114530146121979, 'eval_accuracy': 0.88, 'eval_runtime': 1.9189, 'eval_samples_per_second': 521.134, 'eval_steps_per_second': 65.142, 'epoch': 1.0}\n",
            "{'loss': 0.205, 'grad_norm': 5.392298698425293, 'learning_rate': 1.6800000000000002e-05, 'epoch': 2.0}\n",
            "{'eval_loss': 0.5253783464431763, 'eval_accuracy': 0.877, 'eval_runtime': 1.9026, 'eval_samples_per_second': 525.6, 'eval_steps_per_second': 65.7, 'epoch': 2.0}\n",
            "{'loss': 0.0666, 'grad_norm': 0.027777547016739845, 'learning_rate': 1.3333333333333334e-07, 'epoch': 3.0}\n",
            "{'eval_loss': 0.5436444878578186, 'eval_accuracy': 0.89, 'eval_runtime': 1.878, 'eval_samples_per_second': 532.487, 'eval_steps_per_second': 66.561, 'epoch': 3.0}\n",
            "{'train_runtime': 109.4749, 'train_samples_per_second': 109.614, 'train_steps_per_second': 13.702, 'train_loss': 0.22821561431884765, 'epoch': 3.0}\n"
          ]
        },
        {
          "output_type": "stream",
          "name": "stderr",
          "text": [
            "Some weights of DistilBertForSequenceClassification were not initialized from the model checkpoint at distilbert-base-uncased and are newly initialized: ['classifier.bias', 'classifier.weight', 'pre_classifier.bias', 'pre_classifier.weight']\n",
            "You should probably TRAIN this model on a down-stream task to be able to use it for predictions and inference.\n"
          ]
        },
        {
          "output_type": "stream",
          "name": "stdout",
          "text": [
            "{'eval_loss': 0.5436444878578186, 'eval_accuracy': 0.89, 'eval_runtime': 1.8929, 'eval_samples_per_second': 528.287, 'eval_steps_per_second': 66.036, 'epoch': 3.0}\n",
            "{'eval_loss': 0.3161035478115082, 'eval_accuracy': 0.869, 'eval_runtime': 1.7003, 'eval_samples_per_second': 588.141, 'eval_steps_per_second': 37.053, 'epoch': 1.0}\n",
            "{'loss': 0.3118, 'grad_norm': 12.954025268554688, 'learning_rate': 6.746666666666667e-06, 'epoch': 2.0}\n",
            "{'eval_loss': 0.33530470728874207, 'eval_accuracy': 0.893, 'eval_runtime': 1.6995, 'eval_samples_per_second': 588.411, 'eval_steps_per_second': 37.07, 'epoch': 2.0}\n",
            "{'eval_loss': 0.3897440731525421, 'eval_accuracy': 0.885, 'eval_runtime': 1.7001, 'eval_samples_per_second': 588.189, 'eval_steps_per_second': 37.056, 'epoch': 3.0}\n",
            "{'train_runtime': 83.5589, 'train_samples_per_second': 143.611, 'train_steps_per_second': 8.976, 'train_loss': 0.2539941711425781, 'epoch': 3.0}\n",
            "{'eval_loss': 0.3897440731525421, 'eval_accuracy': 0.885, 'eval_runtime': 1.6825, 'eval_samples_per_second': 594.352, 'eval_steps_per_second': 37.444, 'epoch': 3.0}\n"
          ]
        },
        {
          "output_type": "stream",
          "name": "stderr",
          "text": [
            "Some weights of DistilBertForSequenceClassification were not initialized from the model checkpoint at distilbert-base-uncased and are newly initialized: ['classifier.bias', 'classifier.weight', 'pre_classifier.bias', 'pre_classifier.weight']\n",
            "You should probably TRAIN this model on a down-stream task to be able to use it for predictions and inference.\n"
          ]
        },
        {
          "output_type": "stream",
          "name": "stdout",
          "text": [
            "{'eval_loss': 0.3161035478115082, 'eval_accuracy': 0.869, 'eval_runtime': 1.7031, 'eval_samples_per_second': 587.165, 'eval_steps_per_second': 36.991, 'epoch': 1.0}\n",
            "{'loss': 0.3118, 'grad_norm': 12.954025268554688, 'learning_rate': 6.746666666666667e-06, 'epoch': 2.0}\n",
            "{'eval_loss': 0.33530470728874207, 'eval_accuracy': 0.893, 'eval_runtime': 1.6752, 'eval_samples_per_second': 596.948, 'eval_steps_per_second': 37.608, 'epoch': 2.0}\n",
            "{'eval_loss': 0.3897440731525421, 'eval_accuracy': 0.885, 'eval_runtime': 1.701, 'eval_samples_per_second': 587.88, 'eval_steps_per_second': 37.036, 'epoch': 3.0}\n",
            "{'train_runtime': 83.6398, 'train_samples_per_second': 143.472, 'train_steps_per_second': 8.967, 'train_loss': 0.2539941711425781, 'epoch': 3.0}\n",
            "{'eval_loss': 0.3897440731525421, 'eval_accuracy': 0.885, 'eval_runtime': 1.6733, 'eval_samples_per_second': 597.605, 'eval_steps_per_second': 37.649, 'epoch': 3.0}\n"
          ]
        },
        {
          "output_type": "stream",
          "name": "stderr",
          "text": [
            "Some weights of DistilBertForSequenceClassification were not initialized from the model checkpoint at distilbert-base-uncased and are newly initialized: ['classifier.bias', 'classifier.weight', 'pre_classifier.bias', 'pre_classifier.weight']\n",
            "You should probably TRAIN this model on a down-stream task to be able to use it for predictions and inference.\n"
          ]
        },
        {
          "output_type": "stream",
          "name": "stdout",
          "text": [
            "{'eval_loss': 0.3018827438354492, 'eval_accuracy': 0.875, 'eval_runtime': 1.6846, 'eval_samples_per_second': 593.628, 'eval_steps_per_second': 37.399, 'epoch': 1.0}\n",
            "{'loss': 0.2938, 'grad_norm': 12.217448234558105, 'learning_rate': 1.6866666666666666e-05, 'epoch': 2.0}\n",
            "{'eval_loss': 0.34028640389442444, 'eval_accuracy': 0.884, 'eval_runtime': 1.6724, 'eval_samples_per_second': 597.933, 'eval_steps_per_second': 37.67, 'epoch': 2.0}\n",
            "{'eval_loss': 0.45089998841285706, 'eval_accuracy': 0.884, 'eval_runtime': 1.7018, 'eval_samples_per_second': 587.615, 'eval_steps_per_second': 37.02, 'epoch': 3.0}\n",
            "{'train_runtime': 83.4926, 'train_samples_per_second': 143.725, 'train_steps_per_second': 8.983, 'train_loss': 0.2204302927652995, 'epoch': 3.0}\n"
          ]
        },
        {
          "output_type": "stream",
          "name": "stderr",
          "text": [
            "Some weights of DistilBertForSequenceClassification were not initialized from the model checkpoint at distilbert-base-uncased and are newly initialized: ['classifier.bias', 'classifier.weight', 'pre_classifier.bias', 'pre_classifier.weight']\n",
            "You should probably TRAIN this model on a down-stream task to be able to use it for predictions and inference.\n"
          ]
        },
        {
          "output_type": "stream",
          "name": "stdout",
          "text": [
            "{'eval_loss': 0.45089998841285706, 'eval_accuracy': 0.884, 'eval_runtime': 1.6889, 'eval_samples_per_second': 592.104, 'eval_steps_per_second': 37.303, 'epoch': 3.0}\n",
            "{'eval_loss': 0.3018827438354492, 'eval_accuracy': 0.875, 'eval_runtime': 1.6935, 'eval_samples_per_second': 590.504, 'eval_steps_per_second': 37.202, 'epoch': 1.0}\n",
            "{'loss': 0.2938, 'grad_norm': 12.217448234558105, 'learning_rate': 1.6866666666666666e-05, 'epoch': 2.0}\n",
            "{'eval_loss': 0.34028640389442444, 'eval_accuracy': 0.884, 'eval_runtime': 1.6686, 'eval_samples_per_second': 599.306, 'eval_steps_per_second': 37.756, 'epoch': 2.0}\n",
            "{'eval_loss': 0.45089998841285706, 'eval_accuracy': 0.884, 'eval_runtime': 1.6994, 'eval_samples_per_second': 588.452, 'eval_steps_per_second': 37.072, 'epoch': 3.0}\n",
            "{'train_runtime': 83.4057, 'train_samples_per_second': 143.875, 'train_steps_per_second': 8.992, 'train_loss': 0.2204302927652995, 'epoch': 3.0}\n",
            "{'eval_loss': 0.45089998841285706, 'eval_accuracy': 0.884, 'eval_runtime': 1.6695, 'eval_samples_per_second': 598.977, 'eval_steps_per_second': 37.736, 'epoch': 3.0}\n"
          ]
        }
      ]
    },
    {
      "cell_type": "code",
      "source": [
        "# Random Search\n",
        "random_trials = 10\n",
        "search_space = {\n",
        "    \"epochs\": [2, 3],\n",
        "    \"batch_size\": [8, 16],\n",
        "    \"lr\": [2e-5, 5e-5, 1e-5],\n",
        "    \"fp16\": [True, False]\n",
        "}\n",
        "random_results = []\n",
        "best_random_acc = 0\n",
        "no_improve_counter = 0\n",
        "\n",
        "for i in range(random_trials):\n",
        "    params = (\n",
        "        random.choice(search_space[\"epochs\"]),\n",
        "        random.choice(search_space[\"batch_size\"]),\n",
        "        random.choice(search_space[\"lr\"]),\n",
        "        random.choice(search_space[\"fp16\"])\n",
        "    )\n",
        "    result = train_with_params(params, run_id=f\"random_{i}\")\n",
        "    random_results.append(result)\n",
        "\n",
        "    if result[\"accuracy\"] > best_random_acc:\n",
        "        best_random_acc = result[\"accuracy\"]\n",
        "        no_improve_counter = 0\n",
        "    else:\n",
        "        no_improve_counter += 1\n",
        "\n",
        "    if no_improve_counter >= 3:\n",
        "        break  # early stop"
      ],
      "metadata": {
        "colab": {
          "base_uri": "https://localhost:8080/"
        },
        "id": "weQE2vk7rrtG",
        "outputId": "a930ceb8-1c65-410f-a80c-a277862f6060"
      },
      "execution_count": null,
      "outputs": [
        {
          "output_type": "stream",
          "name": "stderr",
          "text": [
            "Some weights of DistilBertForSequenceClassification were not initialized from the model checkpoint at distilbert-base-uncased and are newly initialized: ['classifier.bias', 'classifier.weight', 'pre_classifier.bias', 'pre_classifier.weight']\n",
            "You should probably TRAIN this model on a down-stream task to be able to use it for predictions and inference.\n"
          ]
        },
        {
          "output_type": "stream",
          "name": "stdout",
          "text": [
            "{'loss': 0.4225, 'grad_norm': 21.682043075561523, 'learning_rate': 5.04e-06, 'epoch': 1.0}\n",
            "{'eval_loss': 0.3360164761543274, 'eval_accuracy': 0.866, 'eval_runtime': 1.8716, 'eval_samples_per_second': 534.303, 'eval_steps_per_second': 66.788, 'epoch': 1.0}\n",
            "{'loss': 0.2645, 'grad_norm': 16.127729415893555, 'learning_rate': 5.0000000000000004e-08, 'epoch': 2.0}\n",
            "{'eval_loss': 0.33103635907173157, 'eval_accuracy': 0.89, 'eval_runtime': 1.8736, 'eval_samples_per_second': 533.738, 'eval_steps_per_second': 66.717, 'epoch': 2.0}\n",
            "{'train_runtime': 72.9733, 'train_samples_per_second': 109.629, 'train_steps_per_second': 13.704, 'train_loss': 0.34351182556152343, 'epoch': 2.0}\n"
          ]
        },
        {
          "output_type": "stream",
          "name": "stderr",
          "text": [
            "Some weights of DistilBertForSequenceClassification were not initialized from the model checkpoint at distilbert-base-uncased and are newly initialized: ['classifier.bias', 'classifier.weight', 'pre_classifier.bias', 'pre_classifier.weight']\n",
            "You should probably TRAIN this model on a down-stream task to be able to use it for predictions and inference.\n"
          ]
        },
        {
          "output_type": "stream",
          "name": "stdout",
          "text": [
            "{'eval_loss': 0.33103635907173157, 'eval_accuracy': 0.89, 'eval_runtime': 1.882, 'eval_samples_per_second': 531.338, 'eval_steps_per_second': 66.417, 'epoch': 2.0}\n",
            "{'loss': 0.4218, 'grad_norm': 26.05292510986328, 'learning_rate': 5.03e-06, 'epoch': 1.0}\n",
            "{'eval_loss': 0.3166032135486603, 'eval_accuracy': 0.884, 'eval_runtime': 1.8797, 'eval_samples_per_second': 531.998, 'eval_steps_per_second': 66.5, 'epoch': 1.0}\n",
            "{'loss': 0.263, 'grad_norm': 11.971961975097656, 'learning_rate': 5.0000000000000004e-08, 'epoch': 2.0}\n",
            "{'eval_loss': 0.3324583172798157, 'eval_accuracy': 0.887, 'eval_runtime': 1.8782, 'eval_samples_per_second': 532.419, 'eval_steps_per_second': 66.552, 'epoch': 2.0}\n",
            "{'train_runtime': 72.916, 'train_samples_per_second': 109.715, 'train_steps_per_second': 13.714, 'train_loss': 0.34243006896972655, 'epoch': 2.0}\n",
            "{'eval_loss': 0.3324583172798157, 'eval_accuracy': 0.887, 'eval_runtime': 1.9466, 'eval_samples_per_second': 513.717, 'eval_steps_per_second': 64.215, 'epoch': 2.0}\n"
          ]
        },
        {
          "output_type": "stream",
          "name": "stderr",
          "text": [
            "Some weights of DistilBertForSequenceClassification were not initialized from the model checkpoint at distilbert-base-uncased and are newly initialized: ['classifier.bias', 'classifier.weight', 'pre_classifier.bias', 'pre_classifier.weight']\n",
            "You should probably TRAIN this model on a down-stream task to be able to use it for predictions and inference.\n"
          ]
        },
        {
          "output_type": "stream",
          "name": "stdout",
          "text": [
            "{'loss': 0.4218, 'grad_norm': 26.05292510986328, 'learning_rate': 5.03e-06, 'epoch': 1.0}\n",
            "{'eval_loss': 0.3166032135486603, 'eval_accuracy': 0.884, 'eval_runtime': 1.8955, 'eval_samples_per_second': 527.572, 'eval_steps_per_second': 65.947, 'epoch': 1.0}\n",
            "{'loss': 0.263, 'grad_norm': 11.971961975097656, 'learning_rate': 5.0000000000000004e-08, 'epoch': 2.0}\n",
            "{'eval_loss': 0.3324583172798157, 'eval_accuracy': 0.887, 'eval_runtime': 1.8752, 'eval_samples_per_second': 533.284, 'eval_steps_per_second': 66.66, 'epoch': 2.0}\n",
            "{'train_runtime': 72.9607, 'train_samples_per_second': 109.648, 'train_steps_per_second': 13.706, 'train_loss': 0.34243006896972655, 'epoch': 2.0}\n",
            "{'eval_loss': 0.3324583172798157, 'eval_accuracy': 0.887, 'eval_runtime': 1.879, 'eval_samples_per_second': 532.196, 'eval_steps_per_second': 66.525, 'epoch': 2.0}\n"
          ]
        },
        {
          "output_type": "stream",
          "name": "stderr",
          "text": [
            "Some weights of DistilBertForSequenceClassification were not initialized from the model checkpoint at distilbert-base-uncased and are newly initialized: ['classifier.bias', 'classifier.weight', 'pre_classifier.bias', 'pre_classifier.weight']\n",
            "You should probably TRAIN this model on a down-stream task to be able to use it for predictions and inference.\n"
          ]
        },
        {
          "output_type": "stream",
          "name": "stdout",
          "text": [
            "{'loss': 0.4218, 'grad_norm': 26.05292510986328, 'learning_rate': 5.03e-06, 'epoch': 1.0}\n",
            "{'eval_loss': 0.3166032135486603, 'eval_accuracy': 0.884, 'eval_runtime': 1.8785, 'eval_samples_per_second': 532.346, 'eval_steps_per_second': 66.543, 'epoch': 1.0}\n",
            "{'loss': 0.263, 'grad_norm': 11.971961975097656, 'learning_rate': 5.0000000000000004e-08, 'epoch': 2.0}\n",
            "{'eval_loss': 0.3324583172798157, 'eval_accuracy': 0.887, 'eval_runtime': 1.8828, 'eval_samples_per_second': 531.118, 'eval_steps_per_second': 66.39, 'epoch': 2.0}\n",
            "{'train_runtime': 72.9703, 'train_samples_per_second': 109.634, 'train_steps_per_second': 13.704, 'train_loss': 0.34243006896972655, 'epoch': 2.0}\n",
            "{'eval_loss': 0.3324583172798157, 'eval_accuracy': 0.887, 'eval_runtime': 1.8833, 'eval_samples_per_second': 530.983, 'eval_steps_per_second': 66.373, 'epoch': 2.0}\n"
          ]
        }
      ]
    },
    {
      "cell_type": "code",
      "source": [
        "# Optuna Search\n",
        "def objective(trial):\n",
        "    epochs = trial.suggest_int(\"epochs\", 2, 4)\n",
        "    batch_size = trial.suggest_categorical(\"batch_size\", [8, 16])\n",
        "    lr = trial.suggest_float(\"lr\", 1e-5, 5e-4, log=True)\n",
        "    fp16 = trial.suggest_categorical(\"fp16\", [True, False])\n",
        "    result = train_with_params((epochs, batch_size, lr, fp16), run_id=f\"optuna_{trial.number}\")\n",
        "    trial.set_user_attr(\"time\", result[\"time\"])\n",
        "    trial.set_user_attr(\"memory\", result[\"memory\"])\n",
        "    return result[\"accuracy\"]\n",
        "\n",
        "study = optuna.create_study(direction=\"maximize\")\n",
        "study.optimize(objective, n_trials=30)\n",
        "\n",
        "optuna_results = [{\n",
        "    \"params\": (\n",
        "        t.params[\"epochs\"],\n",
        "        t.params[\"batch_size\"],\n",
        "        t.params[\"lr\"],\n",
        "        t.params[\"fp16\"]\n",
        "    ),\n",
        "    \"accuracy\": t.value,\n",
        "    \"memory\": t.user_attrs[\"memory\"],\n",
        "    \"time\": t.user_attrs[\"time\"]\n",
        "} for t in study.trials]"
      ],
      "metadata": {
        "colab": {
          "base_uri": "https://localhost:8080/"
        },
        "id": "Nv2u5bDKrvG_",
        "outputId": "5624f191-44f2-4074-e6b4-2ded77e240e1"
      },
      "execution_count": null,
      "outputs": [
        {
          "metadata": {
            "tags": null
          },
          "name": "stderr",
          "output_type": "stream",
          "text": [
            "[I 2025-04-24 07:53:42,577] A new study created in memory with name: no-name-0ab006e1-5434-4be0-b107-826aa6610d2f\n",
            "Some weights of DistilBertForSequenceClassification were not initialized from the model checkpoint at distilbert-base-uncased and are newly initialized: ['classifier.bias', 'classifier.weight', 'pre_classifier.bias', 'pre_classifier.weight']\n",
            "You should probably TRAIN this model on a down-stream task to be able to use it for predictions and inference.\n"
          ]
        },
        {
          "metadata": {
            "tags": null
          },
          "name": "stdout",
          "output_type": "stream",
          "text": [
            "{'eval_loss': 0.294685959815979, 'eval_accuracy': 0.876, 'eval_runtime': 1.6922, 'eval_samples_per_second': 590.95, 'eval_steps_per_second': 37.23, 'epoch': 1.0}\n",
            "{'loss': 0.3039, 'grad_norm': 9.730597496032715, 'learning_rate': 1.2217883903148364e-05, 'epoch': 2.0}\n",
            "{'eval_loss': 0.3326031565666199, 'eval_accuracy': 0.888, 'eval_runtime': 1.6845, 'eval_samples_per_second': 593.634, 'eval_steps_per_second': 37.399, 'epoch': 2.0}\n",
            "{'eval_loss': 0.4310437738895416, 'eval_accuracy': 0.878, 'eval_runtime': 1.7016, 'eval_samples_per_second': 587.672, 'eval_steps_per_second': 37.023, 'epoch': 3.0}\n",
            "{'loss': 0.0827, 'grad_norm': 0.45217376947402954, 'learning_rate': 7.2870082921362e-08, 'epoch': 4.0}\n",
            "{'eval_loss': 0.4813239276409149, 'eval_accuracy': 0.877, 'eval_runtime': 1.6762, 'eval_samples_per_second': 596.593, 'eval_steps_per_second': 37.585, 'epoch': 4.0}\n",
            "{'train_runtime': 111.3126, 'train_samples_per_second': 143.739, 'train_steps_per_second': 8.984, 'train_loss': 0.1933101348876953, 'epoch': 4.0}\n"
          ]
        },
        {
          "metadata": {
            "tags": null
          },
          "name": "stderr",
          "output_type": "stream",
          "text": [
            "[I 2025-04-24 07:55:36,603] Trial 0 finished with value: 0.877 and parameters: {'epochs': 4, 'batch_size': 16, 'lr': 2.4290027640454002e-05, 'fp16': True}. Best is trial 0 with value: 0.877.\n",
            "Some weights of DistilBertForSequenceClassification were not initialized from the model checkpoint at distilbert-base-uncased and are newly initialized: ['classifier.bias', 'classifier.weight', 'pre_classifier.bias', 'pre_classifier.weight']\n",
            "You should probably TRAIN this model on a down-stream task to be able to use it for predictions and inference.\n"
          ]
        },
        {
          "metadata": {
            "tags": null
          },
          "name": "stdout",
          "output_type": "stream",
          "text": [
            "{'eval_loss': 0.4813239276409149, 'eval_accuracy': 0.877, 'eval_runtime': 1.6842, 'eval_samples_per_second': 593.767, 'eval_steps_per_second': 37.407, 'epoch': 4.0}\n",
            "{'loss': 0.3963, 'grad_norm': 19.155622482299805, 'learning_rate': 1.5687951183112903e-05, 'epoch': 1.0}\n",
            "{'eval_loss': 0.3010430335998535, 'eval_accuracy': 0.883, 'eval_runtime': 1.8841, 'eval_samples_per_second': 530.749, 'eval_steps_per_second': 66.344, 'epoch': 1.0}\n",
            "{'loss': 0.2351, 'grad_norm': 30.648897171020508, 'learning_rate': 1.0472541880216326e-05, 'epoch': 2.0}\n",
            "{'eval_loss': 0.42152726650238037, 'eval_accuracy': 0.885, 'eval_runtime': 1.8791, 'eval_samples_per_second': 532.166, 'eval_steps_per_second': 66.521, 'epoch': 2.0}\n",
            "{'loss': 0.1191, 'grad_norm': 0.0475393682718277, 'learning_rate': 5.267563395925542e-06, 'epoch': 3.0}\n",
            "{'eval_loss': 0.47601819038391113, 'eval_accuracy': 0.887, 'eval_runtime': 1.8797, 'eval_samples_per_second': 532.013, 'eval_steps_per_second': 66.502, 'epoch': 3.0}\n",
            "{'loss': 0.0581, 'grad_norm': 0.1490309238433838, 'learning_rate': 5.215409302896577e-08, 'epoch': 4.0}\n",
            "{'eval_loss': 0.5348320603370667, 'eval_accuracy': 0.88, 'eval_runtime': 1.8766, 'eval_samples_per_second': 532.89, 'eval_steps_per_second': 66.611, 'epoch': 4.0}\n",
            "{'train_runtime': 145.7964, 'train_samples_per_second': 109.742, 'train_steps_per_second': 13.718, 'train_loss': 0.20215763664245606, 'epoch': 4.0}\n"
          ]
        },
        {
          "metadata": {
            "tags": null
          },
          "name": "stderr",
          "output_type": "stream",
          "text": [
            "[I 2025-04-24 07:58:05,305] Trial 1 finished with value: 0.88 and parameters: {'epochs': 4, 'batch_size': 8, 'lr': 2.0861637211586308e-05, 'fp16': True}. Best is trial 1 with value: 0.88.\n",
            "Some weights of DistilBertForSequenceClassification were not initialized from the model checkpoint at distilbert-base-uncased and are newly initialized: ['classifier.bias', 'classifier.weight', 'pre_classifier.bias', 'pre_classifier.weight']\n",
            "You should probably TRAIN this model on a down-stream task to be able to use it for predictions and inference.\n"
          ]
        },
        {
          "metadata": {
            "tags": null
          },
          "name": "stdout",
          "output_type": "stream",
          "text": [
            "{'eval_loss': 0.5348320603370667, 'eval_accuracy': 0.88, 'eval_runtime': 1.8821, 'eval_samples_per_second': 531.325, 'eval_steps_per_second': 66.416, 'epoch': 4.0}\n",
            "{'eval_loss': 0.29984691739082336, 'eval_accuracy': 0.881, 'eval_runtime': 1.6974, 'eval_samples_per_second': 589.128, 'eval_steps_per_second': 37.115, 'epoch': 1.0}\n",
            "{'loss': 0.3247, 'grad_norm': 7.6456098556518555, 'learning_rate': 9.257736062223173e-07, 'epoch': 2.0}\n",
            "{'eval_loss': 0.35440269112586975, 'eval_accuracy': 0.88, 'eval_runtime': 1.6866, 'eval_samples_per_second': 592.893, 'eval_steps_per_second': 37.352, 'epoch': 2.0}\n",
            "{'train_runtime': 55.6313, 'train_samples_per_second': 143.804, 'train_steps_per_second': 8.988, 'train_loss': 0.3247460021972656, 'epoch': 2.0}\n"
          ]
        },
        {
          "metadata": {
            "tags": null
          },
          "name": "stderr",
          "output_type": "stream",
          "text": [
            "[I 2025-04-24 07:59:03,626] Trial 2 finished with value: 0.88 and parameters: {'epochs': 2, 'batch_size': 16, 'lr': 0.00015429560103705288, 'fp16': True}. Best is trial 1 with value: 0.88.\n",
            "Some weights of DistilBertForSequenceClassification were not initialized from the model checkpoint at distilbert-base-uncased and are newly initialized: ['classifier.bias', 'classifier.weight', 'pre_classifier.bias', 'pre_classifier.weight']\n",
            "You should probably TRAIN this model on a down-stream task to be able to use it for predictions and inference.\n"
          ]
        },
        {
          "metadata": {
            "tags": null
          },
          "name": "stdout",
          "output_type": "stream",
          "text": [
            "{'eval_loss': 0.35440269112586975, 'eval_accuracy': 0.88, 'eval_runtime': 1.6832, 'eval_samples_per_second': 594.123, 'eval_steps_per_second': 37.43, 'epoch': 2.0}\n",
            "{'eval_loss': 0.2943337559700012, 'eval_accuracy': 0.885, 'eval_runtime': 1.7111, 'eval_samples_per_second': 584.426, 'eval_steps_per_second': 36.819, 'epoch': 1.0}\n",
            "{'loss': 0.3024, 'grad_norm': 10.718008041381836, 'learning_rate': 1.3338096158681165e-07, 'epoch': 2.0}\n",
            "{'eval_loss': 0.30189624428749084, 'eval_accuracy': 0.884, 'eval_runtime': 1.6763, 'eval_samples_per_second': 596.551, 'eval_steps_per_second': 37.583, 'epoch': 2.0}\n",
            "{'train_runtime': 55.7231, 'train_samples_per_second': 143.567, 'train_steps_per_second': 8.973, 'train_loss': 0.30243362426757814, 'epoch': 2.0}\n",
            "{'eval_loss': 0.30189624428749084, 'eval_accuracy': 0.884, 'eval_runtime': 1.6717, 'eval_samples_per_second': 598.207, 'eval_steps_per_second': 37.687, 'epoch': 2.0}\n"
          ]
        },
        {
          "metadata": {
            "tags": null
          },
          "name": "stderr",
          "output_type": "stream",
          "text": [
            "[I 2025-04-24 08:00:02,037] Trial 3 finished with value: 0.884 and parameters: {'epochs': 2, 'batch_size': 16, 'lr': 2.223016026446861e-05, 'fp16': False}. Best is trial 3 with value: 0.884.\n",
            "Some weights of DistilBertForSequenceClassification were not initialized from the model checkpoint at distilbert-base-uncased and are newly initialized: ['classifier.bias', 'classifier.weight', 'pre_classifier.bias', 'pre_classifier.weight']\n",
            "You should probably TRAIN this model on a down-stream task to be able to use it for predictions and inference.\n"
          ]
        },
        {
          "metadata": {
            "tags": null
          },
          "name": "stdout",
          "output_type": "stream",
          "text": [
            "{'eval_loss': 0.41207075119018555, 'eval_accuracy': 0.826, 'eval_runtime': 1.6986, 'eval_samples_per_second': 588.737, 'eval_steps_per_second': 37.09, 'epoch': 1.0}\n",
            "{'loss': 0.4265, 'grad_norm': 7.606381416320801, 'learning_rate': 5.926833169306637e-05, 'epoch': 2.0}\n",
            "{'eval_loss': 0.4005858302116394, 'eval_accuracy': 0.859, 'eval_runtime': 1.6723, 'eval_samples_per_second': 597.972, 'eval_steps_per_second': 37.672, 'epoch': 2.0}\n",
            "{'eval_loss': 0.4679083824157715, 'eval_accuracy': 0.851, 'eval_runtime': 1.692, 'eval_samples_per_second': 591.012, 'eval_steps_per_second': 37.234, 'epoch': 3.0}\n",
            "{'train_runtime': 83.2532, 'train_samples_per_second': 144.139, 'train_steps_per_second': 9.009, 'train_loss': 0.3418549346923828, 'epoch': 3.0}\n"
          ]
        },
        {
          "metadata": {
            "tags": null
          },
          "name": "stderr",
          "output_type": "stream",
          "text": [
            "[I 2025-04-24 08:01:28,232] Trial 4 finished with value: 0.851 and parameters: {'epochs': 3, 'batch_size': 16, 'lr': 0.00017500491641653454, 'fp16': True}. Best is trial 3 with value: 0.884.\n",
            "Some weights of DistilBertForSequenceClassification were not initialized from the model checkpoint at distilbert-base-uncased and are newly initialized: ['classifier.bias', 'classifier.weight', 'pre_classifier.bias', 'pre_classifier.weight']\n",
            "You should probably TRAIN this model on a down-stream task to be able to use it for predictions and inference.\n"
          ]
        },
        {
          "metadata": {
            "tags": null
          },
          "name": "stdout",
          "output_type": "stream",
          "text": [
            "{'eval_loss': 0.4679083824157715, 'eval_accuracy': 0.851, 'eval_runtime': 1.6643, 'eval_samples_per_second': 600.85, 'eval_steps_per_second': 37.854, 'epoch': 3.0}\n",
            "{'eval_loss': 0.31040674448013306, 'eval_accuracy': 0.872, 'eval_runtime': 1.69, 'eval_samples_per_second': 591.699, 'eval_steps_per_second': 37.277, 'epoch': 1.0}\n",
            "{'loss': 0.2918, 'grad_norm': 7.038137912750244, 'learning_rate': 2.761077116894195e-07, 'epoch': 2.0}\n",
            "{'eval_loss': 0.3437238037586212, 'eval_accuracy': 0.879, 'eval_runtime': 1.6913, 'eval_samples_per_second': 591.251, 'eval_steps_per_second': 37.249, 'epoch': 2.0}\n",
            "{'train_runtime': 55.6242, 'train_samples_per_second': 143.822, 'train_steps_per_second': 8.989, 'train_loss': 0.2918260498046875, 'epoch': 2.0}\n"
          ]
        },
        {
          "metadata": {
            "tags": null
          },
          "name": "stderr",
          "output_type": "stream",
          "text": [
            "[I 2025-04-24 08:02:26,560] Trial 5 finished with value: 0.879 and parameters: {'epochs': 2, 'batch_size': 16, 'lr': 4.6017951948236584e-05, 'fp16': True}. Best is trial 3 with value: 0.884.\n",
            "Some weights of DistilBertForSequenceClassification were not initialized from the model checkpoint at distilbert-base-uncased and are newly initialized: ['classifier.bias', 'classifier.weight', 'pre_classifier.bias', 'pre_classifier.weight']\n",
            "You should probably TRAIN this model on a down-stream task to be able to use it for predictions and inference.\n"
          ]
        },
        {
          "metadata": {
            "tags": null
          },
          "name": "stdout",
          "output_type": "stream",
          "text": [
            "{'eval_loss': 0.3437238037586212, 'eval_accuracy': 0.879, 'eval_runtime': 1.6788, 'eval_samples_per_second': 595.657, 'eval_steps_per_second': 37.526, 'epoch': 2.0}\n",
            "{'loss': 0.5868, 'grad_norm': 11.398950576782227, 'learning_rate': 8.110774893602922e-05, 'epoch': 1.0}\n",
            "{'eval_loss': 0.5436577200889587, 'eval_accuracy': 0.787, 'eval_runtime': 1.8605, 'eval_samples_per_second': 537.492, 'eval_steps_per_second': 67.186, 'epoch': 1.0}\n",
            "{'loss': 0.4033, 'grad_norm': 34.49674606323242, 'learning_rate': 8.030470191686062e-07, 'epoch': 2.0}\n",
            "{'eval_loss': 0.45726466178894043, 'eval_accuracy': 0.823, 'eval_runtime': 1.8473, 'eval_samples_per_second': 541.316, 'eval_steps_per_second': 67.664, 'epoch': 2.0}\n",
            "{'train_runtime': 72.6953, 'train_samples_per_second': 110.048, 'train_steps_per_second': 13.756, 'train_loss': 0.4950635681152344, 'epoch': 2.0}\n",
            "{'eval_loss': 0.45726466178894043, 'eval_accuracy': 0.823, 'eval_runtime': 1.8947, 'eval_samples_per_second': 527.778, 'eval_steps_per_second': 65.972, 'epoch': 2.0}\n"
          ]
        },
        {
          "metadata": {
            "tags": null
          },
          "name": "stderr",
          "output_type": "stream",
          "text": [
            "[I 2025-04-24 08:03:42,265] Trial 6 finished with value: 0.823 and parameters: {'epochs': 2, 'batch_size': 8, 'lr': 0.00016060940383372124, 'fp16': True}. Best is trial 3 with value: 0.884.\n",
            "Some weights of DistilBertForSequenceClassification were not initialized from the model checkpoint at distilbert-base-uncased and are newly initialized: ['classifier.bias', 'classifier.weight', 'pre_classifier.bias', 'pre_classifier.weight']\n",
            "You should probably TRAIN this model on a down-stream task to be able to use it for predictions and inference.\n"
          ]
        },
        {
          "metadata": {
            "tags": null
          },
          "name": "stdout",
          "output_type": "stream",
          "text": [
            "{'eval_loss': 0.3155044913291931, 'eval_accuracy': 0.87, 'eval_runtime': 1.6916, 'eval_samples_per_second': 591.151, 'eval_steps_per_second': 37.243, 'epoch': 1.0}\n",
            "{'loss': 0.3475, 'grad_norm': 7.270343780517578, 'learning_rate': 5.520088032370909e-06, 'epoch': 2.0}\n",
            "{'eval_loss': 0.29422807693481445, 'eval_accuracy': 0.89, 'eval_runtime': 1.6709, 'eval_samples_per_second': 598.484, 'eval_steps_per_second': 37.705, 'epoch': 2.0}\n",
            "{'eval_loss': 0.32669031620025635, 'eval_accuracy': 0.884, 'eval_runtime': 1.7027, 'eval_samples_per_second': 587.307, 'eval_steps_per_second': 37.0, 'epoch': 3.0}\n",
            "{'loss': 0.1623, 'grad_norm': 1.0010323524475098, 'learning_rate': 3.2922990252709196e-08, 'epoch': 4.0}\n",
            "{'eval_loss': 0.34042662382125854, 'eval_accuracy': 0.89, 'eval_runtime': 1.6792, 'eval_samples_per_second': 595.511, 'eval_steps_per_second': 37.517, 'epoch': 4.0}\n",
            "{'train_runtime': 111.316, 'train_samples_per_second': 143.735, 'train_steps_per_second': 8.983, 'train_loss': 0.2548826217651367, 'epoch': 4.0}\n"
          ]
        },
        {
          "metadata": {
            "tags": null
          },
          "name": "stderr",
          "output_type": "stream",
          "text": [
            "[I 2025-04-24 08:05:36,267] Trial 7 finished with value: 0.89 and parameters: {'epochs': 4, 'batch_size': 16, 'lr': 1.0974330084236398e-05, 'fp16': True}. Best is trial 7 with value: 0.89.\n",
            "Some weights of DistilBertForSequenceClassification were not initialized from the model checkpoint at distilbert-base-uncased and are newly initialized: ['classifier.bias', 'classifier.weight', 'pre_classifier.bias', 'pre_classifier.weight']\n",
            "You should probably TRAIN this model on a down-stream task to be able to use it for predictions and inference.\n"
          ]
        },
        {
          "metadata": {
            "tags": null
          },
          "name": "stdout",
          "output_type": "stream",
          "text": [
            "{'eval_loss': 0.34042662382125854, 'eval_accuracy': 0.89, 'eval_runtime': 1.6659, 'eval_samples_per_second': 600.262, 'eval_steps_per_second': 37.817, 'epoch': 4.0}\n",
            "{'eval_loss': 0.693188488483429, 'eval_accuracy': 0.499, 'eval_runtime': 1.6376, 'eval_samples_per_second': 610.65, 'eval_steps_per_second': 38.471, 'epoch': 1.0}\n",
            "{'loss': 0.6985, 'grad_norm': 0.21959277987480164, 'learning_rate': 0.0001576121766789632, 'epoch': 2.0}\n",
            "{'eval_loss': 0.6936596632003784, 'eval_accuracy': 0.499, 'eval_runtime': 1.6074, 'eval_samples_per_second': 622.111, 'eval_steps_per_second': 39.193, 'epoch': 2.0}\n",
            "{'eval_loss': 0.6930942535400391, 'eval_accuracy': 0.501, 'eval_runtime': 1.6247, 'eval_samples_per_second': 615.493, 'eval_steps_per_second': 38.776, 'epoch': 3.0}\n",
            "{'train_runtime': 82.5215, 'train_samples_per_second': 145.417, 'train_steps_per_second': 9.089, 'train_loss': 0.6971128743489583, 'epoch': 3.0}\n"
          ]
        },
        {
          "metadata": {
            "tags": null
          },
          "name": "stderr",
          "output_type": "stream",
          "text": [
            "[I 2025-04-24 08:07:01,434] Trial 8 finished with value: 0.501 and parameters: {'epochs': 3, 'batch_size': 16, 'lr': 0.00047095271916024856, 'fp16': False}. Best is trial 7 with value: 0.89.\n",
            "Some weights of DistilBertForSequenceClassification were not initialized from the model checkpoint at distilbert-base-uncased and are newly initialized: ['classifier.bias', 'classifier.weight', 'pre_classifier.bias', 'pre_classifier.weight']\n",
            "You should probably TRAIN this model on a down-stream task to be able to use it for predictions and inference.\n"
          ]
        },
        {
          "metadata": {
            "tags": null
          },
          "name": "stdout",
          "output_type": "stream",
          "text": [
            "{'eval_loss': 0.6930942535400391, 'eval_accuracy': 0.501, 'eval_runtime': 1.6111, 'eval_samples_per_second': 620.709, 'eval_steps_per_second': 39.105, 'epoch': 3.0}\n",
            "{'eval_loss': 0.29520171880722046, 'eval_accuracy': 0.881, 'eval_runtime': 1.7001, 'eval_samples_per_second': 588.215, 'eval_steps_per_second': 37.058, 'epoch': 1.0}\n",
            "{'loss': 0.2943, 'grad_norm': 10.6569242477417, 'learning_rate': 1.2306156975116488e-05, 'epoch': 2.0}\n",
            "{'eval_loss': 0.35745054483413696, 'eval_accuracy': 0.879, 'eval_runtime': 1.6646, 'eval_samples_per_second': 600.742, 'eval_steps_per_second': 37.847, 'epoch': 2.0}\n",
            "{'eval_loss': 0.47440654039382935, 'eval_accuracy': 0.873, 'eval_runtime': 1.6991, 'eval_samples_per_second': 588.559, 'eval_steps_per_second': 37.079, 'epoch': 3.0}\n",
            "{'train_runtime': 83.3578, 'train_samples_per_second': 143.958, 'train_steps_per_second': 8.997, 'train_loss': 0.22445217895507813, 'epoch': 3.0}\n",
            "{'eval_loss': 0.47440654039382935, 'eval_accuracy': 0.873, 'eval_runtime': 1.683, 'eval_samples_per_second': 594.163, 'eval_steps_per_second': 37.432, 'epoch': 3.0}\n"
          ]
        },
        {
          "metadata": {
            "tags": null
          },
          "name": "stderr",
          "output_type": "stream",
          "text": [
            "[I 2025-04-24 08:08:27,589] Trial 9 finished with value: 0.873 and parameters: {'epochs': 3, 'batch_size': 16, 'lr': 3.648070249540461e-05, 'fp16': False}. Best is trial 7 with value: 0.89.\n",
            "Some weights of DistilBertForSequenceClassification were not initialized from the model checkpoint at distilbert-base-uncased and are newly initialized: ['classifier.bias', 'classifier.weight', 'pre_classifier.bias', 'pre_classifier.weight']\n",
            "You should probably TRAIN this model on a down-stream task to be able to use it for predictions and inference.\n"
          ]
        },
        {
          "metadata": {
            "tags": null
          },
          "name": "stdout",
          "output_type": "stream",
          "text": [
            "{'loss': 0.4231, 'grad_norm': 23.228748321533203, 'learning_rate': 7.553725903398383e-06, 'epoch': 1.0}\n",
            "{'eval_loss': 0.3147300183773041, 'eval_accuracy': 0.873, 'eval_runtime': 1.9257, 'eval_samples_per_second': 519.291, 'eval_steps_per_second': 64.911, 'epoch': 1.0}\n",
            "{'loss': 0.2699, 'grad_norm': 17.21623992919922, 'learning_rate': 5.042513834449452e-06, 'epoch': 2.0}\n",
            "{'eval_loss': 0.3690355718135834, 'eval_accuracy': 0.888, 'eval_runtime': 1.9175, 'eval_samples_per_second': 521.506, 'eval_steps_per_second': 65.188, 'epoch': 2.0}\n",
            "{'loss': 0.1834, 'grad_norm': 0.4767407178878784, 'learning_rate': 2.531301765500522e-06, 'epoch': 3.0}\n",
            "{'eval_loss': 0.4295607805252075, 'eval_accuracy': 0.886, 'eval_runtime': 1.8748, 'eval_samples_per_second': 533.392, 'eval_steps_per_second': 66.674, 'epoch': 3.0}\n",
            "{'loss': 0.1246, 'grad_norm': 0.17588414251804352, 'learning_rate': 2.5112120689489304e-08, 'epoch': 4.0}\n",
            "{'eval_loss': 0.47475168108940125, 'eval_accuracy': 0.879, 'eval_runtime': 1.8781, 'eval_samples_per_second': 532.452, 'eval_steps_per_second': 66.557, 'epoch': 4.0}\n",
            "{'train_runtime': 145.8534, 'train_samples_per_second': 109.699, 'train_steps_per_second': 13.712, 'train_loss': 0.25025339126586915, 'epoch': 4.0}\n"
          ]
        },
        {
          "metadata": {
            "tags": null
          },
          "name": "stderr",
          "output_type": "stream",
          "text": [
            "[I 2025-04-24 08:10:56,519] Trial 10 finished with value: 0.879 and parameters: {'epochs': 4, 'batch_size': 8, 'lr': 1.0044848275795722e-05, 'fp16': False}. Best is trial 7 with value: 0.89.\n",
            "Some weights of DistilBertForSequenceClassification were not initialized from the model checkpoint at distilbert-base-uncased and are newly initialized: ['classifier.bias', 'classifier.weight', 'pre_classifier.bias', 'pre_classifier.weight']\n",
            "You should probably TRAIN this model on a down-stream task to be able to use it for predictions and inference.\n"
          ]
        },
        {
          "metadata": {
            "tags": null
          },
          "name": "stdout",
          "output_type": "stream",
          "text": [
            "{'eval_loss': 0.47475168108940125, 'eval_accuracy': 0.879, 'eval_runtime': 1.8745, 'eval_samples_per_second': 533.483, 'eval_steps_per_second': 66.685, 'epoch': 4.0}\n",
            "{'eval_loss': 0.32026299834251404, 'eval_accuracy': 0.862, 'eval_runtime': 1.6937, 'eval_samples_per_second': 590.435, 'eval_steps_per_second': 37.197, 'epoch': 1.0}\n",
            "{'loss': 0.3327, 'grad_norm': 10.088759422302246, 'learning_rate': 3.810752109288718e-06, 'epoch': 2.0}\n",
            "{'eval_loss': 0.289673388004303, 'eval_accuracy': 0.891, 'eval_runtime': 1.695, 'eval_samples_per_second': 589.979, 'eval_steps_per_second': 37.169, 'epoch': 2.0}\n",
            "{'eval_loss': 0.3110136091709137, 'eval_accuracy': 0.899, 'eval_runtime': 1.6939, 'eval_samples_per_second': 590.347, 'eval_steps_per_second': 37.192, 'epoch': 3.0}\n",
            "{'train_runtime': 83.4712, 'train_samples_per_second': 143.762, 'train_steps_per_second': 8.985, 'train_loss': 0.2836253051757813, 'epoch': 3.0}\n"
          ]
        },
        {
          "metadata": {
            "tags": null
          },
          "name": "stderr",
          "output_type": "stream",
          "text": [
            "[I 2025-04-24 08:12:22,683] Trial 11 finished with value: 0.899 and parameters: {'epochs': 3, 'batch_size': 16, 'lr': 1.1296695976152327e-05, 'fp16': False}. Best is trial 11 with value: 0.899.\n"
          ]
        },
        {
          "metadata": {
            "tags": null
          },
          "name": "stdout",
          "output_type": "stream",
          "text": [
            "{'eval_loss': 0.3110136091709137, 'eval_accuracy': 0.899, 'eval_runtime': 1.677, 'eval_samples_per_second': 596.311, 'eval_steps_per_second': 37.568, 'epoch': 3.0}\n"
          ]
        },
        {
          "metadata": {
            "tags": null
          },
          "name": "stderr",
          "output_type": "stream",
          "text": [
            "Some weights of DistilBertForSequenceClassification were not initialized from the model checkpoint at distilbert-base-uncased and are newly initialized: ['classifier.bias', 'classifier.weight', 'pre_classifier.bias', 'pre_classifier.weight']\n",
            "You should probably TRAIN this model on a down-stream task to be able to use it for predictions and inference.\n"
          ]
        },
        {
          "metadata": {
            "tags": null
          },
          "name": "stdout",
          "output_type": "stream",
          "text": [
            "{'eval_loss': 0.3102402091026306, 'eval_accuracy': 0.877, 'eval_runtime': 1.7007, 'eval_samples_per_second': 587.981, 'eval_steps_per_second': 37.043, 'epoch': 1.0}\n",
            "{'loss': 0.3402, 'grad_norm': 10.595455169677734, 'learning_rate': 4.0747327249974015e-06, 'epoch': 2.0}\n",
            "{'eval_loss': 0.2988262474536896, 'eval_accuracy': 0.889, 'eval_runtime': 1.6715, 'eval_samples_per_second': 598.275, 'eval_steps_per_second': 37.691, 'epoch': 2.0}\n",
            "{'eval_loss': 0.31839922070503235, 'eval_accuracy': 0.887, 'eval_runtime': 1.6886, 'eval_samples_per_second': 592.212, 'eval_steps_per_second': 37.309, 'epoch': 3.0}\n",
            "{'train_runtime': 83.4689, 'train_samples_per_second': 143.766, 'train_steps_per_second': 8.985, 'train_loss': 0.2889516092936198, 'epoch': 3.0}\n"
          ]
        },
        {
          "metadata": {
            "tags": null
          },
          "name": "stderr",
          "output_type": "stream",
          "text": [
            "[I 2025-04-24 08:13:48,936] Trial 12 finished with value: 0.887 and parameters: {'epochs': 3, 'batch_size': 16, 'lr': 1.2031691117118311e-05, 'fp16': False}. Best is trial 11 with value: 0.899.\n"
          ]
        },
        {
          "metadata": {
            "tags": null
          },
          "name": "stdout",
          "output_type": "stream",
          "text": [
            "{'eval_loss': 0.31839922070503235, 'eval_accuracy': 0.887, 'eval_runtime': 1.6829, 'eval_samples_per_second': 594.223, 'eval_steps_per_second': 37.436, 'epoch': 3.0}\n"
          ]
        },
        {
          "metadata": {
            "tags": null
          },
          "name": "stderr",
          "output_type": "stream",
          "text": [
            "Some weights of DistilBertForSequenceClassification were not initialized from the model checkpoint at distilbert-base-uncased and are newly initialized: ['classifier.bias', 'classifier.weight', 'pre_classifier.bias', 'pre_classifier.weight']\n",
            "You should probably TRAIN this model on a down-stream task to be able to use it for predictions and inference.\n"
          ]
        },
        {
          "metadata": {
            "tags": null
          },
          "name": "stdout",
          "output_type": "stream",
          "text": [
            "{'eval_loss': 0.3224581778049469, 'eval_accuracy': 0.858, 'eval_runtime': 1.69, 'eval_samples_per_second': 591.705, 'eval_steps_per_second': 37.277, 'epoch': 1.0}\n",
            "{'loss': 0.3306, 'grad_norm': 11.266911506652832, 'learning_rate': 7.409793995220369e-06, 'epoch': 2.0}\n",
            "{'eval_loss': 0.32673919200897217, 'eval_accuracy': 0.879, 'eval_runtime': 1.6862, 'eval_samples_per_second': 593.033, 'eval_steps_per_second': 37.361, 'epoch': 2.0}\n",
            "{'eval_loss': 0.3675289452075958, 'eval_accuracy': 0.884, 'eval_runtime': 1.7035, 'eval_samples_per_second': 587.023, 'eval_steps_per_second': 36.982, 'epoch': 3.0}\n",
            "{'loss': 0.1381, 'grad_norm': 0.8186618685722351, 'learning_rate': 5.892480314290552e-08, 'epoch': 4.0}\n",
            "{'eval_loss': 0.39079344272613525, 'eval_accuracy': 0.889, 'eval_runtime': 1.6778, 'eval_samples_per_second': 596.03, 'eval_steps_per_second': 37.55, 'epoch': 4.0}\n",
            "{'train_runtime': 111.3738, 'train_samples_per_second': 143.66, 'train_steps_per_second': 8.979, 'train_loss': 0.2343428497314453, 'epoch': 4.0}\n"
          ]
        },
        {
          "metadata": {
            "tags": null
          },
          "name": "stderr",
          "output_type": "stream",
          "text": [
            "[I 2025-04-24 08:15:43,153] Trial 13 finished with value: 0.889 and parameters: {'epochs': 4, 'batch_size': 16, 'lr': 1.473120078572638e-05, 'fp16': False}. Best is trial 11 with value: 0.899.\n"
          ]
        },
        {
          "metadata": {
            "tags": null
          },
          "name": "stdout",
          "output_type": "stream",
          "text": [
            "{'eval_loss': 0.39079344272613525, 'eval_accuracy': 0.889, 'eval_runtime': 1.6795, 'eval_samples_per_second': 595.417, 'eval_steps_per_second': 37.511, 'epoch': 4.0}\n"
          ]
        },
        {
          "metadata": {
            "tags": null
          },
          "name": "stderr",
          "output_type": "stream",
          "text": [
            "Some weights of DistilBertForSequenceClassification were not initialized from the model checkpoint at distilbert-base-uncased and are newly initialized: ['classifier.bias', 'classifier.weight', 'pre_classifier.bias', 'pre_classifier.weight']\n",
            "You should probably TRAIN this model on a down-stream task to be able to use it for predictions and inference.\n"
          ]
        },
        {
          "metadata": {
            "tags": null
          },
          "name": "stdout",
          "output_type": "stream",
          "text": [
            "{'loss': 0.4277, 'grad_norm': 10.097699165344238, 'learning_rate': 5.080752289577215e-05, 'epoch': 1.0}\n",
            "{'eval_loss': 0.3731485903263092, 'eval_accuracy': 0.851, 'eval_runtime': 1.8725, 'eval_samples_per_second': 534.041, 'eval_steps_per_second': 66.755, 'epoch': 1.0}\n",
            "{'loss': 0.2234, 'grad_norm': 4.327290058135986, 'learning_rate': 2.5504971652857733e-05, 'epoch': 2.0}\n",
            "{'eval_loss': 0.4212731719017029, 'eval_accuracy': 0.891, 'eval_runtime': 1.8712, 'eval_samples_per_second': 534.42, 'eval_steps_per_second': 66.802, 'epoch': 2.0}\n",
            "{'loss': 0.0771, 'grad_norm': 0.017905935645103455, 'learning_rate': 2.5302551242914417e-07, 'epoch': 3.0}\n",
            "{'eval_loss': 0.5212386250495911, 'eval_accuracy': 0.89, 'eval_runtime': 1.8791, 'eval_samples_per_second': 532.174, 'eval_steps_per_second': 66.522, 'epoch': 3.0}\n",
            "{'train_runtime': 109.1974, 'train_samples_per_second': 109.893, 'train_steps_per_second': 13.737, 'train_loss': 0.24275853729248048, 'epoch': 3.0}\n"
          ]
        },
        {
          "metadata": {
            "tags": null
          },
          "name": "stderr",
          "output_type": "stream",
          "text": [
            "[I 2025-04-24 08:17:35,270] Trial 14 finished with value: 0.89 and parameters: {'epochs': 3, 'batch_size': 8, 'lr': 7.590765372874325e-05, 'fp16': True}. Best is trial 11 with value: 0.899.\n"
          ]
        },
        {
          "metadata": {
            "tags": null
          },
          "name": "stdout",
          "output_type": "stream",
          "text": [
            "{'eval_loss': 0.5212386250495911, 'eval_accuracy': 0.89, 'eval_runtime': 1.8789, 'eval_samples_per_second': 532.235, 'eval_steps_per_second': 66.529, 'epoch': 3.0}\n"
          ]
        },
        {
          "metadata": {
            "tags": null
          },
          "name": "stderr",
          "output_type": "stream",
          "text": [
            "Some weights of DistilBertForSequenceClassification were not initialized from the model checkpoint at distilbert-base-uncased and are newly initialized: ['classifier.bias', 'classifier.weight', 'pre_classifier.bias', 'pre_classifier.weight']\n",
            "You should probably TRAIN this model on a down-stream task to be able to use it for predictions and inference.\n"
          ]
        },
        {
          "metadata": {
            "tags": null
          },
          "name": "stdout",
          "output_type": "stream",
          "text": [
            "{'eval_loss': 0.29585254192352295, 'eval_accuracy': 0.882, 'eval_runtime': 1.6788, 'eval_samples_per_second': 595.65, 'eval_steps_per_second': 37.526, 'epoch': 1.0}\n",
            "{'loss': 0.3004, 'grad_norm': 8.73977279663086, 'learning_rate': 2.3218760101841305e-05, 'epoch': 2.0}\n",
            "{'eval_loss': 0.33716607093811035, 'eval_accuracy': 0.884, 'eval_runtime': 1.6771, 'eval_samples_per_second': 596.264, 'eval_steps_per_second': 37.565, 'epoch': 2.0}\n",
            "{'eval_loss': 0.5406320691108704, 'eval_accuracy': 0.881, 'eval_runtime': 1.693, 'eval_samples_per_second': 590.661, 'eval_steps_per_second': 37.212, 'epoch': 3.0}\n",
            "{'loss': 0.0533, 'grad_norm': 0.032312508672475815, 'learning_rate': 1.8464222745003024e-07, 'epoch': 4.0}\n",
            "{'eval_loss': 0.5524677634239197, 'eval_accuracy': 0.881, 'eval_runtime': 1.6814, 'eval_samples_per_second': 594.758, 'eval_steps_per_second': 37.47, 'epoch': 4.0}\n",
            "{'train_runtime': 111.0049, 'train_samples_per_second': 144.138, 'train_steps_per_second': 9.009, 'train_loss': 0.17681979942321777, 'epoch': 4.0}\n"
          ]
        },
        {
          "metadata": {
            "tags": null
          },
          "name": "stderr",
          "output_type": "stream",
          "text": [
            "[I 2025-04-24 08:19:29,083] Trial 15 finished with value: 0.881 and parameters: {'epochs': 4, 'batch_size': 16, 'lr': 4.616055686250756e-05, 'fp16': False}. Best is trial 11 with value: 0.899.\n",
            "Some weights of DistilBertForSequenceClassification were not initialized from the model checkpoint at distilbert-base-uncased and are newly initialized: ['classifier.bias', 'classifier.weight', 'pre_classifier.bias', 'pre_classifier.weight']\n",
            "You should probably TRAIN this model on a down-stream task to be able to use it for predictions and inference.\n"
          ]
        },
        {
          "metadata": {
            "tags": null
          },
          "name": "stdout",
          "output_type": "stream",
          "text": [
            "{'eval_loss': 0.5524677634239197, 'eval_accuracy': 0.881, 'eval_runtime': 1.6712, 'eval_samples_per_second': 598.364, 'eval_steps_per_second': 37.697, 'epoch': 4.0}\n",
            "{'eval_loss': 0.31202638149261475, 'eval_accuracy': 0.865, 'eval_runtime': 1.6908, 'eval_samples_per_second': 591.439, 'eval_steps_per_second': 37.261, 'epoch': 1.0}\n",
            "{'loss': 0.3134, 'grad_norm': 10.34721851348877, 'learning_rate': 5.270138026349186e-06, 'epoch': 2.0}\n",
            "{'eval_loss': 0.30162501335144043, 'eval_accuracy': 0.89, 'eval_runtime': 1.6909, 'eval_samples_per_second': 591.399, 'eval_steps_per_second': 37.258, 'epoch': 2.0}\n",
            "{'eval_loss': 0.34860360622406006, 'eval_accuracy': 0.892, 'eval_runtime': 1.6956, 'eval_samples_per_second': 589.767, 'eval_steps_per_second': 37.155, 'epoch': 3.0}\n",
            "{'train_runtime': 83.5036, 'train_samples_per_second': 143.706, 'train_steps_per_second': 8.982, 'train_loss': 0.25985816955566404, 'epoch': 3.0}\n"
          ]
        },
        {
          "metadata": {
            "tags": null
          },
          "name": "stderr",
          "output_type": "stream",
          "text": [
            "[I 2025-04-24 08:20:55,296] Trial 16 finished with value: 0.892 and parameters: {'epochs': 3, 'batch_size': 16, 'lr': 1.5622938813288103e-05, 'fp16': False}. Best is trial 11 with value: 0.899.\n"
          ]
        },
        {
          "metadata": {
            "tags": null
          },
          "name": "stdout",
          "output_type": "stream",
          "text": [
            "{'eval_loss': 0.34860360622406006, 'eval_accuracy': 0.892, 'eval_runtime': 1.6838, 'eval_samples_per_second': 593.901, 'eval_steps_per_second': 37.416, 'epoch': 3.0}\n"
          ]
        },
        {
          "metadata": {
            "tags": null
          },
          "name": "stderr",
          "output_type": "stream",
          "text": [
            "Some weights of DistilBertForSequenceClassification were not initialized from the model checkpoint at distilbert-base-uncased and are newly initialized: ['classifier.bias', 'classifier.weight', 'pre_classifier.bias', 'pre_classifier.weight']\n",
            "You should probably TRAIN this model on a down-stream task to be able to use it for predictions and inference.\n"
          ]
        },
        {
          "metadata": {
            "tags": null
          },
          "name": "stdout",
          "output_type": "stream",
          "text": [
            "{'eval_loss': 0.33057495951652527, 'eval_accuracy': 0.856, 'eval_runtime': 1.7014, 'eval_samples_per_second': 587.758, 'eval_steps_per_second': 37.029, 'epoch': 1.0}\n",
            "{'loss': 0.3476, 'grad_norm': 6.980935573577881, 'learning_rate': 2.743808100870523e-05, 'epoch': 2.0}\n",
            "{'eval_loss': 0.3722841143608093, 'eval_accuracy': 0.862, 'eval_runtime': 1.682, 'eval_samples_per_second': 594.528, 'eval_steps_per_second': 37.455, 'epoch': 2.0}\n",
            "{'eval_loss': 0.43166956305503845, 'eval_accuracy': 0.879, 'eval_runtime': 1.6935, 'eval_samples_per_second': 590.483, 'eval_steps_per_second': 37.2, 'epoch': 3.0}\n",
            "{'train_runtime': 83.4446, 'train_samples_per_second': 143.808, 'train_steps_per_second': 8.988, 'train_loss': 0.26079456837972004, 'epoch': 3.0}\n"
          ]
        },
        {
          "metadata": {
            "tags": null
          },
          "name": "stderr",
          "output_type": "stream",
          "text": [
            "[I 2025-04-24 08:22:21,456] Trial 17 finished with value: 0.879 and parameters: {'epochs': 3, 'batch_size': 16, 'lr': 8.133818480841472e-05, 'fp16': False}. Best is trial 11 with value: 0.899.\n"
          ]
        },
        {
          "metadata": {
            "tags": null
          },
          "name": "stdout",
          "output_type": "stream",
          "text": [
            "{'eval_loss': 0.43166956305503845, 'eval_accuracy': 0.879, 'eval_runtime': 1.6749, 'eval_samples_per_second': 597.042, 'eval_steps_per_second': 37.614, 'epoch': 3.0}\n"
          ]
        },
        {
          "metadata": {
            "tags": null
          },
          "name": "stderr",
          "output_type": "stream",
          "text": [
            "Some weights of DistilBertForSequenceClassification were not initialized from the model checkpoint at distilbert-base-uncased and are newly initialized: ['classifier.bias', 'classifier.weight', 'pre_classifier.bias', 'pre_classifier.weight']\n",
            "You should probably TRAIN this model on a down-stream task to be able to use it for predictions and inference.\n"
          ]
        },
        {
          "metadata": {
            "tags": null
          },
          "name": "stdout",
          "output_type": "stream",
          "text": [
            "{'loss': 0.4127, 'grad_norm': 22.690492630004883, 'learning_rate': 1.2167440161065135e-05, 'epoch': 1.0}\n",
            "{'eval_loss': 0.30099359154701233, 'eval_accuracy': 0.887, 'eval_runtime': 1.9226, 'eval_samples_per_second': 520.122, 'eval_steps_per_second': 65.015, 'epoch': 1.0}\n",
            "{'loss': 0.2359, 'grad_norm': 40.073543548583984, 'learning_rate': 6.107958009140267e-06, 'epoch': 2.0}\n",
            "{'eval_loss': 0.4253871440887451, 'eval_accuracy': 0.88, 'eval_runtime': 1.9198, 'eval_samples_per_second': 520.899, 'eval_steps_per_second': 65.112, 'epoch': 2.0}\n",
            "{'loss': 0.1362, 'grad_norm': 0.08780297636985779, 'learning_rate': 4.847585721539894e-08, 'epoch': 3.0}\n",
            "{'eval_loss': 0.4658016860485077, 'eval_accuracy': 0.882, 'eval_runtime': 1.9173, 'eval_samples_per_second': 521.573, 'eval_steps_per_second': 65.197, 'epoch': 3.0}\n",
            "{'train_runtime': 109.5041, 'train_samples_per_second': 109.585, 'train_steps_per_second': 13.698, 'train_loss': 0.2615874277750651, 'epoch': 3.0}\n",
            "{'eval_loss': 0.4658016860485077, 'eval_accuracy': 0.882, 'eval_runtime': 1.8782, 'eval_samples_per_second': 532.421, 'eval_steps_per_second': 66.553, 'epoch': 3.0}\n"
          ]
        },
        {
          "metadata": {
            "tags": null
          },
          "name": "stderr",
          "output_type": "stream",
          "text": [
            "[I 2025-04-24 08:24:13,976] Trial 18 finished with value: 0.882 and parameters: {'epochs': 3, 'batch_size': 8, 'lr': 1.8178446455774603e-05, 'fp16': False}. Best is trial 11 with value: 0.899.\n",
            "Some weights of DistilBertForSequenceClassification were not initialized from the model checkpoint at distilbert-base-uncased and are newly initialized: ['classifier.bias', 'classifier.weight', 'pre_classifier.bias', 'pre_classifier.weight']\n",
            "You should probably TRAIN this model on a down-stream task to be able to use it for predictions and inference.\n"
          ]
        },
        {
          "metadata": {
            "tags": null
          },
          "name": "stdout",
          "output_type": "stream",
          "text": [
            "{'eval_loss': 0.3146545886993408, 'eval_accuracy': 0.874, 'eval_runtime': 1.6919, 'eval_samples_per_second': 591.043, 'eval_steps_per_second': 37.236, 'epoch': 1.0}\n",
            "{'loss': 0.2975, 'grad_norm': 12.272356033325195, 'learning_rate': 1.0196783592285099e-05, 'epoch': 2.0}\n",
            "{'eval_loss': 0.3500434458255768, 'eval_accuracy': 0.881, 'eval_runtime': 1.6931, 'eval_samples_per_second': 590.618, 'eval_steps_per_second': 37.209, 'epoch': 2.0}\n",
            "{'eval_loss': 0.4523088335990906, 'eval_accuracy': 0.88, 'eval_runtime': 1.694, 'eval_samples_per_second': 590.333, 'eval_steps_per_second': 37.191, 'epoch': 3.0}\n",
            "{'train_runtime': 83.4583, 'train_samples_per_second': 143.784, 'train_steps_per_second': 8.987, 'train_loss': 0.23224402618408202, 'epoch': 3.0}\n"
          ]
        },
        {
          "metadata": {
            "tags": null
          },
          "name": "stderr",
          "output_type": "stream",
          "text": [
            "[I 2025-04-24 08:25:40,147] Trial 19 finished with value: 0.88 and parameters: {'epochs': 3, 'batch_size': 16, 'lr': 3.0227619344718673e-05, 'fp16': False}. Best is trial 11 with value: 0.899.\n"
          ]
        },
        {
          "metadata": {
            "tags": null
          },
          "name": "stdout",
          "output_type": "stream",
          "text": [
            "{'eval_loss': 0.4523088335990906, 'eval_accuracy': 0.88, 'eval_runtime': 1.6813, 'eval_samples_per_second': 594.772, 'eval_steps_per_second': 37.471, 'epoch': 3.0}\n"
          ]
        },
        {
          "metadata": {
            "tags": null
          },
          "name": "stderr",
          "output_type": "stream",
          "text": [
            "Some weights of DistilBertForSequenceClassification were not initialized from the model checkpoint at distilbert-base-uncased and are newly initialized: ['classifier.bias', 'classifier.weight', 'pre_classifier.bias', 'pre_classifier.weight']\n",
            "You should probably TRAIN this model on a down-stream task to be able to use it for predictions and inference.\n"
          ]
        },
        {
          "metadata": {
            "tags": null
          },
          "name": "stdout",
          "output_type": "stream",
          "text": [
            "{'eval_loss': 0.30227959156036377, 'eval_accuracy': 0.877, 'eval_runtime': 1.7161, 'eval_samples_per_second': 582.717, 'eval_steps_per_second': 36.711, 'epoch': 1.0}\n",
            "{'loss': 0.3236, 'grad_norm': 10.180192947387695, 'learning_rate': 9.766166241823192e-08, 'epoch': 2.0}\n",
            "{'eval_loss': 0.2959502041339874, 'eval_accuracy': 0.887, 'eval_runtime': 1.6802, 'eval_samples_per_second': 595.163, 'eval_steps_per_second': 37.495, 'epoch': 2.0}\n",
            "{'train_runtime': 55.6902, 'train_samples_per_second': 143.652, 'train_steps_per_second': 8.978, 'train_loss': 0.3236180419921875, 'epoch': 2.0}\n",
            "{'eval_loss': 0.2959502041339874, 'eval_accuracy': 0.887, 'eval_runtime': 1.682, 'eval_samples_per_second': 594.517, 'eval_steps_per_second': 37.455, 'epoch': 2.0}\n"
          ]
        },
        {
          "metadata": {
            "tags": null
          },
          "name": "stderr",
          "output_type": "stream",
          "text": [
            "[I 2025-04-24 08:26:39,135] Trial 20 finished with value: 0.887 and parameters: {'epochs': 2, 'batch_size': 16, 'lr': 1.6276943736371987e-05, 'fp16': False}. Best is trial 11 with value: 0.899.\n",
            "Some weights of DistilBertForSequenceClassification were not initialized from the model checkpoint at distilbert-base-uncased and are newly initialized: ['classifier.bias', 'classifier.weight', 'pre_classifier.bias', 'pre_classifier.weight']\n",
            "You should probably TRAIN this model on a down-stream task to be able to use it for predictions and inference.\n"
          ]
        },
        {
          "metadata": {
            "tags": null
          },
          "name": "stdout",
          "output_type": "stream",
          "text": [
            "{'eval_loss': 0.3148336410522461, 'eval_accuracy': 0.872, 'eval_runtime': 1.6939, 'eval_samples_per_second': 590.34, 'eval_steps_per_second': 37.191, 'epoch': 1.0}\n",
            "{'loss': 0.3494, 'grad_norm': 7.353680610656738, 'learning_rate': 5.420489694746563e-06, 'epoch': 2.0}\n",
            "{'eval_loss': 0.2936801016330719, 'eval_accuracy': 0.887, 'eval_runtime': 1.6755, 'eval_samples_per_second': 596.819, 'eval_steps_per_second': 37.6, 'epoch': 2.0}\n",
            "{'eval_loss': 0.32632097601890564, 'eval_accuracy': 0.886, 'eval_runtime': 1.6906, 'eval_samples_per_second': 591.493, 'eval_steps_per_second': 37.264, 'epoch': 3.0}\n",
            "{'loss': 0.164, 'grad_norm': 1.1446589231491089, 'learning_rate': 4.310528584291501e-08, 'epoch': 4.0}\n",
            "{'eval_loss': 0.3383098840713501, 'eval_accuracy': 0.89, 'eval_runtime': 1.6739, 'eval_samples_per_second': 597.394, 'eval_steps_per_second': 37.636, 'epoch': 4.0}\n",
            "{'train_runtime': 111.2883, 'train_samples_per_second': 143.771, 'train_steps_per_second': 8.986, 'train_loss': 0.2566546096801758, 'epoch': 4.0}\n",
            "{'eval_loss': 0.3383098840713501, 'eval_accuracy': 0.89, 'eval_runtime': 1.6892, 'eval_samples_per_second': 591.986, 'eval_steps_per_second': 37.295, 'epoch': 4.0}\n"
          ]
        },
        {
          "metadata": {
            "tags": null
          },
          "name": "stderr",
          "output_type": "stream",
          "text": [
            "[I 2025-04-24 08:28:33,205] Trial 21 finished with value: 0.89 and parameters: {'epochs': 4, 'batch_size': 16, 'lr': 1.0776321460728753e-05, 'fp16': True}. Best is trial 11 with value: 0.899.\n",
            "Some weights of DistilBertForSequenceClassification were not initialized from the model checkpoint at distilbert-base-uncased and are newly initialized: ['classifier.bias', 'classifier.weight', 'pre_classifier.bias', 'pre_classifier.weight']\n",
            "You should probably TRAIN this model on a down-stream task to be able to use it for predictions and inference.\n"
          ]
        },
        {
          "metadata": {
            "tags": null
          },
          "name": "stdout",
          "output_type": "stream",
          "text": [
            "{'eval_loss': 0.31504708528518677, 'eval_accuracy': 0.863, 'eval_runtime': 1.6842, 'eval_samples_per_second': 593.746, 'eval_steps_per_second': 37.406, 'epoch': 1.0}\n",
            "{'loss': 0.3169, 'grad_norm': 10.341066360473633, 'learning_rate': 4.928752263066834e-06, 'epoch': 2.0}\n",
            "{'eval_loss': 0.2996647357940674, 'eval_accuracy': 0.888, 'eval_runtime': 1.6719, 'eval_samples_per_second': 598.121, 'eval_steps_per_second': 37.682, 'epoch': 2.0}\n",
            "{'eval_loss': 0.34152716398239136, 'eval_accuracy': 0.888, 'eval_runtime': 1.6954, 'eval_samples_per_second': 589.828, 'eval_steps_per_second': 37.159, 'epoch': 3.0}\n",
            "{'train_runtime': 83.3855, 'train_samples_per_second': 143.91, 'train_steps_per_second': 8.994, 'train_loss': 0.26481609598795575, 'epoch': 3.0}\n",
            "{'eval_loss': 0.34152716398239136, 'eval_accuracy': 0.888, 'eval_runtime': 1.678, 'eval_samples_per_second': 595.96, 'eval_steps_per_second': 37.545, 'epoch': 3.0}\n"
          ]
        },
        {
          "metadata": {
            "tags": null
          },
          "name": "stderr",
          "output_type": "stream",
          "text": [
            "[I 2025-04-24 08:29:59,281] Trial 22 finished with value: 0.888 and parameters: {'epochs': 3, 'batch_size': 16, 'lr': 1.4610925681028165e-05, 'fp16': False}. Best is trial 11 with value: 0.899.\n",
            "Some weights of DistilBertForSequenceClassification were not initialized from the model checkpoint at distilbert-base-uncased and are newly initialized: ['classifier.bias', 'classifier.weight', 'pre_classifier.bias', 'pre_classifier.weight']\n",
            "You should probably TRAIN this model on a down-stream task to be able to use it for predictions and inference.\n"
          ]
        },
        {
          "metadata": {
            "tags": null
          },
          "name": "stdout",
          "output_type": "stream",
          "text": [
            "{'eval_loss': 0.3109253942966461, 'eval_accuracy': 0.87, 'eval_runtime': 1.702, 'eval_samples_per_second': 587.551, 'eval_steps_per_second': 37.016, 'epoch': 1.0}\n",
            "{'loss': 0.354, 'grad_norm': 9.236726760864258, 'learning_rate': 3.391080394351181e-06, 'epoch': 2.0}\n",
            "{'eval_loss': 0.29306560754776, 'eval_accuracy': 0.885, 'eval_runtime': 1.6924, 'eval_samples_per_second': 590.874, 'eval_steps_per_second': 37.225, 'epoch': 2.0}\n",
            "{'eval_loss': 0.3067978024482727, 'eval_accuracy': 0.89, 'eval_runtime': 1.7016, 'eval_samples_per_second': 587.694, 'eval_steps_per_second': 37.025, 'epoch': 3.0}\n",
            "{'train_runtime': 83.4759, 'train_samples_per_second': 143.754, 'train_steps_per_second': 8.985, 'train_loss': 0.3041126708984375, 'epoch': 3.0}\n"
          ]
        },
        {
          "metadata": {
            "tags": null
          },
          "name": "stderr",
          "output_type": "stream",
          "text": [
            "[I 2025-04-24 08:31:25,441] Trial 23 finished with value: 0.89 and parameters: {'epochs': 3, 'batch_size': 16, 'lr': 1.001303266048577e-05, 'fp16': True}. Best is trial 11 with value: 0.899.\n",
            "Some weights of DistilBertForSequenceClassification were not initialized from the model checkpoint at distilbert-base-uncased and are newly initialized: ['classifier.bias', 'classifier.weight', 'pre_classifier.bias', 'pre_classifier.weight']\n",
            "You should probably TRAIN this model on a down-stream task to be able to use it for predictions and inference.\n"
          ]
        },
        {
          "metadata": {
            "tags": null
          },
          "name": "stdout",
          "output_type": "stream",
          "text": [
            "{'eval_loss': 0.3067978024482727, 'eval_accuracy': 0.89, 'eval_runtime': 1.6821, 'eval_samples_per_second': 594.478, 'eval_steps_per_second': 37.452, 'epoch': 3.0}\n",
            "{'eval_loss': 0.30894938111305237, 'eval_accuracy': 0.875, 'eval_runtime': 1.6917, 'eval_samples_per_second': 591.108, 'eval_steps_per_second': 37.24, 'epoch': 1.0}\n",
            "{'loss': 0.3037, 'grad_norm': 8.332691192626953, 'learning_rate': 1.362768359359364e-05, 'epoch': 2.0}\n",
            "{'eval_loss': 0.3516978621482849, 'eval_accuracy': 0.881, 'eval_runtime': 1.6948, 'eval_samples_per_second': 590.037, 'eval_steps_per_second': 37.172, 'epoch': 2.0}\n",
            "{'eval_loss': 0.4716675579547882, 'eval_accuracy': 0.877, 'eval_runtime': 1.7, 'eval_samples_per_second': 588.219, 'eval_steps_per_second': 37.058, 'epoch': 3.0}\n",
            "{'loss': 0.0808, 'grad_norm': 0.11265155673027039, 'learning_rate': 1.0837124130094347e-07, 'epoch': 4.0}\n",
            "{'eval_loss': 0.5221753120422363, 'eval_accuracy': 0.874, 'eval_runtime': 1.6872, 'eval_samples_per_second': 592.682, 'eval_steps_per_second': 37.339, 'epoch': 4.0}\n",
            "{'train_runtime': 111.2488, 'train_samples_per_second': 143.822, 'train_steps_per_second': 8.989, 'train_loss': 0.19221803283691405, 'epoch': 4.0}\n",
            "{'eval_loss': 0.5221753120422363, 'eval_accuracy': 0.874, 'eval_runtime': 1.7038, 'eval_samples_per_second': 586.924, 'eval_steps_per_second': 36.976, 'epoch': 4.0}\n"
          ]
        },
        {
          "metadata": {
            "tags": null
          },
          "name": "stderr",
          "output_type": "stream",
          "text": [
            "[I 2025-04-24 08:33:19,509] Trial 24 finished with value: 0.874 and parameters: {'epochs': 4, 'batch_size': 16, 'lr': 2.7092810325235867e-05, 'fp16': False}. Best is trial 11 with value: 0.899.\n",
            "Some weights of DistilBertForSequenceClassification were not initialized from the model checkpoint at distilbert-base-uncased and are newly initialized: ['classifier.bias', 'classifier.weight', 'pre_classifier.bias', 'pre_classifier.weight']\n",
            "You should probably TRAIN this model on a down-stream task to be able to use it for predictions and inference.\n"
          ]
        },
        {
          "metadata": {
            "tags": null
          },
          "name": "stdout",
          "output_type": "stream",
          "text": [
            "{'eval_loss': 0.3122822940349579, 'eval_accuracy': 0.868, 'eval_runtime': 1.6884, 'eval_samples_per_second': 592.293, 'eval_steps_per_second': 37.314, 'epoch': 1.0}\n",
            "{'loss': 0.3155, 'grad_norm': 10.564521789550781, 'learning_rate': 5.097619548677516e-06, 'epoch': 2.0}\n",
            "{'eval_loss': 0.30082792043685913, 'eval_accuracy': 0.887, 'eval_runtime': 1.6826, 'eval_samples_per_second': 594.33, 'eval_steps_per_second': 37.443, 'epoch': 2.0}\n",
            "{'eval_loss': 0.3450429141521454, 'eval_accuracy': 0.889, 'eval_runtime': 1.6992, 'eval_samples_per_second': 588.514, 'eval_steps_per_second': 37.076, 'epoch': 3.0}\n",
            "{'train_runtime': 83.4787, 'train_samples_per_second': 143.749, 'train_steps_per_second': 8.984, 'train_loss': 0.2628514353434245, 'epoch': 3.0}\n"
          ]
        },
        {
          "metadata": {
            "tags": null
          },
          "name": "stderr",
          "output_type": "stream",
          "text": [
            "[I 2025-04-24 08:34:45,677] Trial 25 finished with value: 0.889 and parameters: {'epochs': 3, 'batch_size': 16, 'lr': 1.5111520401217932e-05, 'fp16': False}. Best is trial 11 with value: 0.899.\n"
          ]
        },
        {
          "metadata": {
            "tags": null
          },
          "name": "stdout",
          "output_type": "stream",
          "text": [
            "{'eval_loss': 0.3450429141521454, 'eval_accuracy': 0.889, 'eval_runtime': 1.6714, 'eval_samples_per_second': 598.29, 'eval_steps_per_second': 37.692, 'epoch': 3.0}\n"
          ]
        },
        {
          "metadata": {
            "tags": null
          },
          "name": "stderr",
          "output_type": "stream",
          "text": [
            "Some weights of DistilBertForSequenceClassification were not initialized from the model checkpoint at distilbert-base-uncased and are newly initialized: ['classifier.bias', 'classifier.weight', 'pre_classifier.bias', 'pre_classifier.weight']\n",
            "You should probably TRAIN this model on a down-stream task to be able to use it for predictions and inference.\n"
          ]
        },
        {
          "metadata": {
            "tags": null
          },
          "name": "stdout",
          "output_type": "stream",
          "text": [
            "{'loss': 0.4105, 'grad_norm': 13.697263717651367, 'learning_rate': 3.422977435791691e-05, 'epoch': 1.0}\n",
            "{'eval_loss': 0.3821917772293091, 'eval_accuracy': 0.866, 'eval_runtime': 1.8689, 'eval_samples_per_second': 535.079, 'eval_steps_per_second': 66.885, 'epoch': 1.0}\n",
            "{'loss': 0.2236, 'grad_norm': 21.55427360534668, 'learning_rate': 1.7183073980468247e-05, 'epoch': 2.0}\n",
            "{'eval_loss': 0.4971441328525543, 'eval_accuracy': 0.878, 'eval_runtime': 1.8743, 'eval_samples_per_second': 533.531, 'eval_steps_per_second': 66.691, 'epoch': 2.0}\n",
            "{'loss': 0.062, 'grad_norm': 0.06309011578559875, 'learning_rate': 1.3637360301958927e-07, 'epoch': 3.0}\n",
            "{'eval_loss': 0.559089720249176, 'eval_accuracy': 0.885, 'eval_runtime': 1.8774, 'eval_samples_per_second': 532.644, 'eval_steps_per_second': 66.58, 'epoch': 3.0}\n",
            "{'train_runtime': 109.181, 'train_samples_per_second': 109.909, 'train_steps_per_second': 13.739, 'train_loss': 0.23204554239908853, 'epoch': 3.0}\n"
          ]
        },
        {
          "metadata": {
            "tags": null
          },
          "name": "stderr",
          "output_type": "stream",
          "text": [
            "[I 2025-04-24 08:36:37,753] Trial 26 finished with value: 0.885 and parameters: {'epochs': 3, 'batch_size': 8, 'lr': 5.1140101132345975e-05, 'fp16': True}. Best is trial 11 with value: 0.899.\n",
            "Some weights of DistilBertForSequenceClassification were not initialized from the model checkpoint at distilbert-base-uncased and are newly initialized: ['classifier.bias', 'classifier.weight', 'pre_classifier.bias', 'pre_classifier.weight']\n",
            "You should probably TRAIN this model on a down-stream task to be able to use it for predictions and inference.\n"
          ]
        },
        {
          "output_type": "stream",
          "name": "stdout",
          "text": [
            "{'eval_loss': 0.559089720249176, 'eval_accuracy': 0.885, 'eval_runtime': 1.882, 'eval_samples_per_second': 531.361, 'eval_steps_per_second': 66.42, 'epoch': 3.0}\n",
            "{'eval_loss': 0.3460869789123535, 'eval_accuracy': 0.867, 'eval_runtime': 1.7079, 'eval_samples_per_second': 585.517, 'eval_steps_per_second': 36.888, 'epoch': 1.0}\n",
            "{'loss': 0.3544, 'grad_norm': 10.50786018371582, 'learning_rate': 5.68674424046208e-05, 'epoch': 2.0}\n",
            "{'eval_loss': 0.3731202483177185, 'eval_accuracy': 0.865, 'eval_runtime': 1.6869, 'eval_samples_per_second': 592.809, 'eval_steps_per_second': 37.347, 'epoch': 2.0}\n",
            "{'eval_loss': 0.4615080654621124, 'eval_accuracy': 0.88, 'eval_runtime': 1.6825, 'eval_samples_per_second': 594.343, 'eval_steps_per_second': 37.444, 'epoch': 3.0}\n",
            "{'loss': 0.0694, 'grad_norm': 0.0373879037797451, 'learning_rate': 3.3916963660807637e-07, 'epoch': 4.0}\n",
            "{'eval_loss': 0.5249614119529724, 'eval_accuracy': 0.886, 'eval_runtime': 1.6981, 'eval_samples_per_second': 588.887, 'eval_steps_per_second': 37.1, 'epoch': 4.0}\n",
            "{'train_runtime': 111.0622, 'train_samples_per_second': 144.063, 'train_steps_per_second': 9.004, 'train_loss': 0.21190284729003905, 'epoch': 4.0}\n"
          ]
        },
        {
          "output_type": "stream",
          "name": "stderr",
          "text": [
            "[I 2025-04-24 08:38:31,532] Trial 27 finished with value: 0.886 and parameters: {'epochs': 4, 'batch_size': 16, 'lr': 0.00011305654553602545, 'fp16': False}. Best is trial 11 with value: 0.899.\n"
          ]
        },
        {
          "output_type": "stream",
          "name": "stdout",
          "text": [
            "{'eval_loss': 0.5249614119529724, 'eval_accuracy': 0.886, 'eval_runtime': 1.6824, 'eval_samples_per_second': 594.406, 'eval_steps_per_second': 37.448, 'epoch': 4.0}\n"
          ]
        },
        {
          "output_type": "stream",
          "name": "stderr",
          "text": [
            "Some weights of DistilBertForSequenceClassification were not initialized from the model checkpoint at distilbert-base-uncased and are newly initialized: ['classifier.bias', 'classifier.weight', 'pre_classifier.bias', 'pre_classifier.weight']\n",
            "You should probably TRAIN this model on a down-stream task to be able to use it for predictions and inference.\n"
          ]
        },
        {
          "output_type": "stream",
          "name": "stdout",
          "text": [
            "{'eval_loss': 0.6933271288871765, 'eval_accuracy': 0.501, 'eval_runtime': 1.6238, 'eval_samples_per_second': 615.833, 'eval_steps_per_second': 38.798, 'epoch': 1.0}\n",
            "{'loss': 0.6892, 'grad_norm': 1.0369117259979248, 'learning_rate': 0.0001121041205063888, 'epoch': 2.0}\n",
            "{'eval_loss': 0.9428573250770569, 'eval_accuracy': 0.499, 'eval_runtime': 1.6192, 'eval_samples_per_second': 617.573, 'eval_steps_per_second': 38.907, 'epoch': 2.0}\n",
            "{'eval_loss': 0.8768861293792725, 'eval_accuracy': 0.499, 'eval_runtime': 1.6325, 'eval_samples_per_second': 612.556, 'eval_steps_per_second': 38.591, 'epoch': 3.0}\n",
            "{'train_runtime': 82.5438, 'train_samples_per_second': 145.377, 'train_steps_per_second': 9.086, 'train_loss': 0.6526134236653646, 'epoch': 3.0}\n",
            "{'eval_loss': 0.8768861293792725, 'eval_accuracy': 0.499, 'eval_runtime': 1.6188, 'eval_samples_per_second': 617.736, 'eval_steps_per_second': 38.917, 'epoch': 3.0}\n"
          ]
        },
        {
          "output_type": "stream",
          "name": "stderr",
          "text": [
            "[I 2025-04-24 08:39:56,689] Trial 28 finished with value: 0.499 and parameters: {'epochs': 3, 'batch_size': 16, 'lr': 0.0003310161038574472, 'fp16': True}. Best is trial 11 with value: 0.899.\n",
            "Some weights of DistilBertForSequenceClassification were not initialized from the model checkpoint at distilbert-base-uncased and are newly initialized: ['classifier.bias', 'classifier.weight', 'pre_classifier.bias', 'pre_classifier.weight']\n",
            "You should probably TRAIN this model on a down-stream task to be able to use it for predictions and inference.\n"
          ]
        },
        {
          "output_type": "stream",
          "name": "stdout",
          "text": [
            "{'eval_loss': 0.31135106086730957, 'eval_accuracy': 0.875, 'eval_runtime': 1.6879, 'eval_samples_per_second': 592.458, 'eval_steps_per_second': 37.325, 'epoch': 1.0}\n",
            "{'loss': 0.3051, 'grad_norm': 12.255331039428711, 'learning_rate': 1.3128379215350328e-05, 'epoch': 2.0}\n",
            "{'eval_loss': 0.350922554731369, 'eval_accuracy': 0.884, 'eval_runtime': 1.6877, 'eval_samples_per_second': 592.513, 'eval_steps_per_second': 37.328, 'epoch': 2.0}\n",
            "{'eval_loss': 0.46585285663604736, 'eval_accuracy': 0.874, 'eval_runtime': 1.6995, 'eval_samples_per_second': 588.401, 'eval_steps_per_second': 37.069, 'epoch': 3.0}\n",
            "{'loss': 0.0855, 'grad_norm': 0.07962312549352646, 'learning_rate': 1.0440062994314375e-07, 'epoch': 4.0}\n",
            "{'eval_loss': 0.5094494223594666, 'eval_accuracy': 0.881, 'eval_runtime': 1.6923, 'eval_samples_per_second': 590.897, 'eval_steps_per_second': 37.227, 'epoch': 4.0}\n",
            "{'train_runtime': 111.19, 'train_samples_per_second': 143.898, 'train_steps_per_second': 8.994, 'train_loss': 0.19527862167358398, 'epoch': 4.0}\n",
            "{'eval_loss': 0.5094494223594666, 'eval_accuracy': 0.881, 'eval_runtime': 1.6813, 'eval_samples_per_second': 594.772, 'eval_steps_per_second': 37.471, 'epoch': 4.0}\n"
          ]
        },
        {
          "output_type": "stream",
          "name": "stderr",
          "text": [
            "[I 2025-04-24 08:41:50,578] Trial 29 finished with value: 0.881 and parameters: {'epochs': 4, 'batch_size': 16, 'lr': 2.610015748578594e-05, 'fp16': True}. Best is trial 11 with value: 0.899.\n"
          ]
        }
      ]
    },
    {
      "cell_type": "code",
      "source": [
        "def summarize_results(results, label):\n",
        "    print(f\"\\n===== {label} Results =====\")\n",
        "    print(\"(Epochs, Batch, LR, FP16)\\tEval Accuracy\\tTime (s)\\tGPU Memory (MB)\")\n",
        "    best = None\n",
        "    for i, r in enumerate(results):\n",
        "        print(f\"{i}\\t{r['params']}\\t{r['accuracy']:.4f}\\t{r['time']:.2f}\\t{r['memory']:.1f}\")\n",
        "        if best is None or r[\"accuracy\"] > best[\"accuracy\"]:\n",
        "            best = r\n",
        "    print(f\"\\nBest {label} Params: {best['params']} with accuracy {best['accuracy']:.4f}\")\n",
        "\n",
        "summarize_results(grid_results, \"Grid Search\")\n",
        "summarize_results(random_results, \"Random Search\")\n",
        "summarize_results(optuna_results, \"Optuna\")"
      ],
      "metadata": {
        "colab": {
          "base_uri": "https://localhost:8080/"
        },
        "id": "kuyO5hMvsQyK",
        "outputId": "95e41ead-f02d-43d8-b558-919bf2d46393"
      },
      "execution_count": null,
      "outputs": [
        {
          "output_type": "stream",
          "name": "stdout",
          "text": [
            "\n",
            "===== Grid Search Results =====\n",
            "(Epochs, Batch, LR, FP16)\tEval Accuracy\tTime (s)\tGPU Memory (MB)\n",
            "0\t(2, 8, 2e-05, True)\t0.8850\t83.54\t1325.0\n",
            "1\t(2, 8, 2e-05, False)\t0.8870\t74.38\t1324.4\n",
            "2\t(2, 8, 5e-05, True)\t0.8700\t75.00\t1321.4\n",
            "3\t(2, 8, 5e-05, False)\t0.8700\t75.50\t1323.6\n",
            "4\t(2, 16, 2e-05, True)\t0.8850\t57.89\t1722.2\n",
            "5\t(2, 16, 2e-05, False)\t0.8850\t57.55\t1722.2\n",
            "6\t(2, 16, 5e-05, True)\t0.8920\t57.61\t1721.4\n",
            "7\t(2, 16, 5e-05, False)\t0.8920\t57.61\t1721.4\n",
            "8\t(3, 8, 2e-05, True)\t0.8880\t111.93\t1322.4\n",
            "9\t(3, 8, 2e-05, False)\t0.8820\t111.77\t1325.1\n",
            "10\t(3, 8, 5e-05, True)\t0.8900\t111.79\t1322.1\n",
            "11\t(3, 8, 5e-05, False)\t0.8900\t111.81\t1322.4\n",
            "12\t(3, 16, 2e-05, True)\t0.8850\t85.59\t1726.4\n",
            "13\t(3, 16, 2e-05, False)\t0.8850\t85.66\t1721.4\n",
            "14\t(3, 16, 5e-05, True)\t0.8840\t85.61\t1721.5\n",
            "15\t(3, 16, 5e-05, False)\t0.8840\t85.42\t1721.4\n",
            "\n",
            "Best Grid Search Params: (2, 16, 5e-05, True) with accuracy 0.8920\n",
            "\n",
            "===== Random Search Results =====\n",
            "(Epochs, Batch, LR, FP16)\tEval Accuracy\tTime (s)\tGPU Memory (MB)\n",
            "0\t(2, 8, 1e-05, False)\t0.8900\t75.20\t1323.4\n",
            "1\t(2, 8, 1e-05, False)\t0.8870\t75.22\t1323.6\n",
            "2\t(2, 8, 1e-05, False)\t0.8870\t75.19\t1323.6\n",
            "3\t(2, 8, 1e-05, False)\t0.8870\t75.21\t1323.6\n",
            "\n",
            "Best Random Search Params: (2, 8, 1e-05, False) with accuracy 0.8900\n",
            "\n",
            "===== Optuna Results =====\n",
            "(Epochs, Batch, LR, FP16)\tEval Accuracy\tTime (s)\tGPU Memory (MB)\n",
            "0\t(4, 16, 2.4290027640454002e-05, True)\t0.8770\t113.35\t1721.4\n",
            "1\t(4, 8, 2.0861637211586308e-05, True)\t0.8800\t148.04\t1323.9\n",
            "2\t(2, 16, 0.00015429560103705288, True)\t0.8800\t57.65\t1721.5\n",
            "3\t(2, 16, 2.223016026446861e-05, False)\t0.8840\t57.74\t1724.0\n",
            "4\t(3, 16, 0.00017500491641653454, True)\t0.8510\t85.28\t1721.4\n",
            "5\t(2, 16, 4.6017951948236584e-05, True)\t0.8790\t57.66\t1721.4\n",
            "6\t(2, 8, 0.00016060940383372124, True)\t0.8230\t74.94\t1322.6\n",
            "7\t(4, 16, 1.0974330084236398e-05, True)\t0.8900\t113.34\t1721.5\n",
            "8\t(3, 16, 0.00047095271916024856, False)\t0.5010\t84.48\t1722.2\n",
            "9\t(3, 16, 3.648070249540461e-05, False)\t0.8730\t85.40\t1724.0\n",
            "10\t(4, 8, 1.0044848275795722e-05, False)\t0.8790\t148.19\t1324.4\n",
            "11\t(3, 16, 1.1296695976152327e-05, False)\t0.8990\t85.49\t1724.0\n",
            "12\t(3, 16, 1.2031691117118311e-05, False)\t0.8870\t85.50\t1721.5\n",
            "13\t(4, 16, 1.473120078572638e-05, False)\t0.8890\t113.48\t1721.5\n",
            "14\t(3, 8, 7.590765372874325e-05, True)\t0.8900\t111.42\t1323.6\n",
            "15\t(4, 16, 4.616055686250756e-05, False)\t0.8810\t113.09\t1722.2\n",
            "16\t(3, 16, 1.5622938813288103e-05, False)\t0.8920\t85.54\t1721.4\n",
            "17\t(3, 16, 8.133818480841472e-05, False)\t0.8790\t85.46\t1721.4\n",
            "18\t(3, 8, 1.8178446455774603e-05, False)\t0.8820\t111.80\t1323.6\n",
            "19\t(3, 16, 3.0227619344718673e-05, False)\t0.8800\t85.49\t1726.4\n",
            "20\t(2, 16, 1.6276943736371987e-05, False)\t0.8870\t57.72\t1724.0\n",
            "21\t(4, 16, 1.0776321460728753e-05, True)\t0.8900\t113.32\t1721.5\n",
            "22\t(3, 16, 1.4610925681028165e-05, False)\t0.8880\t85.41\t1724.0\n",
            "23\t(3, 16, 1.001303266048577e-05, True)\t0.8900\t85.51\t1721.4\n",
            "24\t(4, 16, 2.7092810325235867e-05, False)\t0.8740\t113.30\t1721.4\n",
            "25\t(3, 16, 1.5111520401217932e-05, False)\t0.8890\t85.50\t1721.4\n",
            "26\t(3, 8, 5.1140101132345975e-05, True)\t0.8850\t111.41\t1323.4\n",
            "27\t(4, 16, 0.00011305654553602545, False)\t0.8860\t113.09\t1730.0\n",
            "28\t(3, 16, 0.0003310161038574472, True)\t0.4990\t84.51\t1721.4\n",
            "29\t(4, 16, 2.610015748578594e-05, True)\t0.8810\t113.21\t1721.4\n",
            "\n",
            "Best Optuna Params: (3, 16, 1.1296695976152327e-05, False) with accuracy 0.8990\n"
          ]
        }
      ]
    },
    {
      "cell_type": "code",
      "source": [
        "def plot_results(results, title):\n",
        "    accs = [r['accuracy'] for r in results]\n",
        "    times = [r['time'] for r in results]\n",
        "    mems = [r['memory'] for r in results]\n",
        "\n",
        "    fig, axs = plt.subplots(1, 3, figsize=(18, 5))\n",
        "    axs[0].plot(accs, marker='o'); axs[0].set_title(f\"{title} - Accuracy\"); axs[0].set_ylabel(\"Accuracy\")\n",
        "    axs[1].plot(times, marker='o'); axs[1].set_title(f\"{title} - Time\"); axs[1].set_ylabel(\"Time (s)\")\n",
        "    axs[2].plot(mems, marker='o'); axs[2].set_title(f\"{title} - GPU Memory\"); axs[2].set_ylabel(\"Memory (MB)\")\n",
        "    for ax in axs: ax.set_xlabel(\"Trial\")\n",
        "    plt.show()\n",
        "\n",
        "plot_results(grid_results, \"Grid Search\")\n",
        "plot_results(random_results, \"Random Search\")\n",
        "plot_results(optuna_results, \"Optuna\")"
      ],
      "metadata": {
        "colab": {
          "base_uri": "https://localhost:8080/",
          "height": 1000
        },
        "id": "BPYGfFchsTZU",
        "outputId": "aa3432e1-9fa9-4710-b7d9-7d9cd18c0e3e"
      },
      "execution_count": null,
      "outputs": [
        {
          "output_type": "display_data",
          "data": {
            "text/plain": [
              "<Figure size 1800x500 with 3 Axes>"
            ],
            "image/png": "[encoded data removed]"
          },
          "metadata": {}
        },
        {
          "output_type": "display_data",
          "data": {
            "text/plain": [
              "<Figure size 1800x500 with 3 Axes>"
            ],
            "image/png": "[encoded data removed]"
          },
          "metadata": {}
        },
        {
          "output_type": "display_data",
          "data": {
            "text/plain": [
              "<Figure size 1800x500 with 3 Axes>"
            ],
            "image/png": "[encoded data removed]"
          },
          "metadata": {}
        }
      ]
    },
    {
      "cell_type": "code",
      "source": [],
      "metadata": {
        "id": "H-HRmcvWsV-q"
      },
      "execution_count": null,
      "outputs": []
    }
  ]
}